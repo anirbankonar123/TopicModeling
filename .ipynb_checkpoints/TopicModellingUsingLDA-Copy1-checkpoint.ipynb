{
 "cells": [
  {
   "cell_type": "markdown",
   "metadata": {},
   "source": [
    "# Import sklearn news groups data"
   ]
  },
  {
   "cell_type": "code",
   "execution_count": 1,
   "metadata": {},
   "outputs": [],
   "source": [
    "import pandas as pd\n",
    "import numpy as np\n",
    "import re\n",
    "import nltk"
   ]
  },
  {
   "cell_type": "markdown",
   "metadata": {},
   "source": [
    "# Inspect the data "
   ]
  },
  {
   "cell_type": "code",
   "execution_count": 4,
   "metadata": {},
   "outputs": [
    {
     "data": {
      "text/html": [
       "<div>\n",
       "<style scoped>\n",
       "    .dataframe tbody tr th:only-of-type {\n",
       "        vertical-align: middle;\n",
       "    }\n",
       "\n",
       "    .dataframe tbody tr th {\n",
       "        vertical-align: top;\n",
       "    }\n",
       "\n",
       "    .dataframe thead th {\n",
       "        text-align: right;\n",
       "    }\n",
       "</style>\n",
       "<table border=\"1\" class=\"dataframe\">\n",
       "  <thead>\n",
       "    <tr style=\"text-align: right;\">\n",
       "      <th></th>\n",
       "      <th>Date</th>\n",
       "      <th>Subject*</th>\n",
       "      <th>Call Type</th>\n",
       "      <th>Assigned</th>\n",
       "      <th>Call Object Identifier</th>\n",
       "      <th>Call Recording</th>\n",
       "      <th>Case Number</th>\n",
       "      <th>Case Owner*</th>\n",
       "      <th>Case Subject</th>\n",
       "      <th>Case Status</th>\n",
       "      <th>Case Origin*</th>\n",
       "      <th>Reason*</th>\n",
       "      <th>Case Description</th>\n",
       "      <th>Count of Comments</th>\n",
       "      <th>Last Case Comment</th>\n",
       "      <th>Account Brand and Type</th>\n",
       "      <th>SAP ID</th>\n",
       "      <th>Account Name</th>\n",
       "      <th>Contact Name</th>\n",
       "    </tr>\n",
       "  </thead>\n",
       "  <tbody>\n",
       "    <tr>\n",
       "      <th>0</th>\n",
       "      <td>11/15/2017</td>\n",
       "      <td>Call 11/15/2017, 3:04:13 PM</td>\n",
       "      <td>Inbound</td>\n",
       "      <td>Debra Greenlee</td>\n",
       "      <td>104792934020171115</td>\n",
       "      <td>http://10.64.30.192:8091/?callid=1047929340</td>\n",
       "      <td>972606.0</td>\n",
       "      <td>Debra Greenlee</td>\n",
       "      <td>JDF credits</td>\n",
       "      <td>Closed</td>\n",
       "      <td>Phone</td>\n",
       "      <td>Credit</td>\n",
       "      <td>Valerie called about duplicate JDF credits on ...</td>\n",
       "      <td>1.0</td>\n",
       "      <td>Valerie called about duplicate JDF credits on ...</td>\n",
       "      <td>National - Dealer</td>\n",
       "      <td>1033841.0</td>\n",
       "      <td>MIDWAY CO-OP LURAY</td>\n",
       "      <td>Valerie Werthmann</td>\n",
       "    </tr>\n",
       "    <tr>\n",
       "      <th>1</th>\n",
       "      <td>6/7/2018</td>\n",
       "      <td>Call 6/7/2018, 8:27:51 AM</td>\n",
       "      <td>Inbound</td>\n",
       "      <td>Debra Greenlee</td>\n",
       "      <td>304737374990180607</td>\n",
       "      <td>http://10.64.30.192:8091/?callid=3047373749</td>\n",
       "      <td>1296323.0</td>\n",
       "      <td>Debra Greenlee</td>\n",
       "      <td>Farmflex Financing reversal</td>\n",
       "      <td>Closed</td>\n",
       "      <td>Phone</td>\n",
       "      <td>Credit</td>\n",
       "      <td>Lisa called entered in a farmflex invoice in e...</td>\n",
       "      <td>1.0</td>\n",
       "      <td>Lisa called entered in a farmflex invoice in e...</td>\n",
       "      <td>National - Dealer</td>\n",
       "      <td>3383451.0</td>\n",
       "      <td>GREENPOINT AG ALTHEIMER</td>\n",
       "      <td>Lisa Waddle</td>\n",
       "    </tr>\n",
       "    <tr>\n",
       "      <th>2</th>\n",
       "      <td>5/10/2018</td>\n",
       "      <td>Call 5/10/2018, 3:11:45 PM</td>\n",
       "      <td>Inbound</td>\n",
       "      <td>Debra Greenlee</td>\n",
       "      <td>304730318670180510</td>\n",
       "      <td>http://10.64.30.192:8091/?callid=3047303186</td>\n",
       "      <td>1267970.0</td>\n",
       "      <td>Debra Greenlee</td>\n",
       "      <td>New C3 user registration</td>\n",
       "      <td>Closed</td>\n",
       "      <td>Phone</td>\n",
       "      <td>Systems Support</td>\n",
       "      <td>Lisa Waddle needed assistance with registering...</td>\n",
       "      <td>1.0</td>\n",
       "      <td>Lisa Waddle needed assistance with registering...</td>\n",
       "      <td>National - Dealer</td>\n",
       "      <td>3383451.0</td>\n",
       "      <td>GREENPOINT AG ALTHEIMER</td>\n",
       "      <td>Lisa Waddle</td>\n",
       "    </tr>\n",
       "    <tr>\n",
       "      <th>3</th>\n",
       "      <td>3/7/2018</td>\n",
       "      <td>Call 3/7/2018, 2:34:32 PM</td>\n",
       "      <td>Inbound</td>\n",
       "      <td>Debra Greenlee</td>\n",
       "      <td>204726086060180307</td>\n",
       "      <td>http://10.64.30.192:8091/?callid=2047260860</td>\n",
       "      <td>1144423.0</td>\n",
       "      <td>Debra Greenlee</td>\n",
       "      <td>MyMonsanto Issue</td>\n",
       "      <td>Closed</td>\n",
       "      <td>Phone</td>\n",
       "      <td>Manage Customer Accounts</td>\n",
       "      <td>Rahul, Darrell Scott with SAP: 1032247 AGRI AF...</td>\n",
       "      <td>2.0</td>\n",
       "      <td>Darrell called trying access C3 User access to...</td>\n",
       "      <td>National - Dealer</td>\n",
       "      <td>1032247.0</td>\n",
       "      <td>AGRI AFC DECATUR</td>\n",
       "      <td>Darrell Scott</td>\n",
       "    </tr>\n",
       "    <tr>\n",
       "      <th>4</th>\n",
       "      <td>6/18/2018</td>\n",
       "      <td>Call 6/18/2018, 10:09:15 AM</td>\n",
       "      <td>Inbound</td>\n",
       "      <td>Debra Greenlee</td>\n",
       "      <td>304740583190180618</td>\n",
       "      <td>http://10.64.30.192:8091/?callid=3047405831</td>\n",
       "      <td>1305717.0</td>\n",
       "      <td>Debra Greenlee</td>\n",
       "      <td>Farmflex</td>\n",
       "      <td>Closed</td>\n",
       "      <td>Phone</td>\n",
       "      <td>Credit</td>\n",
       "      <td>Jennie looking for farmflex credit on three gr...</td>\n",
       "      <td>1.0</td>\n",
       "      <td>Jennie looking for farmflex credit on three gr...</td>\n",
       "      <td>National - Dealer</td>\n",
       "      <td>3623699.0</td>\n",
       "      <td>TALLAHATCHIE F S CHARLESTON</td>\n",
       "      <td>Jennie Mullen</td>\n",
       "    </tr>\n",
       "  </tbody>\n",
       "</table>\n",
       "</div>"
      ],
      "text/plain": [
       "         Date                     Subject* Call Type        Assigned  \\\n",
       "0  11/15/2017  Call 11/15/2017, 3:04:13 PM   Inbound  Debra Greenlee   \n",
       "1    6/7/2018    Call 6/7/2018, 8:27:51 AM   Inbound  Debra Greenlee   \n",
       "2   5/10/2018   Call 5/10/2018, 3:11:45 PM   Inbound  Debra Greenlee   \n",
       "3    3/7/2018    Call 3/7/2018, 2:34:32 PM   Inbound  Debra Greenlee   \n",
       "4   6/18/2018  Call 6/18/2018, 10:09:15 AM   Inbound  Debra Greenlee   \n",
       "\n",
       "  Call Object Identifier                               Call Recording  \\\n",
       "0     104792934020171115  http://10.64.30.192:8091/?callid=1047929340   \n",
       "1     304737374990180607  http://10.64.30.192:8091/?callid=3047373749   \n",
       "2     304730318670180510  http://10.64.30.192:8091/?callid=3047303186   \n",
       "3     204726086060180307  http://10.64.30.192:8091/?callid=2047260860   \n",
       "4     304740583190180618  http://10.64.30.192:8091/?callid=3047405831   \n",
       "\n",
       "   Case Number     Case Owner*                 Case Subject Case Status  \\\n",
       "0     972606.0  Debra Greenlee                  JDF credits      Closed   \n",
       "1    1296323.0  Debra Greenlee  Farmflex Financing reversal      Closed   \n",
       "2    1267970.0  Debra Greenlee     New C3 user registration      Closed   \n",
       "3    1144423.0  Debra Greenlee             MyMonsanto Issue      Closed   \n",
       "4    1305717.0  Debra Greenlee                     Farmflex      Closed   \n",
       "\n",
       "  Case Origin*                   Reason*  \\\n",
       "0        Phone                    Credit   \n",
       "1        Phone                    Credit   \n",
       "2        Phone           Systems Support   \n",
       "3        Phone  Manage Customer Accounts   \n",
       "4        Phone                    Credit   \n",
       "\n",
       "                                    Case Description  Count of Comments  \\\n",
       "0  Valerie called about duplicate JDF credits on ...                1.0   \n",
       "1  Lisa called entered in a farmflex invoice in e...                1.0   \n",
       "2  Lisa Waddle needed assistance with registering...                1.0   \n",
       "3  Rahul, Darrell Scott with SAP: 1032247 AGRI AF...                2.0   \n",
       "4  Jennie looking for farmflex credit on three gr...                1.0   \n",
       "\n",
       "                                   Last Case Comment Account Brand and Type  \\\n",
       "0  Valerie called about duplicate JDF credits on ...      National - Dealer   \n",
       "1  Lisa called entered in a farmflex invoice in e...      National - Dealer   \n",
       "2  Lisa Waddle needed assistance with registering...      National - Dealer   \n",
       "3  Darrell called trying access C3 User access to...      National - Dealer   \n",
       "4  Jennie looking for farmflex credit on three gr...      National - Dealer   \n",
       "\n",
       "      SAP ID                 Account Name       Contact Name  \n",
       "0  1033841.0           MIDWAY CO-OP LURAY  Valerie Werthmann  \n",
       "1  3383451.0      GREENPOINT AG ALTHEIMER        Lisa Waddle  \n",
       "2  3383451.0      GREENPOINT AG ALTHEIMER        Lisa Waddle  \n",
       "3  1032247.0             AGRI AFC DECATUR      Darrell Scott  \n",
       "4  3623699.0  TALLAHATCHIE F S CHARLESTON      Jennie Mullen  "
      ]
     },
     "execution_count": 4,
     "metadata": {},
     "output_type": "execute_result"
    }
   ],
   "source": [
    "sfdc_data = pd.read_csv('C:/Users/GCNDP/SFDC.csv')\n",
    "sfdc_data.head()"
   ]
  },
  {
   "cell_type": "code",
   "execution_count": 87,
   "metadata": {},
   "outputs": [],
   "source": [
    "import re\n",
    "import nltk\n",
    "import string\n",
    "exclude = set(string.punctuation) \n",
    "wpt = nltk.WordPunctTokenizer()\n",
    "stop_words = nltk.corpus.stopwords.words('english')\n",
    "newStopWords = ['lb','j','df','jdf']\n",
    "stop_words.extend(newStopWords)\n",
    "table = str.maketrans('', '', string.punctuation)\n",
    "from nltk.stem.porter import PorterStemmer\n",
    "porter = PorterStemmer()\n",
    "\n",
    "def normalize_document(doc):\n",
    "    # lower case and remove special characters\\whitespaces\n",
    "   # doc = re.sub(r'[^a-zA-Z0-9\\s]', '', doc, re.I)\n",
    "   # doc = doc.lower()\n",
    "   # doc = doc.strip()\n",
    "    # tokenize document\n",
    "    tokens = doc.split()\n",
    "    # remove punctuation from each word\n",
    "    tokens = [w.translate(table) for w in tokens]\n",
    "    #wpt.tokenize(doc)\n",
    "    # convert to lower case\n",
    "    lower_tokens = [w.lower() for w in tokens]\n",
    "    #remove spaces\n",
    "    stripped = [w.strip() for w in lower_tokens]\n",
    "    # remove remaining tokens that are not alphabetic\n",
    "    words = [word for word in stripped if word.isalpha()]\n",
    "    # filter stopwords out of document\n",
    "    filtered_tokens = [token for token in words if token not in stop_words]\n",
    "    #apply Stemming\n",
    "    #stemmed = [porter.stem(word) for word in filtered_tokens]\n",
    "    # re-create document from filtered tokens\n",
    "    doc = ' '.join(filtered_tokens)\n",
    "    return doc\n",
    "\n",
    "normalize_corpus = np.vectorize(normalize_document)"
   ]
  },
  {
   "cell_type": "code",
   "execution_count": 88,
   "metadata": {},
   "outputs": [
    {
     "name": "stdout",
     "output_type": "stream",
     "text": [
      "Jennie looking for farmflex credit on three growers.\n"
     ]
    }
   ],
   "source": [
    "corpus = sfdc_data['Case Description'].astype(str)\n",
    "print(corpus[4])"
   ]
  },
  {
   "cell_type": "code",
   "execution_count": 89,
   "metadata": {},
   "outputs": [
    {
     "name": "stdout",
     "output_type": "stream",
     "text": [
      "jennie looking farmflex credit three growers\n"
     ]
    }
   ],
   "source": [
    "norm_corpus = normalize_corpus(corpus)\n",
    "print(norm_corpus[4])\n",
    "corpus_df = pd.DataFrame(norm_corpus)\n",
    "#print(corpus_df)"
   ]
  },
  {
   "cell_type": "code",
   "execution_count": 16,
   "metadata": {},
   "outputs": [],
   "source": [
    "import numpy as np\n",
    "\n",
    "from sklearn.feature_extraction.text import TfidfVectorizer, CountVectorizer\n",
    "from sklearn.feature_selection import SelectKBest\n",
    "from sklearn.feature_selection import f_classif\n",
    "\n",
    "# Vectorization parameters\n",
    "\n",
    "# Range (inclusive) of n-gram sizes for tokenizing text.\n",
    "NGRAM_RANGE = (1, 2)\n",
    "\n",
    "# Limit on the number of features. We use the top 20K features.\n",
    "TOP_K = 20000\n",
    "\n",
    "# Whether text should be split into word or character n-grams.\n",
    "# One of 'word', 'char'.\n",
    "TOKEN_MODE = 'word'\n",
    "\n",
    "# Minimum document/corpus frequency below which a token will be discarded.\n",
    "MIN_DOCUMENT_FREQUENCY = 2\n",
    "\n",
    "# Maximum document/corpus frequency below which a token will be discarded.\n",
    "MAX_DOCUMENT_FREQUENCY = 0.95\n",
    "\n",
    "MAX_FEATURES = 12000\n",
    "\n",
    "\n",
    "def ngram_vectorize(norm_corpus):\n",
    "    \"\"\"Vectorizes texts as ngram vectors.\n",
    "\n",
    "    1 text = 1 tf-idf vector the length of vocabulary of uni-grams + bi-grams.\n",
    "\n",
    "    # Arguments\n",
    "        train_texts: list, training text strings.\n",
    "        train_labels: np.ndarray, training labels.\n",
    "        val_texts: list, validation text strings.\n",
    "\n",
    "    # Returns\n",
    "        x_train, x_val: vectorized training and validation texts\n",
    "    \"\"\"\n",
    "    # Create keyword arguments to pass to the 'tf-idf' vectorizer.\n",
    "    kwargs = {\n",
    "            'ngram_range': NGRAM_RANGE,  # Use 1-grams + 2-grams.\n",
    "            'dtype': 'int32',\n",
    "            'strip_accents': 'unicode',\n",
    "            'decode_error': 'replace',\n",
    "            'analyzer': TOKEN_MODE,  # Split text into word tokens.\n",
    "            'min_df': MIN_DOCUMENT_FREQUENCY,\n",
    "            'max_df': MAX_DOCUMENT_FREQUENCY,\n",
    "            'max_features' : MAX_FEATURES,\n",
    "    }\n",
    "    vectorizer = TfidfVectorizer(**kwargs)\n",
    "\n",
    "    # Learn vocabulary from training texts and vectorize training texts.\n",
    "    tfidf = vectorizer.fit_transform(norm_corpus)\n",
    "   \n",
    "    tfidf = tfidf.astype('float32')\n",
    "    return tfidf"
   ]
  },
  {
   "cell_type": "code",
   "execution_count": 17,
   "metadata": {},
   "outputs": [
    {
     "name": "stdout",
     "output_type": "stream",
     "text": [
      "(263, 774)\n"
     ]
    }
   ],
   "source": [
    "tfidf = ngram_vectorize(norm_corpus)\n",
    "print(tfidf.shape)"
   ]
  },
  {
   "cell_type": "markdown",
   "metadata": {},
   "source": [
    "# Unsupervised Topic modeling using LDA"
   ]
  },
  {
   "cell_type": "code",
   "execution_count": 90,
   "metadata": {},
   "outputs": [],
   "source": [
    "from nltk.corpus import stopwords \n",
    "from nltk.stem.wordnet import WordNetLemmatizer\n",
    "import string\n",
    "stop = set(stopwords.words('english'))\n",
    "exclude = set(string.punctuation) \n",
    "lemma = WordNetLemmatizer()\n",
    "def clean(doc):\n",
    "    stop_free = \" \".join([i for i in doc.lower().split() if i not in stop])\n",
    "    punc_free = ''.join(ch for ch in stop_free if ch not in exclude)\n",
    "    normalized = \" \".join(lemma.lemmatize(word) for word in punc_free.split())\n",
    "    return normalized\n",
    "\n",
    "doc_clean = [clean(doc).split() for doc in norm_corpus]   "
   ]
  },
  {
   "cell_type": "code",
   "execution_count": 91,
   "metadata": {},
   "outputs": [
    {
     "name": "stdout",
     "output_type": "stream",
     "text": [
      "[[(0, 1), (1, 1), (2, 1), (3, 1), (4, 1), (5, 1)]]\n"
     ]
    }
   ],
   "source": [
    "import gensim\n",
    "from gensim import corpora\n",
    "\n",
    "dictionary = corpora.Dictionary(doc_clean)\n",
    "\n",
    "# Converting list of documents (corpus) into Document Term Matrix using dictionary prepared above.\n",
    "doc_term_matrix = [dictionary.doc2bow(doc) for doc in doc_clean]\n",
    "print(doc_term_matrix[:1])"
   ]
  },
  {
   "cell_type": "code",
   "execution_count": 92,
   "metadata": {},
   "outputs": [
    {
     "data": {
      "text/plain": [
       "'reverse'"
      ]
     },
     "execution_count": 92,
     "metadata": {},
     "output_type": "execute_result"
    }
   ],
   "source": [
    "dictionary[14]"
   ]
  },
  {
   "cell_type": "code",
   "execution_count": 93,
   "metadata": {},
   "outputs": [],
   "source": [
    "Lda = gensim.models.ldamodel.LdaModel\n",
    "\n",
    "# Running and Trainign LDA model on the document term matrix.\n",
    "\n",
    "lda_model = gensim.models.ldamodel.LdaModel(corpus=doc_term_matrix,\n",
    "                                           id2word=dictionary,\n",
    "                                           num_topics=12, \n",
    "                                           random_state=100,\n",
    "                                           update_every=1,\n",
    "                                           chunksize=100,\n",
    "                                           passes=10,\n",
    "                                           alpha='auto',\n",
    "                                           per_word_topics=True)"
   ]
  },
  {
   "cell_type": "code",
   "execution_count": 94,
   "metadata": {},
   "outputs": [
    {
     "name": "stdout",
     "output_type": "stream",
     "text": [
      "[(0, '0.059*\"brian\" + 0.037*\"grower\" + 0.036*\"everything\"'), (1, '0.037*\"bag\" + 0.037*\"customer\" + 0.035*\"back\"'), (2, '0.070*\"know\" + 0.061*\"let\" + 0.045*\"bag\"'), (3, '0.034*\"want\" + 0.030*\"user\" + 0.025*\"mymonsanto\"'), (4, '0.045*\"need\" + 0.022*\"report\" + 0.022*\"way\"'), (5, '0.067*\"return\" + 0.039*\"dsm\" + 0.027*\"called\"'), (6, '0.063*\"said\" + 0.044*\"dealer\" + 0.042*\"ready\"'), (7, '0.088*\"transaction\" + 0.085*\"required\" + 0.085*\"po\"'), (8, '0.041*\"add\" + 0.036*\"delivery\" + 0.036*\"order\"'), (9, '0.109*\"please\" + 0.085*\"laura\" + 0.077*\"send\"'), (10, '0.037*\"account\" + 0.030*\"give\" + 0.029*\"called\"'), (11, '0.044*\"issue\" + 0.037*\"mymonsanto\" + 0.034*\"id\"')]\n"
     ]
    }
   ],
   "source": [
    "print(lda_model.print_topics(num_topics=12, num_words=3))"
   ]
  },
  {
   "cell_type": "code",
   "execution_count": 95,
   "metadata": {},
   "outputs": [
    {
     "name": "stdout",
     "output_type": "stream",
     "text": [
      "\n",
      "Perplexity:  -6.453987030169217\n",
      "\n",
      "Coherence Score:  0.38358039554591383\n"
     ]
    }
   ],
   "source": [
    "from gensim.models import CoherenceModel\n",
    "# Compute Perplexity\n",
    "print('\\nPerplexity: ', lda_model.log_perplexity(doc_term_matrix))  # a measure of how good the model is. lower the better.\n",
    "\n",
    "# Compute Coherence Score\n",
    "coherence_model_lda = CoherenceModel(model=lda_model, texts=doc_clean, dictionary=dictionary, coherence='c_v')\n",
    "coherence_lda = coherence_model_lda.get_coherence()\n",
    "print('\\nCoherence Score: ', coherence_lda)"
   ]
  },
  {
   "cell_type": "code",
   "execution_count": 96,
   "metadata": {},
   "outputs": [
    {
     "name": "stderr",
     "output_type": "stream",
     "text": [
      "C:\\Continuum\\anaconda3\\lib\\site-packages\\pyLDAvis\\_prepare.py:257: FutureWarning: Sorting because non-concatenation axis is not aligned. A future version\n",
      "of pandas will change to not sort by default.\n",
      "\n",
      "To accept the future behavior, pass 'sort=True'.\n",
      "\n",
      "To retain the current behavior and silence the warning, pass sort=False\n",
      "\n",
      "  return pd.concat([default_term_info] + list(topic_dfs))\n"
     ]
    },
    {
     "data": {
      "text/html": [
       "\n",
       "<link rel=\"stylesheet\" type=\"text/css\" href=\"https://cdn.rawgit.com/bmabey/pyLDAvis/files/ldavis.v1.0.0.css\">\n",
       "\n",
       "\n",
       "<div id=\"ldavis_el46643317793123879659901\"></div>\n",
       "<script type=\"text/javascript\">\n",
       "\n",
       "var ldavis_el46643317793123879659901_data = {\"mdsDat\": {\"x\": [-0.053119563017574464, -0.09930098635636482, -0.037886064055573695, -0.06910487773752587, 0.3799461642418082, -0.0175519896055801, -0.00705155802640391, -0.005497607068358143, -0.013461896201212952, -0.05025726006414177, -0.03155054251511606, 0.00483618040604443], \"y\": [0.20999159086397673, 0.17593867524137508, -0.1832193962502958, -0.1158164622220831, 0.028058459565525665, -0.07177140209954613, 0.08888466219325276, 0.004428907716428967, -0.05921217614300558, -0.018508302154506655, -0.026609972120112527, -0.03216458459101001], \"topics\": [1, 2, 3, 4, 5, 6, 7, 8, 9, 10, 11, 12], \"cluster\": [1, 1, 1, 1, 1, 1, 1, 1, 1, 1, 1, 1], \"Freq\": [13.423161506652832, 13.279436111450195, 12.913003921508789, 11.909262657165527, 11.791424751281738, 6.600322723388672, 6.348222732543945, 6.247409820556641, 4.978045463562012, 4.737662315368652, 4.343234062194824, 3.428812265396118]}, \"tinfo\": {\"Category\": [\"Default\", \"Default\", \"Default\", \"Default\", \"Default\", \"Default\", \"Default\", \"Default\", \"Default\", \"Default\", \"Default\", \"Default\", \"Default\", \"Default\", \"Default\", \"Default\", \"Default\", \"Default\", \"Default\", \"Default\", \"Default\", \"Default\", \"Default\", \"Default\", \"Default\", \"Default\", \"Default\", \"Default\", \"Default\", \"Default\", \"Topic1\", \"Topic1\", \"Topic1\", \"Topic1\", \"Topic1\", \"Topic1\", \"Topic1\", \"Topic1\", \"Topic1\", \"Topic1\", \"Topic1\", \"Topic1\", \"Topic1\", \"Topic1\", \"Topic1\", \"Topic1\", \"Topic1\", \"Topic1\", \"Topic1\", \"Topic1\", \"Topic1\", \"Topic1\", \"Topic1\", \"Topic1\", \"Topic1\", \"Topic1\", \"Topic1\", \"Topic1\", \"Topic1\", \"Topic1\", \"Topic1\", \"Topic1\", \"Topic1\", \"Topic1\", \"Topic1\", \"Topic1\", \"Topic1\", \"Topic1\", \"Topic1\", \"Topic1\", \"Topic1\", \"Topic1\", \"Topic1\", \"Topic2\", \"Topic2\", \"Topic2\", \"Topic2\", \"Topic2\", \"Topic2\", \"Topic2\", \"Topic2\", \"Topic2\", \"Topic2\", \"Topic2\", \"Topic2\", \"Topic2\", \"Topic2\", \"Topic2\", \"Topic2\", \"Topic2\", \"Topic2\", \"Topic2\", \"Topic2\", \"Topic2\", \"Topic2\", \"Topic2\", \"Topic2\", \"Topic2\", \"Topic2\", \"Topic2\", \"Topic2\", \"Topic2\", \"Topic2\", \"Topic2\", \"Topic2\", \"Topic2\", \"Topic2\", \"Topic2\", \"Topic2\", \"Topic2\", \"Topic2\", \"Topic2\", \"Topic2\", \"Topic2\", \"Topic2\", \"Topic2\", \"Topic2\", \"Topic2\", \"Topic2\", \"Topic3\", \"Topic3\", \"Topic3\", \"Topic3\", \"Topic3\", \"Topic3\", \"Topic3\", \"Topic3\", \"Topic3\", \"Topic3\", \"Topic3\", \"Topic3\", \"Topic3\", \"Topic3\", \"Topic3\", \"Topic3\", \"Topic3\", \"Topic3\", \"Topic3\", \"Topic3\", \"Topic3\", \"Topic3\", \"Topic3\", \"Topic3\", \"Topic3\", \"Topic3\", \"Topic3\", \"Topic3\", \"Topic3\", \"Topic3\", \"Topic3\", \"Topic3\", \"Topic3\", \"Topic3\", \"Topic3\", \"Topic3\", \"Topic3\", \"Topic3\", \"Topic3\", \"Topic3\", \"Topic3\", \"Topic3\", \"Topic3\", \"Topic4\", \"Topic4\", \"Topic4\", \"Topic4\", \"Topic4\", \"Topic4\", \"Topic4\", \"Topic4\", \"Topic4\", \"Topic4\", \"Topic4\", \"Topic4\", \"Topic4\", \"Topic4\", \"Topic4\", \"Topic4\", \"Topic4\", \"Topic4\", \"Topic4\", \"Topic4\", \"Topic4\", \"Topic4\", \"Topic4\", \"Topic4\", \"Topic4\", \"Topic4\", \"Topic4\", \"Topic4\", \"Topic4\", \"Topic4\", \"Topic4\", \"Topic4\", \"Topic4\", \"Topic4\", \"Topic4\", \"Topic4\", \"Topic4\", \"Topic4\", \"Topic4\", \"Topic4\", \"Topic4\", \"Topic4\", \"Topic4\", \"Topic4\", \"Topic4\", \"Topic4\", \"Topic5\", \"Topic5\", \"Topic5\", \"Topic5\", \"Topic5\", \"Topic5\", \"Topic5\", \"Topic5\", \"Topic5\", \"Topic5\", \"Topic5\", \"Topic5\", \"Topic5\", \"Topic5\", \"Topic5\", \"Topic5\", \"Topic5\", \"Topic5\", \"Topic5\", \"Topic5\", \"Topic5\", \"Topic5\", \"Topic5\", \"Topic5\", \"Topic5\", \"Topic5\", \"Topic5\", \"Topic5\", \"Topic5\", \"Topic5\", \"Topic5\", \"Topic5\", \"Topic5\", \"Topic5\", \"Topic5\", \"Topic5\", \"Topic5\", \"Topic5\", \"Topic6\", \"Topic6\", \"Topic6\", \"Topic6\", \"Topic6\", \"Topic6\", \"Topic6\", \"Topic6\", \"Topic6\", \"Topic6\", \"Topic6\", \"Topic6\", \"Topic6\", \"Topic6\", \"Topic6\", \"Topic6\", \"Topic6\", \"Topic6\", \"Topic6\", \"Topic6\", \"Topic6\", \"Topic6\", \"Topic6\", \"Topic6\", \"Topic6\", \"Topic6\", \"Topic6\", \"Topic6\", \"Topic6\", \"Topic6\", \"Topic6\", \"Topic6\", \"Topic6\", \"Topic6\", \"Topic6\", \"Topic6\", \"Topic6\", \"Topic6\", \"Topic6\", \"Topic6\", \"Topic6\", \"Topic6\", \"Topic6\", \"Topic7\", \"Topic7\", \"Topic7\", \"Topic7\", \"Topic7\", \"Topic7\", \"Topic7\", \"Topic7\", \"Topic7\", \"Topic7\", \"Topic7\", \"Topic7\", \"Topic7\", \"Topic7\", \"Topic7\", \"Topic7\", \"Topic7\", \"Topic7\", \"Topic7\", \"Topic7\", \"Topic7\", \"Topic7\", \"Topic7\", \"Topic7\", \"Topic7\", \"Topic7\", \"Topic7\", \"Topic7\", \"Topic7\", \"Topic7\", \"Topic7\", \"Topic7\", \"Topic7\", \"Topic7\", \"Topic7\", \"Topic7\", \"Topic7\", \"Topic7\", \"Topic7\", \"Topic7\", \"Topic7\", \"Topic7\", \"Topic7\", \"Topic8\", \"Topic8\", \"Topic8\", \"Topic8\", \"Topic8\", \"Topic8\", \"Topic8\", \"Topic8\", \"Topic8\", \"Topic8\", \"Topic8\", \"Topic8\", \"Topic8\", \"Topic8\", \"Topic8\", \"Topic8\", \"Topic8\", \"Topic8\", \"Topic8\", \"Topic8\", \"Topic8\", \"Topic8\", \"Topic8\", \"Topic8\", \"Topic8\", \"Topic8\", \"Topic8\", \"Topic8\", \"Topic8\", \"Topic8\", \"Topic8\", \"Topic8\", \"Topic8\", \"Topic8\", \"Topic8\", \"Topic8\", \"Topic8\", \"Topic8\", \"Topic8\", \"Topic8\", \"Topic8\", \"Topic9\", \"Topic9\", \"Topic9\", \"Topic9\", \"Topic9\", \"Topic9\", \"Topic9\", \"Topic9\", \"Topic9\", \"Topic9\", \"Topic9\", \"Topic9\", \"Topic9\", \"Topic9\", \"Topic9\", \"Topic9\", \"Topic9\", \"Topic9\", \"Topic9\", \"Topic9\", \"Topic9\", \"Topic9\", \"Topic9\", \"Topic9\", \"Topic9\", \"Topic9\", \"Topic9\", \"Topic9\", \"Topic9\", \"Topic9\", \"Topic9\", \"Topic9\", \"Topic9\", \"Topic9\", \"Topic9\", \"Topic9\", \"Topic9\", \"Topic9\", \"Topic9\", \"Topic9\", \"Topic9\", \"Topic10\", \"Topic10\", \"Topic10\", \"Topic10\", \"Topic10\", \"Topic10\", \"Topic10\", \"Topic10\", \"Topic10\", \"Topic10\", \"Topic10\", \"Topic10\", \"Topic10\", \"Topic10\", \"Topic10\", \"Topic10\", \"Topic10\", \"Topic10\", \"Topic10\", \"Topic10\", \"Topic10\", \"Topic10\", \"Topic10\", \"Topic10\", \"Topic10\", \"Topic10\", \"Topic10\", \"Topic10\", \"Topic10\", \"Topic10\", \"Topic10\", \"Topic10\", \"Topic10\", \"Topic10\", \"Topic10\", \"Topic10\", \"Topic10\", \"Topic10\", \"Topic10\", \"Topic10\", \"Topic10\", \"Topic10\", \"Topic10\", \"Topic11\", \"Topic11\", \"Topic11\", \"Topic11\", \"Topic11\", \"Topic11\", \"Topic11\", \"Topic11\", \"Topic11\", \"Topic11\", \"Topic11\", \"Topic11\", \"Topic11\", \"Topic11\", \"Topic11\", \"Topic11\", \"Topic11\", \"Topic11\", \"Topic11\", \"Topic11\", \"Topic11\", \"Topic11\", \"Topic11\", \"Topic11\", \"Topic11\", \"Topic11\", \"Topic11\", \"Topic11\", \"Topic11\", \"Topic11\", \"Topic11\", \"Topic11\", \"Topic11\", \"Topic11\", \"Topic11\", \"Topic11\", \"Topic11\", \"Topic11\", \"Topic11\", \"Topic11\", \"Topic11\", \"Topic11\", \"Topic11\", \"Topic12\", \"Topic12\", \"Topic12\", \"Topic12\", \"Topic12\", \"Topic12\", \"Topic12\", \"Topic12\", \"Topic12\", \"Topic12\", \"Topic12\", \"Topic12\", \"Topic12\", \"Topic12\", \"Topic12\", \"Topic12\", \"Topic12\", \"Topic12\", \"Topic12\", \"Topic12\", \"Topic12\", \"Topic12\", \"Topic12\", \"Topic12\", \"Topic12\", \"Topic12\", \"Topic12\", \"Topic12\", \"Topic12\", \"Topic12\", \"Topic12\", \"Topic12\", \"Topic12\", \"Topic12\", \"Topic12\", \"Topic12\", \"Topic12\", \"Topic12\", \"Topic12\", \"Topic12\"], \"Freq\": [48.0, 43.0, 42.0, 42.0, 37.0, 33.0, 30.0, 34.0, 30.0, 30.0, 38.0, 30.0, 26.0, 33.0, 23.0, 46.0, 15.0, 19.0, 35.0, 17.0, 50.0, 39.0, 18.0, 10.0, 22.0, 16.0, 16.0, 18.0, 13.0, 25.0, 43.04375076293945, 41.77496337890625, 41.77496337890625, 16.287307739257812, 7.146698951721191, 5.5642805099487305, 4.865070343017578, 4.6511945724487305, 4.651192665100098, 4.437303066253662, 4.123462200164795, 3.9519126415252686, 3.909700870513916, 3.7379748821258545, 11.070858001708984, 5.9059247970581055, 3.52408504486084, 2.996645212173462, 2.7827281951904297, 2.7827281951904297, 2.4691312313079834, 2.2972941398620605, 2.2972941398620605, 5.461148262023926, 2.25526762008667, 2.2552671432495117, 2.25526762008667, 2.25526762008667, 2.25526762008667, 2.25526762008667, 2.25526762008667, 3.5239646434783936, 17.87445831298828, 4.4373040199279785, 5.489134311676025, 6.952572345733643, 4.903670787811279, 5.966084003448486, 4.477026462554932, 5.631875991821289, 4.38671875, 3.410536527633667, 4.0671563148498535, 8.583502769470215, 7.906776428222656, 6.640870094299316, 5.768372058868408, 5.3468170166015625, 6.890835285186768, 4.616961479187012, 4.5931549072265625, 4.446263790130615, 4.446237087249756, 4.138050556182861, 4.138046741485596, 4.0247368812561035, 3.716569662094116, 3.545635461807251, 13.971780776977539, 3.1241612434387207, 17.97560691833496, 2.8159101009368896, 2.702622652053833, 2.702092409133911, 2.643702745437622, 1.9730165004730225, 1.9730125665664673, 1.973005771636963, 1.973006248474121, 4.1628851890563965, 3.1240789890289307, 1.8020846843719482, 1.8020800352096558, 16.782617568969727, 8.263136863708496, 6.240600109100342, 13.585064888000488, 16.693449020385742, 18.105985641479492, 14.036128044128418, 5.462033748626709, 7.099093437194824, 6.088201999664307, 5.357312202453613, 4.606496334075928, 7.636148929595947, 4.606691360473633, 5.07777738571167, 4.608417987823486, 16.22336196899414, 11.166138648986816, 10.854323387145996, 9.620882987976074, 8.336230278015137, 8.336228370666504, 9.44360065460205, 7.642575263977051, 7.433349132537842, 10.94222640991211, 6.003202438354492, 5.627660751342773, 5.627660751342773, 5.627660751342773, 5.627660751342773, 5.36713981628418, 5.245792865753174, 4.724804878234863, 4.72480583190918, 4.724804878234863, 14.377793312072754, 3.4400978088378906, 3.4400672912597656, 5.367149829864502, 4.724806785583496, 2.537250280380249, 2.537238121032715, 2.2767395973205566, 2.2767395973205566, 2.2767395973205566, 2.2767395973205566, 2.2767395973205566, 11.044027328491211, 6.996577739715576, 6.741239070892334, 11.88336181640625, 9.023512840270996, 5.476022720336914, 6.612412929534912, 9.883761405944824, 6.084852695465088, 5.998068809509277, 5.867754936218262, 8.24902057647705, 6.333642482757568, 4.770101547241211, 4.770040512084961, 4.163658142089844, 3.980635166168213, 3.601898670196533, 3.448174238204956, 3.342123031616211, 3.191159963607788, 3.191077947616577, 2.96340012550354, 26.453325271606445, 30.271230697631836, 13.943079948425293, 2.401517868041992, 4.056241512298584, 2.324779748916626, 2.218719720840454, 2.218719720840454, 1.9909093379974365, 1.8399487733840942, 1.8399487733840942, 1.8399487733840942, 1.8399487733840942, 1.8399487733840942, 1.8399487733840942, 1.763108253479004, 1.7631053924560547, 1.4292070865631104, 12.783891677856445, 19.53313636779785, 3.526211977005005, 16.495582580566406, 4.908271312713623, 6.217379570007324, 2.2681849002838135, 3.5699429512023926, 3.835344076156616, 6.831165790557861, 5.637930393218994, 4.820555686950684, 3.5249736309051514, 4.303987503051758, 3.826864242553711, 3.589876413345337, 36.45575714111328, 33.178287506103516, 29.832820892333984, 29.393768310546875, 29.39377212524414, 26.200531005859375, 47.11448287963867, 28.614057540893555, 10.757508277893066, 31.574077606201172, 4.049529075622559, 2.351259708404541, 2.35123610496521, 2.1731786727905273, 1.8171007633209229, 1.7341644763946533, 1.734159231185913, 1.4381335973739624, 1.4381335973739624, 1.2951123714447021, 1.2951123714447021, 4.749567985534668, 1.1170876026153564, 1.1170876026153564, 1.1170876026153564, 1.117087483406067, 0.9390254616737366, 0.9390177130699158, 1.5561176538467407, 0.6780374050140381, 0.6780374050140381, 2.0118587017059326, 1.8360843658447266, 1.4381343126296997, 3.4599199295043945, 2.8683297634124756, 1.4604557752609253, 1.5521514415740967, 5.7531280517578125, 3.5671651363372803, 3.344546318054199, 3.0858800411224365, 3.0858800411224365, 2.538815498352051, 2.0576016902923584, 2.057586431503296, 2.05757737159729, 2.0575625896453857, 2.0575451850891113, 1.9008471965789795, 1.705680251121521, 1.705680251121521, 1.7056554555892944, 1.5763723850250244, 1.5763663053512573, 1.5763663053512573, 1.5763663053512573, 1.5763663053512573, 1.5763663053512573, 1.5763663053512573, 1.5763258934020996, 1.5763258934020996, 1.5763258934020996, 1.5763258934020996, 1.5763258934020996, 1.5763258934020996, 1.5763258934020996, 1.5104806423187256, 16.11011505126953, 9.334951400756836, 5.44493293762207, 5.227827548980713, 5.036554336547852, 6.554929733276367, 3.2091736793518066, 2.0576024055480957, 2.2133865356445312, 1.7057080268859863, 1.705680251121521, 1.7491024732589722, 1.5763719081878662, 9.487875938415527, 6.260127067565918, 5.6158766746521, 4.820730209350586, 4.4486165046691895, 4.076498031616211, 4.076457977294922, 3.925586700439453, 3.553428888320923, 3.5531415939331055, 2.858253002166748, 2.6370882987976074, 2.1140546798706055, 1.7419501543045044, 1.7419459819793701, 1.7419379949569702, 1.7419321537017822, 1.7419148683547974, 1.741912603378296, 1.7419066429138184, 1.5910428762435913, 4.233423709869385, 5.6158833503723145, 5.061631679534912, 1.2189280986785889, 1.2189280986785889, 1.2189280986785889, 1.2189280986785889, 1.2189280986785889, 1.2189280986785889, 1.2189280986785889, 8.438080787658691, 2.515876293182373, 2.3862016201019287, 5.614470958709717, 4.54294490814209, 8.259174346923828, 3.747300386428833, 3.0233452320098877, 3.55326771736145, 2.72956919670105, 2.22872257232666, 1.8229650259017944, 14.316012382507324, 9.414543151855469, 4.488229751586914, 4.428171157836914, 4.345249176025391, 4.049188613891602, 3.254157066345215, 3.1111409664154053, 3.1111371517181396, 2.351072311401367, 1.8770582675933838, 1.8770489692687988, 1.87704598903656, 1.8770240545272827, 1.891622543334961, 1.7340410947799683, 9.509861946105957, 1.4379725456237793, 1.4379725456237793, 1.4379725456237793, 1.4379725456237793, 1.4379725456237793, 1.295040488243103, 1.295040488243103, 6.541983604431152, 1.1169990301132202, 1.1169993877410889, 1.1169990301132202, 3.7609331607818604, 0.9389647841453552, 9.962636947631836, 5.986233711242676, 2.235053300857544, 4.8721089363098145, 4.020770072937012, 1.8770514726638794, 4.2170867919921875, 2.0550761222839355, 2.055067539215088, 2.925748825073242, 2.3612313270568848, 8.027061462402344, 5.808054447174072, 4.958607196807861, 3.830350399017334, 2.5118680000305176, 2.511866569519043, 2.5118660926818848, 2.1955339908599854, 2.1955385208129883, 2.0428261756896973, 2.042830467224121, 2.042701482772827, 2.005363702774048, 1.8526268005371094, 1.3835736513137817, 1.2836583852767944, 3.640134572982788, 6.273498058319092, 3.1710798740386963, 1.3835827112197876, 0.7243581414222717, 0.724357545375824, 0.724357545375824, 0.724357545375824, 0.724357545375824, 0.724357545375824, 0.7243565320968628, 0.7243565320968628, 0.7243556380271912, 0.7243556380271912, 6.752971649169922, 0.7243556380271912, 3.9221980571746826, 3.996631383895874, 1.7295492887496948, 2.111720085144043, 1.561525583267212, 2.1112136840820312, 1.8526268005371094, 2.7111122608184814, 0.7243612408638, 5.210062503814697, 4.6619672775268555, 4.262314796447754, 3.0478711128234863, 2.500612258911133, 2.500612258911133, 2.5000929832458496, 2.246518850326538, 1.82549250125885, 1.6984680891036987, 1.5403287410736084, 1.5403162240982056, 1.2773807048797607, 1.2773807048797607, 1.2773807048797607, 1.2773807048797607, 1.2773807048797607, 1.2773807048797607, 1.2773807048797607, 1.2773807048797607, 1.2773807048797607, 1.2773807048797607, 1.2773807048797607, 1.2773807048797607, 1.2773807048797607, 1.150360345840454, 3.880498170852661, 0.9922173023223877, 0.9922173023223877, 0.9922173023223877, 0.9922173023223877, 1.878522515296936, 6.336034774780273, 2.1298506259918213, 4.198204040527344, 4.952312469482422, 1.696334719657898, 2.534458637237549, 1.7987710237503052, 2.0942351818084717, 1.7994931936264038, 1.581060528755188, 1.3447295427322388, 9.348054885864258, 2.8633599281311035, 2.4258244037628174, 2.343179225921631, 1.8707444667816162, 1.8707444667816162, 1.8707444667816162, 1.8707444667816162, 1.7282096147537231, 5.661128520965576, 1.550777554512024, 1.550777554512024, 1.550777554512024, 1.550777554512024, 1.550777554512024, 4.782963275909424, 1.1132498979568481, 1.1131930351257324, 3.9636590480804443, 0.9358046054840088, 1.9722373485565186, 0.6757203340530396, 0.6757203340530396, 0.6757203340530396, 0.6757159233093262, 0.6757159233093262, 0.6757159233093262, 0.6757159233093262, 1.9883044958114624, 1.5507760047912598, 1.8707444667816162, 5.879683494567871, 1.49500572681427, 1.7433170080184937, 2.9255192279815674, 1.1131902933120728, 2.20412015914917, 1.8707425594329834, 1.5507771968841553, 2.0753095149993896, 2.0298476219177246, 1.645845890045166, 1.550777554512024, 2.8161439895629883, 2.7289769649505615, 2.080200433731079, 2.080195426940918, 2.080195426940918, 1.4741766452789307, 1.386983036994934, 1.0626177787780762, 1.0626177787780762, 1.0626177787780762, 1.0626177787780762, 1.0626177787780762, 1.0626177787780762, 1.0626168251037598, 1.0626168251037598, 1.0626168251037598, 1.0626168251037598, 1.0626143217086792, 1.0626143217086792, 1.0626143217086792, 1.0626143217086792, 1.0626143217086792, 1.0626143217086792, 1.0626143217086792, 1.0626143217086792, 1.0626143217086792, 1.0626143217086792, 1.062606692314148, 1.062606692314148, 1.062606692314148, 1.062606692314148, 1.062606692314148, 1.062606692314148, 1.062606692314148, 1.062606692314148, 1.062606692314148, 5.664787292480469, 2.1649301052093506, 1.8472179174423218, 1.0626165866851807], \"Term\": [\"please\", \"transaction\", \"po\", \"required\", \"laura\", \"send\", \"date\", \"update\", \"bucket\", \"ylaspick\", \"know\", \"complete\", \"weigle\", \"let\", \"return\", \"bag\", \"said\", \"mymonsanto\", \"would\", \"dealer\", \"called\", \"order\", \"need\", \"brian\", \"customer\", \"want\", \"check\", \"grower\", \"ready\", \"back\", \"transaction\", \"po\", \"required\", \"check\", \"jim\", \"still\", \"alfalfa\", \"since\", \"jason\", \"he\", \"taken\", \"ken\", \"kristina\", \"tim\", \"ship\", \"payment\", \"already\", \"quite\", \"deadline\", \"passed\", \"showed\", \"trucking\", \"possible\", \"sure\", \"great\", \"treated\", \"extra\", \"dawley\", \"really\", \"treatment\", \"sold\", \"due\", \"would\", \"wasnt\", \"shipped\", \"told\", \"could\", \"see\", \"like\", \"corn\", \"bag\", \"sent\", \"called\", \"vm\", \"going\", \"walter\", \"ordered\", \"benjamin\", \"also\", \"rod\", \"matt\", \"bean\", \"added\", \"message\", \"put\", \"worked\", \"saying\", \"jeff\", \"left\", \"couple\", \"customer\", \"actually\", \"placed\", \"store\", \"mistake\", \"ben\", \"wait\", \"shipping\", \"correct\", \"receiving\", \"question\", \"robert\", \"supposed\", \"back\", \"stock\", \"wanting\", \"call\", \"order\", \"bag\", \"would\", \"like\", \"dealer\", \"told\", \"seed\", \"new\", \"called\", \"delivery\", \"account\", \"see\", \"want\", \"refund\", \"balance\", \"able\", \"dj\", \"criders\", \"connect\", \"hold\", \"requested\", \"showing\", \"error\", \"joseph\", \"linville\", \"long\", \"dewayne\", \"anytime\", \"per\", \"outstanding\", \"dont\", \"gotten\", \"user\", \"login\", \"review\", \"request\", \"money\", \"b\", \"debra\", \"richards\", \"melicia\", \"locked\", \"crm\", \"acces\", \"access\", \"go\", \"statement\", \"mymonsanto\", \"needed\", \"getting\", \"sent\", \"called\", \"winfield\", \"let\", \"know\", \"scheduled\", \"lot\", \"paid\", \"year\", \"standard\", \"talk\", \"undershipped\", \"copy\", \"lisa\", \"k\", \"transferred\", \"empty\", \"let\", \"know\", \"invoice\", \"printing\", \"box\", \"matching\", \"assistance\", \"waddle\", \"program\", \"breaking\", \"stop\", \"reynolds\", \"quantity\", \"mouse\", \"damage\", \"untr\", \"paper\", \"kris\", \"winfield\", \"bag\", \"soybean\", \"called\", \"help\", \"needed\", \"son\", \"businesslink\", \"information\", \"back\", \"corn\", \"get\", \"john\", \"wanted\", \"ready\", \"return\", \"laura\", \"send\", \"date\", \"ylaspick\", \"bucket\", \"weigle\", \"please\", \"complete\", \"nan\", \"update\", \"pick\", \"dale\", \"justin\", \"hour\", \"avoid\", \"grant\", \"coop\", \"sewell\", \"thank\", \"agric\", \"commodity\", \"pallet\", \"overnight\", \"heidi\", \"file\", \"duckworth\", \"west\", \"bobbi\", \"mymon\", \"person\", \"keller\", \"tony\", \"contact\", \"jon\", \"access\", \"need\", \"ship\", \"order\", \"set\", \"direct\", \"list\", \"mercer\", \"vu\", \"dave\", \"ron\", \"research\", \"earl\", \"pat\", \"hill\", \"stuart\", \"prdt\", \"janet\", \"mark\", \"chilton\", \"perspective\", \"discussion\", \"hub\", \"might\", \"mitchellville\", \"sara\", \"dlr\", \"exists\", \"figure\", \"longer\", \"oas\", \"owes\", \"ocker\", \"move\", \"return\", \"dsm\", \"dealership\", \"farm\", \"grower\", \"called\", \"order\", \"getting\", \"account\", \"trying\", \"enter\", \"look\", \"jonathan\", \"add\", \"unit\", \"cannot\", \"size\", \"preference\", \"fulfilled\", \"place\", \"tomorrow\", \"something\", \"create\", \"take\", \"location\", \"schedule\", \"change\", \"soon\", \"happening\", \"asap\", \"day\", \"didnt\", \"noticed\", \"palletize\", \"truck\", \"attached\", \"hybrid\", \"pure\", \"dairy\", \"conventional\", \"category\", \"birch\", \"aa\", \"twin\", \"delivery\", \"make\", \"following\", \"wanted\", \"seed\", \"order\", \"account\", \"get\", \"bag\", \"customer\", \"update\", \"work\", \"said\", \"load\", \"went\", \"week\", \"talked\", \"try\", \"pull\", \"applied\", \"last\", \"address\", \"forward\", \"elvin\", \"personal\", \"scott\", \"may\", \"hubner\", \"ready\", \"whats\", \"tl\", \"merle\", \"inventory\", \"either\", \"phils\", \"guy\", \"look\", \"march\", \"charles\", \"presently\", \"full\", \"shed\", \"dealer\", \"farm\", \"sap\", \"corn\", \"need\", \"prefer\", \"order\", \"reason\", \"pallet\", \"account\", \"get\", \"issue\", \"bill\", \"transfer\", \"dan\", \"partner\", \"troy\", \"unable\", \"additional\", \"tried\", \"cable\", \"isa\", \"approve\", \"determine\", \"graded\", \"sub\", \"however\", \"enter\", \"id\", \"trying\", \"another\", \"taylor\", \"pending\", \"none\", \"familiar\", \"karen\", \"sounded\", \"discus\", \"emulate\", \"clearing\", \"browser\", \"mymonsanto\", \"resolve\", \"help\", \"stock\", \"contact\", \"information\", \"accessing\", \"new\", \"everything\", \"account\", \"currently\", \"give\", \"tyler\", \"time\", \"hunter\", \"approved\", \"f\", \"dennis\", \"luke\", \"thought\", \"hesterman\", \"pay\", \"prior\", \"explained\", \"brand\", \"license\", \"unlicensed\", \"tech\", \"settled\", \"licensed\", \"merged\", \"sampsell\", \"purchased\", \"potter\", \"past\", \"richard\", \"select\", \"vision\", \"wesly\", \"rasco\", \"needing\", \"joey\", \"regarding\", \"account\", \"full\", \"call\", \"called\", \"got\", \"get\", \"confirm\", \"told\", \"dsm\", \"corn\", \"truck\", \"brian\", \"financing\", \"beja\", \"password\", \"reiff\", \"daryls\", \"zeiset\", \"availability\", \"kevin\", \"everything\", \"ff\", \"asking\", \"financial\", \"jones\", \"wyatt\", \"looking\", \"mm\", \"two\", \"credit\", \"newberry\", \"system\", \"trial\", \"experience\", \"asgrowdekalb\", \"persontwo\", \"anderson\", \"entity\", \"different\", \"team\", \"missing\", \"prefer\", \"grower\", \"tab\", \"farmflex\", \"could\", \"brent\", \"sent\", \"dealership\", \"statement\", \"would\", \"order\", \"know\", \"farm\", \"report\", \"way\", \"misshipped\", \"crop\", \"double\", \"emailed\", \"paperwork\", \"s\", \"numbersneed\", \"le\", \"inboundhe\", \"expensive\", \"cornhas\", \"flagged\", \"prioritize\", \"production\", \"territory\", \"albano\", \"hwy\", \"bloomville\", \"bradley\", \"frank\", \"st\", \"smith\", \"roger\", \"osborne\", \"ny\", \"llc\", \"meadow\", \"myron\", \"returned\", \"act\", \"fnd\", \"bar\", \"came\", \"num\", \"need\", \"email\", \"return\", \"jonathan\"], \"Total\": [48.0, 43.0, 42.0, 42.0, 37.0, 33.0, 30.0, 34.0, 30.0, 30.0, 38.0, 30.0, 26.0, 33.0, 23.0, 46.0, 15.0, 19.0, 35.0, 17.0, 50.0, 39.0, 18.0, 10.0, 22.0, 16.0, 16.0, 18.0, 13.0, 25.0, 43.73493957519531, 42.46611404418945, 42.46611404418945, 16.97846031188965, 7.83790397644043, 6.255508899688721, 5.556242942810059, 5.3423357009887695, 5.342334747314453, 5.128425121307373, 4.814795017242432, 4.643054485321045, 4.600933074951172, 4.429142951965332, 13.161523818969727, 7.046298503875732, 4.215225696563721, 3.687767267227173, 3.4738495349884033, 3.4738495349884033, 3.160292625427246, 2.9884796142578125, 2.9884796142578125, 7.111368179321289, 2.9463887214660645, 2.9463884830474854, 2.9463887214660645, 2.9463887214660645, 2.9463887214660645, 2.9463889598846436, 2.9463889598846436, 4.83229398727417, 35.60248565673828, 6.871993541717529, 9.031490325927734, 15.713534355163574, 9.520069122314453, 14.91028881072998, 10.57168197631836, 18.221040725708008, 46.08208084106445, 13.0927152633667, 50.48952102661133, 9.289339065551758, 8.616064071655273, 7.378819942474365, 6.474213123321533, 6.052750587463379, 7.9246625900268555, 5.323031902313232, 5.299004077911377, 5.152115821838379, 5.152113437652588, 4.843891620635986, 4.843891620635986, 4.73064661026001, 4.422420501708984, 4.251492023468018, 16.87636375427246, 3.8300223350524902, 22.0622501373291, 3.5217902660369873, 3.4085464477539062, 3.4087510108947754, 3.35119366645813, 2.6788527965545654, 2.6788525581359863, 2.6788530349731445, 2.6788558959960938, 5.6743669509887695, 4.299037933349609, 2.5079212188720703, 2.507920742034912, 25.617063522338867, 12.900497436523438, 9.697813987731934, 23.755739212036133, 39.766048431396484, 46.08208084106445, 35.60248565673828, 10.57168197631836, 17.70664405822754, 15.713534355163574, 13.099257469177246, 10.250286102294922, 50.48952102661133, 13.7235107421875, 28.012117385864258, 14.91028881072998, 16.89861488342285, 11.841313362121582, 11.529523849487305, 10.29609203338623, 9.0114107131958, 9.0114107131958, 10.247993469238281, 8.317779541015625, 8.108540534973145, 12.179139137268066, 6.682680606842041, 6.302834987640381, 6.302834510803223, 6.302834510803223, 6.302834510803223, 6.042320251464844, 5.920986652374268, 5.399975776672363, 5.39997673034668, 5.399975776672363, 17.19375991821289, 4.115275859832764, 4.115263938903809, 6.523550033569336, 5.9274373054504395, 3.2124199867248535, 3.212416648864746, 2.951909303665161, 2.951909303665161, 2.951909303665161, 2.951909303665161, 2.951909303665161, 16.73676109313965, 10.21245288848877, 10.028557777404785, 19.27167320251465, 15.838159561157227, 9.007883071899414, 13.0927152633667, 50.48952102661133, 21.50243377685547, 33.04909133911133, 38.32162094116211, 8.935640335083008, 7.0200090408325195, 5.456567764282227, 5.456545829772949, 4.85004997253418, 4.667068958282471, 4.288330078125, 4.134583473205566, 4.028496742248535, 3.877561330795288, 3.8775382041931152, 3.6497669219970703, 33.04909133911133, 38.32162094116211, 17.800142288208008, 3.0880255699157715, 5.216221809387207, 3.0111703872680664, 2.905085802078247, 2.905085802078247, 2.677278995513916, 2.52634334564209, 2.52634334564209, 2.52634334564209, 2.52634334564209, 2.52634334564209, 2.52634334564209, 2.4494740962982178, 2.4494736194610596, 2.115572929382324, 21.50243377685547, 46.08208084106445, 5.955317974090576, 50.48952102661133, 10.597841262817383, 15.838159561157227, 3.5501654148101807, 7.5351972579956055, 8.752189636230469, 25.617063522338867, 18.221040725708008, 15.70161247253418, 8.674443244934082, 15.207079887390137, 13.962152481079102, 23.72132110595703, 37.159244537353516, 33.88271713256836, 30.536405563354492, 30.09735679626465, 30.09735870361328, 26.903947830200195, 48.85997009277344, 30.386505126953125, 11.460905075073242, 34.45456314086914, 4.752945899963379, 3.054677724838257, 3.0546762943267822, 2.87663197517395, 2.5205037593841553, 2.4375810623168945, 2.437584400177002, 2.1415584087371826, 2.1415584087371826, 1.9985402822494507, 1.9985402822494507, 7.447126388549805, 1.8204853534698486, 1.820485234260559, 1.820485234260559, 1.8204853534698486, 1.6424317359924316, 1.6424293518066406, 2.7285478115081787, 1.3814467191696167, 1.3814467191696167, 4.991526126861572, 4.699728488922119, 3.4636588096618652, 16.73676109313965, 18.628334045410156, 13.161523818969727, 39.766048431396484, 6.450671195983887, 4.264708518981934, 4.04208517074585, 3.7834742069244385, 3.7834742069244385, 3.236381769180298, 2.7551465034484863, 2.755145311355591, 2.7551517486572266, 2.7551424503326416, 2.755141258239746, 2.5983877182006836, 2.403219223022461, 2.403219223022461, 2.403214693069458, 2.273914337158203, 2.2739133834838867, 2.2739133834838867, 2.2739133834838867, 2.2739133834838867, 2.2739133834838867, 2.2739133834838867, 2.2739078998565674, 2.2739078998565674, 2.2739078998565674, 2.2739078998565674, 2.2739078998565674, 2.2739078998565674, 2.2739078998565674, 2.208047866821289, 23.72132110595703, 14.663448333740234, 10.979836463928223, 13.340744972229004, 18.19304084777832, 50.48952102661133, 39.766048431396484, 9.007883071899414, 28.012117385864258, 5.50921106338501, 5.97823429107666, 10.107440948486328, 3.2914960384368896, 10.203012466430664, 6.972823143005371, 6.328582763671875, 5.533423900604248, 5.161309719085693, 4.789196968078613, 4.789212703704834, 4.638282299041748, 4.266175746917725, 4.266204833984375, 3.5709991455078125, 3.349799871444702, 2.826770544052124, 2.4546561241149902, 2.4546597003936768, 2.454660177230835, 2.4546573162078857, 2.4546661376953125, 2.454671859741211, 2.454676389694214, 2.303739309310913, 6.236738204956055, 8.77662467956543, 8.000618934631348, 1.9316266775131226, 1.9316266775131226, 1.9316266775131226, 1.9316266775131226, 1.9316266775131226, 1.9316266775131226, 1.9316266775131226, 13.7235107421875, 4.242459774017334, 4.11648416519165, 15.207079887390137, 13.099257469177246, 39.766048431396484, 28.012117385864258, 15.70161247253418, 46.08208084106445, 22.0622501373291, 34.45456314086914, 4.3263068199157715, 15.019439697265625, 10.118050575256348, 5.19166898727417, 5.1315836906433105, 5.048665523529053, 4.752658367156982, 3.957569122314453, 3.8145666122436523, 3.814568042755127, 3.0545074939727783, 2.5804646015167236, 2.5804643630981445, 2.5804646015167236, 2.5804595947265625, 2.6107332706451416, 2.437459945678711, 13.962152481079102, 2.141456365585327, 2.141456365585327, 2.141456365585327, 2.141456365585327, 2.141456365585327, 1.9984509944915771, 1.9984509944915771, 10.107440948486328, 1.8204092979431152, 1.8204123973846436, 1.8204116821289062, 6.544623374938965, 1.6423662900924683, 17.70664405822754, 13.340744972229004, 4.602202415466309, 18.221040725708008, 18.628334045410156, 4.3904643058776855, 39.766048431396484, 7.394129276275635, 7.447126388549805, 28.012117385864258, 15.70161247253418, 8.72641658782959, 6.507308483123779, 5.657850742340088, 4.529585361480713, 3.2111024856567383, 3.2111024856567383, 3.2111029624938965, 2.894845485687256, 2.894852638244629, 2.742075204849243, 2.7420828342437744, 2.742036819458008, 2.7046396732330322, 2.551860809326172, 2.082831621170044, 2.052020311355591, 5.97823429107666, 10.449917793273926, 5.50921106338501, 2.631134033203125, 1.4235950708389282, 1.4235954284667969, 1.4235954284667969, 1.4235954284667969, 1.4235954284667969, 1.4235954284667969, 1.4235965013504028, 1.4235965013504028, 1.423595905303955, 1.423595905303955, 19.27167320251465, 1.423595905303955, 10.597841262817383, 12.900497436523438, 4.699728488922119, 8.752189636230469, 5.489292621612549, 10.250286102294922, 8.160754203796387, 28.012117385864258, 3.8195431232452393, 5.920313358306885, 5.372200012207031, 4.9843974113464355, 3.7590532302856445, 3.210878372192383, 3.210878372192383, 3.2109146118164062, 2.9568023681640625, 2.5357253551483154, 2.408698558807373, 2.2505431175231934, 2.2505455017089844, 1.987614631652832, 1.987614631652832, 1.987614631652832, 1.987614631652832, 1.987614631652832, 1.987614631652832, 1.987614631652832, 1.987614631652832, 1.987614631652832, 1.987614631652832, 1.987614631652832, 1.987614631652832, 1.987614631652832, 1.8605828285217285, 6.505856513977051, 1.7024283409118652, 1.7024283409118652, 1.7024283409118652, 1.7024283409118652, 4.014524459838867, 28.012117385864258, 6.544623374938965, 23.755739212036133, 50.48952102661133, 4.475707530975342, 15.70161247253418, 6.025021076202393, 15.713534355163574, 14.663448333740234, 18.221040725708008, 6.236738204956055, 10.051680564880371, 3.5669753551483154, 3.129445791244507, 3.0468015670776367, 2.5743539333343506, 2.5743539333343506, 2.5743539333343506, 2.5743539333343506, 2.4318323135375977, 8.160754203796387, 2.2543859481811523, 2.2543859481811523, 2.2543859481811523, 2.2543859481811523, 2.2543859481811523, 7.678211212158203, 1.8168565034866333, 1.8168665170669556, 6.701751232147217, 1.6394124031066895, 3.9942996501922607, 1.3793269395828247, 1.3793269395828247, 1.3793269395828247, 1.3793278932571411, 1.3793278932571411, 1.3793278932571411, 1.3793278932571411, 4.069019317626953, 3.6056039333343506, 4.3904643058776855, 18.19304084777832, 3.5651907920837402, 4.44647741317749, 9.520069122314453, 2.830734968185425, 13.0927152633667, 10.979836463928223, 10.028557777404785, 35.60248565673828, 39.766048431396484, 38.32162094116211, 13.340744972229004, 3.535468101501465, 3.448307752609253, 2.7995147705078125, 2.799516201019287, 2.799516201019287, 2.193490982055664, 2.106337785720825, 1.781935214996338, 1.781935214996338, 1.781935214996338, 1.781935214996338, 1.781935214996338, 1.781935214996338, 1.7819347381591797, 1.7819347381591797, 1.7819347381591797, 1.7819347381591797, 1.781935214996338, 1.781935214996338, 1.781935214996338, 1.781935214996338, 1.781935214996338, 1.781935214996338, 1.781935214996338, 1.781935214996338, 1.781935214996338, 1.781935214996338, 1.7819421291351318, 1.7819421291351318, 1.7819421291351318, 1.7819421291351318, 1.7819421291351318, 1.7819421291351318, 1.7819421291351318, 1.7819421291351318, 1.7819421291351318, 18.628334045410156, 8.203067779541016, 23.72132110595703, 3.2914960384368896], \"loglift\": [30.0, 29.0, 28.0, 27.0, 26.0, 25.0, 24.0, 23.0, 22.0, 21.0, 20.0, 19.0, 18.0, 17.0, 16.0, 15.0, 14.0, 13.0, 12.0, 11.0, 10.0, 9.0, 8.0, 7.0, 6.0, 5.0, 4.0, 3.0, 2.0, 1.0, 1.992300033569336, 1.9917999505996704, 1.9917999505996704, 1.966599941253662, 1.9158999919891357, 1.8911000490188599, 1.8753000497817993, 1.8696000576019287, 1.8696000576019287, 1.8633999824523926, 1.8531999588012695, 1.847000002861023, 1.8453999757766724, 1.8385000228881836, 1.8351999521255493, 1.8315999507904053, 1.8291000127792358, 1.8006999492645264, 1.7863999605178833, 1.7863999605178833, 1.7613999843597412, 1.7452000379562378, 1.7452000379562378, 1.7441999912261963, 1.7409000396728516, 1.7409000396728516, 1.7409000396728516, 1.7409000396728516, 1.7409000396728516, 1.7409000396728516, 1.7409000396728516, 1.6924999952316284, 1.319100022315979, 1.5707999467849731, 1.510200023651123, 1.1928000450134277, 1.3447999954223633, 1.0922000408172607, 1.1490000486373901, 0.8341000080108643, -0.34369999170303345, 0.6629999876022339, -0.5105999708175659, 1.9399000406265259, 1.9329999685287476, 1.913599967956543, 1.903499960899353, 1.8948999643325806, 1.8791999816894531, 1.8766000270843506, 1.8760000467300415, 1.8716000318527222, 1.8716000318527222, 1.8615000247955322, 1.8615000247955322, 1.8573999404907227, 1.8451000452041626, 1.837399959564209, 1.8301000595092773, 1.8151999711990356, 1.8141000270843506, 1.795300006866455, 1.7869000434875488, 1.7865999937057495, 1.7818000316619873, 1.7130999565124512, 1.7130999565124512, 1.7130999565124512, 1.7130999565124512, 1.7092000246047974, 1.6996999979019165, 1.6884000301361084, 1.6884000301361084, 1.5959999561309814, 1.5735000371932983, 1.5780999660491943, 1.4601000547409058, 1.1510000228881836, 1.0848000049591064, 1.0881999731063843, 1.3586000204086304, 1.1050000190734863, 1.0707999467849731, 1.124899983406067, 1.219099998474121, 0.13009999692440033, 0.9273999929428101, 0.31119999289512634, 0.8447999954223633, 2.006200075149536, 1.9881999492645264, 1.9866000413894653, 1.979099988937378, 1.969099998474121, 1.969099998474121, 1.9651999473571777, 1.9622999429702759, 1.9600000381469727, 1.9398000240325928, 1.9397000074386597, 1.9335999488830566, 1.9335999488830566, 1.9335999488830566, 1.9335999488830566, 1.9284000396728516, 1.9258999824523926, 1.9134000539779663, 1.9134000539779663, 1.9134000539779663, 1.8681000471115112, 1.8676999807357788, 1.8676999807357788, 1.8517999649047852, 1.820199966430664, 1.8109999895095825, 1.8109999895095825, 1.7871999740600586, 1.7871999740600586, 1.7871999740600586, 1.7871999740600586, 1.7871999740600586, 1.6311999559402466, 1.6686999797821045, 1.6497000455856323, 1.5634000301361084, 1.4843000173568726, 1.5492000579833984, 1.363800048828125, 0.41609999537467957, 0.784600019454956, 0.34040001034736633, 0.1703999936580658, 2.0478999614715576, 2.0250000953674316, 1.993399977684021, 1.993399977684021, 1.9752999544143677, 1.9687999486923218, 1.9534000158309937, 1.9463000297546387, 1.941100001335144, 1.9329999685287476, 1.9329999685287476, 1.9194999933242798, 1.9052000045776367, 1.8919999599456787, 1.8835999965667725, 1.8763999938964844, 1.8762999773025513, 1.8691999912261963, 1.858299970626831, 1.858299970626831, 1.8315999507904053, 1.8107999563217163, 1.8107999563217163, 1.8107999563217163, 1.8107999563217163, 1.8107999563217163, 1.8107999563217163, 1.7991000413894653, 1.7991000413894653, 1.7355999946594238, 1.6079000234603882, 1.2695000171661377, 1.6038000583648682, 1.0091999769210815, 1.3581000566482544, 1.1928000450134277, 1.679800033569336, 1.3808000087738037, 1.3028000593185425, 0.8061000108718872, 0.954800009727478, 0.9470000267028809, 1.2273000478744507, 0.8655999898910522, 0.8335000276565552, 0.23960000276565552, 2.1187000274658203, 2.11680006980896, 2.114500045776367, 2.1140999794006348, 2.1140999794006348, 2.111299991607666, 2.1013998985290527, 2.077699899673462, 2.07450008392334, 2.05049991607666, 1.9775999784469604, 1.876099944114685, 1.876099944114685, 1.8573999404907227, 1.8106000423431396, 1.7972999811172485, 1.7972999811172485, 1.7395999431610107, 1.7395999431610107, 1.7039999961853027, 1.7039999961853027, 1.687999963760376, 1.649399995803833, 1.649399995803833, 1.649399995803833, 1.649399995803833, 1.5786999464035034, 1.5786999464035034, 1.576200008392334, 1.4261000156402588, 1.4261000156402588, 1.229099988937378, 1.1979000568389893, 1.2588000297546387, 0.5613999962806702, 0.2667999863624573, -0.06080000102519989, -1.1055999994277954, 2.603600025177002, 2.539400100708008, 2.528599977493286, 2.51419997215271, 2.51419997215271, 2.4753000736236572, 2.426100015640259, 2.426100015640259, 2.426100015640259, 2.426100015640259, 2.426100015640259, 2.4054999351501465, 2.375200033187866, 2.375200033187866, 2.375200033187866, 2.3517000675201416, 2.3517000675201416, 2.3517000675201416, 2.3517000675201416, 2.3517000675201416, 2.3517000675201416, 2.3517000675201416, 2.351599931716919, 2.351599931716919, 2.351599931716919, 2.351599931716919, 2.351599931716919, 2.351599931716919, 2.351599931716919, 2.338399887084961, 2.3310999870300293, 2.2664999961853027, 2.016700029373169, 1.7812000513076782, 1.4336999654769897, 0.6765000224113464, 0.20110000669956207, 1.2415000200271606, 0.17990000545978546, 1.5456000566482544, 1.4638999700546265, 0.9639000296592712, 1.9817999601364136, 2.684299945831299, 2.649199962615967, 2.637500047683716, 2.6191000938415527, 2.6084001064300537, 2.595900058746338, 2.595900058746338, 2.5901999473571777, 2.574199914932251, 2.5741000175476074, 2.53439998626709, 2.5178000926971436, 2.4665000438690186, 2.4140000343322754, 2.4140000343322754, 2.4140000343322754, 2.4140000343322754, 2.4140000343322754, 2.4140000343322754, 2.4140000343322754, 2.386899948120117, 2.369499921798706, 2.310499906539917, 2.2992000579833984, 2.296600103378296, 2.296600103378296, 2.296600103378296, 2.296600103378296, 2.296600103378296, 2.296600103378296, 2.296600103378296, 2.2706000804901123, 2.234499931335449, 2.211699962615967, 1.760599970817566, 1.6979999542236328, 1.1852999925613403, 0.7454000115394592, 1.1095999479293823, 0.19439999759197235, 0.6672999858856201, 0.018799999728798866, 1.892699956893921, 2.7249999046325684, 2.700900077819824, 2.6273999214172363, 2.6256000995635986, 2.622999906539917, 2.612799882888794, 2.5773000717163086, 2.569200038909912, 2.569200038909912, 2.5113000869750977, 2.454699993133545, 2.454699993133545, 2.454699993133545, 2.454699993133545, 2.4507999420166016, 2.432499885559082, 2.3889999389648438, 2.374799966812134, 2.374799966812134, 2.374799966812134, 2.374799966812134, 2.374799966812134, 2.339200019836426, 2.339200019836426, 2.3380000591278076, 2.284600019454956, 2.284600019454956, 2.284600019454956, 2.2190001010894775, 2.213900089263916, 2.1979000568389893, 1.97160005569458, 2.0506999492645264, 1.4539999961853027, 1.239799976348877, 1.92330002784729, 0.5291000008583069, 1.4925999641418457, 1.4854999780654907, 0.5138999819755554, 0.8784000277519226, 2.916599988937378, 2.8864998817443848, 2.8682000637054443, 2.8324999809265137, 2.754499912261963, 2.754499912261963, 2.754499912261963, 2.723599910736084, 2.723599910736084, 2.7058000564575195, 2.7058000564575195, 2.705699920654297, 2.7009999752044678, 2.6798999309539795, 2.591099977493286, 2.5309998989105225, 2.503999948501587, 2.4899001121520996, 2.4477999210357666, 2.3573999404907227, 2.32450008392334, 2.32450008392334, 2.32450008392334, 2.32450008392334, 2.32450008392334, 2.32450008392334, 2.32450008392334, 2.32450008392334, 2.32450008392334, 2.32450008392334, 1.9515000581741333, 2.32450008392334, 2.0060999393463135, 1.8282999992370605, 2.000499963760376, 1.5782999992370605, 1.7430000305175781, 1.4200999736785889, 1.5174000263214111, 0.664900004863739, 1.337499976158142, 2.921799898147583, 2.9077999591827393, 2.8931000232696533, 2.839900016784668, 2.7995998859405518, 2.7995998859405518, 2.7994000911712646, 2.774899959564209, 2.7209999561309814, 2.7002999782562256, 2.6705000400543213, 2.6703999042510986, 2.6075000762939453, 2.6075000762939453, 2.6075000762939453, 2.6075000762939453, 2.6075000762939453, 2.6075000762939453, 2.6075000762939453, 2.6075000762939453, 2.6075000762939453, 2.6075000762939453, 2.6075000762939453, 2.6075000762939453, 2.6075000762939453, 2.5687999725341797, 2.532900094985962, 2.5097999572753906, 2.5097999572753906, 2.5097999572753906, 2.5097999572753906, 2.2901999950408936, 1.5631999969482422, 1.9270000457763672, 1.316499948501587, 0.7276999950408936, 2.079400062561035, 1.2258000373840332, 1.8408000469207764, 1.0342999696731567, 0.9517999887466431, 0.6050999760627747, 1.5154000520706177, 3.063999891281128, 2.916800022125244, 2.8819000720977783, 2.874000072479248, 2.8173000812530518, 2.8173000812530518, 2.8173000812530518, 2.8173000812530518, 2.7950000762939453, 2.7708001136779785, 2.762399911880493, 2.762399911880493, 2.762399911880493, 2.762399911880493, 2.762399911880493, 2.6631999015808105, 2.646699905395508, 2.646699905395508, 2.611299991607666, 2.575900077819824, 2.4309000968933105, 2.4230000972747803, 2.4230000972747803, 2.4230000972747803, 2.4230000972747803, 2.4230000972747803, 2.4230000972747803, 2.4230000972747803, 2.4203999042510986, 2.292799949645996, 2.2834999561309814, 2.006999969482422, 2.2674999237060547, 2.200200080871582, 1.9565999507904053, 2.203200101852417, 1.3547999858856201, 1.3667999505996704, 1.2698999643325806, 0.29420000314712524, 0.1615000069141388, -0.01119999960064888, 0.984499990940094, 3.1454999446868896, 3.1389999389648438, 3.0759999752044678, 3.0759999752044678, 3.0759999752044678, 2.975600004196167, 2.9551000595092773, 2.8559999465942383, 2.8559999465942383, 2.8559999465942383, 2.8559999465942383, 2.8559999465942383, 2.8559999465942383, 2.8559999465942383, 2.8559999465942383, 2.8559999465942383, 2.8559999465942383, 2.8559999465942383, 2.8559999465942383, 2.8559999465942383, 2.8559999465942383, 2.8559999465942383, 2.8559999465942383, 2.8559999465942383, 2.8559999465942383, 2.8559999465942383, 2.8559999465942383, 2.8559999465942383, 2.8559999465942383, 2.8559999465942383, 2.8559999465942383, 2.8559999465942383, 2.8559999465942383, 2.8559999465942383, 2.8559999465942383, 2.8559999465942383, 2.182499885559082, 2.040800094604492, 0.8202999830245972, 2.242300033569336], \"logprob\": [30.0, 29.0, 28.0, 27.0, 26.0, 25.0, 24.0, 23.0, 22.0, 21.0, 20.0, 19.0, 18.0, 17.0, 16.0, 15.0, 14.0, 13.0, 12.0, 11.0, 10.0, 9.0, 8.0, 7.0, 6.0, 5.0, 4.0, 3.0, 2.0, 1.0, -2.4333999156951904, -2.463399887084961, -2.463399887084961, -3.4052999019622803, -4.229000091552734, -4.479300022125244, -4.61359977722168, -4.6585001945495605, -4.6585001945495605, -4.705599784851074, -4.7789998054504395, -4.821499824523926, -4.832200050354004, -4.877099990844727, -3.791300058364868, -4.4197001457214355, -4.935999870300293, -5.098199844360352, -5.1722002029418945, -5.1722002029418945, -5.291800022125244, -5.363900184631348, -5.363900184631348, -4.498000144958496, -5.382400035858154, -5.382400035858154, -5.382400035858154, -5.382400035858154, -5.382400035858154, -5.382400035858154, -5.382400035858154, -4.936100006103516, -3.312299966812134, -4.705599784851074, -4.4928998947143555, -4.2565999031066895, -4.6057000160217285, -4.409599781036377, -4.696700096130371, -4.467199802398682, -4.717100143432617, -4.968800067901611, -4.792699813842773, -4.035099983215332, -4.117199897766113, -4.2916998863220215, -4.432499885559082, -4.508399963378906, -4.254700183868408, -4.655200004577637, -4.660299777984619, -4.692800045013428, -4.692800045013428, -4.764699935913086, -4.764699935913086, -4.792399883270264, -4.872099876403809, -4.9191999435424805, -3.5478999614715576, -5.0457000732421875, -3.2959001064300537, -5.149600028991699, -5.190700054168701, -5.190899848937988, -5.212699890136719, -5.505300045013428, -5.505300045013428, -5.505300045013428, -5.505300045013428, -4.758699893951416, -5.04580020904541, -5.5960001945495605, -5.5960001945495605, -3.3645999431610107, -4.0731000900268555, -4.353799819946289, -3.575900077819824, -3.3698999881744385, -3.2887001037597656, -3.543299913406372, -4.487100124359131, -4.224899768829346, -4.378499984741211, -4.506400108337402, -4.657400131225586, -4.1519999504089355, -4.657400131225586, -4.559999942779541, -4.6570000648498535, -3.370500087738037, -3.74399995803833, -3.77239990234375, -3.8929998874664307, -4.036300182342529, -4.036300182342529, -3.911600112915039, -4.123199939727783, -4.150899887084961, -3.7643001079559326, -4.36460018157959, -4.429200172424316, -4.429200172424316, -4.429200172424316, -4.429200172424316, -4.476600170135498, -4.499499797821045, -4.604100227355957, -4.604100227355957, -4.604100227355957, -3.4911999702453613, -4.92140007019043, -4.92140007019043, -4.476600170135498, -4.604100227355957, -5.225800037384033, -5.225800037384033, -5.334199905395508, -5.334199905395508, -5.334199905395508, -5.334199905395508, -5.334199905395508, -3.755000114440918, -4.21150016784668, -4.248700141906738, -3.68179988861084, -3.9570999145507812, -4.456500053405762, -4.26800012588501, -3.865999937057495, -4.351099967956543, -4.365499973297119, -4.387400150299072, -3.96589994430542, -4.230100154876709, -4.513599872589111, -4.513599872589111, -4.649600028991699, -4.6946001052856445, -4.79449987411499, -4.838200092315674, -4.8694000244140625, -4.915599822998047, -4.915599822998047, -4.989699840545654, -2.800600051879883, -2.665800094604492, -3.440999984741211, -5.199900150299072, -4.6757001876831055, -5.232399940490723, -5.279099941253662, -5.279099941253662, -5.387400150299072, -5.466300010681152, -5.466300010681152, -5.466300010681152, -5.466300010681152, -5.466300010681152, -5.466300010681152, -5.508900165557861, -5.508900165557861, -5.718900203704834, -3.5278000831604004, -3.1038999557495117, -4.815800189971924, -3.272900104522705, -4.485099792480469, -4.248600006103516, -5.256999969482422, -4.803400039672852, -4.7316999435424805, -4.1545000076293945, -4.346499919891357, -4.5030999183654785, -4.816100120544434, -4.616499900817871, -4.734000205993652, -4.797900199890137, -2.4700000286102295, -2.564199924468994, -2.6703999042510986, -2.68530011177063, -2.68530011177063, -2.800299882888794, -2.2135000228881836, -2.7121999263763428, -3.6903998851776123, -2.6136999130249023, -4.667500019073486, -5.211100101470947, -5.211100101470947, -5.289899826049805, -5.468800067901611, -5.515500068664551, -5.515500068664551, -5.702700138092041, -5.702700138092041, -5.807499885559082, -5.807499885559082, -4.507999897003174, -5.9552998542785645, -5.9552998542785645, -5.9552998542785645, -5.9552998542785645, -6.129000186920166, -6.129000186920166, -5.623899936676025, -6.454599857330322, -6.454599857330322, -5.367000102996826, -5.458399772644043, -5.702700138092041, -4.82480001449585, -5.01230001449585, -5.687300205230713, -5.626399993896484, -3.7360999584198, -4.214000225067139, -4.278500080108643, -4.359000205993652, -4.359000205993652, -4.554100036621094, -4.7642998695373535, -4.7642998695373535, -4.7642998695373535, -4.7642998695373535, -4.7642998695373535, -4.843500137329102, -4.9517998695373535, -4.9517998695373535, -4.9517998695373535, -5.030700206756592, -5.030700206756592, -5.030700206756592, -5.030700206756592, -5.030700206756592, -5.030700206756592, -5.030700206756592, -5.030700206756592, -5.030700206756592, -5.030700206756592, -5.030700206756592, -5.030700206756592, -5.030700206756592, -5.030700206756592, -5.073400020599365, -2.706399917602539, -3.252000093460083, -3.791100025177002, -3.8317999839782715, -3.8691000938415527, -3.605600118637085, -4.319799900054932, -4.7642998695373535, -4.691299915313721, -4.9517998695373535, -4.9517998695373535, -4.926700115203857, -5.030700206756592, -3.1967999935150146, -3.6126999855041504, -3.721299886703491, -3.8738999366760254, -3.9542999267578125, -4.041600227355957, -4.041600227355957, -4.0792999267578125, -4.178899765014648, -4.178999900817871, -4.396599769592285, -4.477200031280518, -4.698200225830078, -4.891900062561035, -4.891900062561035, -4.891900062561035, -4.891900062561035, -4.891900062561035, -4.891900062561035, -4.891900062561035, -4.982500076293945, -4.003799915313721, -3.721299886703491, -3.825200080871582, -5.248899936676025, -5.248899936676025, -5.248899936676025, -5.248899936676025, -5.248899936676025, -5.248899936676025, -5.248899936676025, -3.3141000270843506, -4.524199962615967, -4.577199935913086, -3.7214999198913574, -3.933300018310547, -3.3355000019073486, -4.125800132751465, -4.3404998779296875, -4.178999900817871, -4.442699909210205, -4.645400047302246, -4.846399784088135, -2.7695000171661377, -3.1886000633239746, -3.9293999671936035, -3.9428999423980713, -3.9618000984191895, -4.032299995422363, -4.250899791717529, -4.295899868011475, -4.295899868011475, -4.576000213623047, -4.80109977722168, -4.80109977722168, -4.80109977722168, -4.801199913024902, -4.793399810791016, -4.88040018081665, -3.178499937057495, -5.067599773406982, -5.067599773406982, -5.067599773406982, -5.067599773406982, -5.067599773406982, -5.172299861907959, -5.172299861907959, -3.5525999069213867, -5.320199966430664, -5.320199966430664, -5.320199966430664, -4.106200218200684, -5.493800163269043, -3.131999969482422, -3.641400098800659, -4.6265997886657715, -3.8473000526428223, -4.039400100708008, -4.80109977722168, -3.9916999340057373, -4.7104997634887695, -4.7104997634887695, -4.3572998046875, -4.571700096130371, -3.1208999156951904, -3.444499969482422, -3.60260009765625, -3.86080002784729, -4.282700061798096, -4.282700061798096, -4.282700061798096, -4.417300224304199, -4.417300224304199, -4.4893999099731445, -4.4893999099731445, -4.4893999099731445, -4.507900238037109, -4.587100028991699, -4.879000186920166, -4.953999996185303, -3.9117000102996826, -3.3673999309539795, -4.049600124359131, -4.879000186920166, -5.526199817657471, -5.526199817657471, -5.526199817657471, -5.526199817657471, -5.526199817657471, -5.526199817657471, -5.526199817657471, -5.526199817657471, -5.526199817657471, -5.526199817657471, -3.2936999797821045, -5.526199817657471, -3.837100028991699, -3.8183000087738037, -4.655900001525879, -4.456200122833252, -4.7581000328063965, -4.456500053405762, -4.587100028991699, -4.206399917602539, -5.526199817657471, -3.5035998821258545, -3.614799976348877, -3.704400062561035, -4.03980016708374, -4.23769998550415, -4.23769998550415, -4.2378997802734375, -4.344799995422363, -4.5524001121521, -4.624499797821045, -4.7221999168396, -4.7221999168396, -4.90939998626709, -4.90939998626709, -4.90939998626709, -4.90939998626709, -4.90939998626709, -4.90939998626709, -4.90939998626709, -4.90939998626709, -4.90939998626709, -4.90939998626709, -4.90939998626709, -4.90939998626709, -4.90939998626709, -5.014100074768066, -3.79830002784729, -5.1620001792907715, -5.1620001792907715, -5.1620001792907715, -5.1620001792907715, -4.52370023727417, -3.308000087738037, -4.398200035095215, -3.719599962234497, -3.5543999671936035, -4.625800132751465, -4.2241997718811035, -4.5671000480651855, -4.414999961853027, -4.566699981689453, -4.696100234985352, -4.857999801635742, -2.8320999145507812, -4.0152997970581055, -4.181099891662598, -4.215799808502197, -4.440999984741211, -4.440999984741211, -4.440999984741211, -4.440999984741211, -4.520199775695801, -3.333699941635132, -4.628499984741211, -4.628499984741211, -4.628499984741211, -4.628499984741211, -4.628499984741211, -3.50219988822937, -4.960000038146973, -4.960100173950195, -3.6900999546051025, -5.133600234985352, -4.3881001472473145, -5.4593000411987305, -5.4593000411987305, -5.4593000411987305, -5.4593000411987305, -5.4593000411987305, -5.4593000411987305, -5.4593000411987305, -4.380000114440918, -4.628499984741211, -4.440999984741211, -3.295799970626831, -4.665200233459473, -4.511499881744385, -3.993799924850464, -4.960100173950195, -4.2769999504089355, -4.440999984741211, -4.628499984741211, -4.337200164794922, -4.359300136566162, -4.568999767303467, -4.628499984741211, -3.7955000400543213, -3.8269999027252197, -4.098400115966797, -4.098400115966797, -4.098400115966797, -4.442800045013428, -4.503799915313721, -4.770199775695801, -4.770199775695801, -4.770199775695801, -4.770199775695801, -4.770199775695801, -4.770199775695801, -4.770199775695801, -4.770199775695801, -4.770199775695801, -4.770199775695801, -4.770199775695801, -4.770199775695801, -4.770199775695801, -4.770199775695801, -4.770199775695801, -4.770199775695801, -4.770199775695801, -4.770199775695801, -4.770199775695801, -4.770199775695801, -4.770199775695801, -4.770199775695801, -4.770199775695801, -4.770199775695801, -4.770199775695801, -4.770199775695801, -4.770199775695801, -4.770199775695801, -4.770199775695801, -3.09660005569458, -4.058499813079834, -4.217199802398682, -4.770199775695801]}, \"token.table\": {\"Topic\": [7, 3, 3, 3, 4, 5, 3, 9, 1, 2, 3, 4, 6, 7, 8, 9, 10, 12, 12, 2, 7, 2, 9, 8, 5, 12, 1, 1, 2, 11, 9, 10, 3, 8, 9, 10, 7, 11, 11, 4, 3, 7, 11, 5, 3, 2, 3, 4, 1, 2, 4, 7, 3, 12, 2, 11, 2, 2, 9, 7, 12, 5, 4, 12, 12, 10, 4, 2, 11, 11, 9, 5, 3, 4, 5, 10, 9, 2, 3, 4, 10, 1, 2, 3, 4, 6, 10, 12, 12, 7, 7, 7, 8, 1, 6, 9, 5, 4, 5, 2, 10, 3, 5, 6, 9, 7, 5, 4, 1, 4, 8, 10, 12, 2, 1, 2, 11, 2, 7, 4, 11, 3, 3, 12, 1, 9, 2, 3, 7, 7, 5, 4, 9, 11, 5, 6, 1, 7, 1, 2, 8, 2, 6, 11, 3, 2, 7, 10, 9, 3, 7, 11, 6, 9, 6, 3, 6, 3, 12, 3, 6, 10, 5, 1, 5, 6, 8, 8, 1, 2, 8, 12, 12, 4, 9, 6, 9, 11, 3, 9, 11, 6, 12, 11, 10, 1, 10, 9, 6, 8, 11, 4, 11, 11, 6, 5, 11, 11, 12, 12, 7, 12, 8, 12, 7, 8, 10, 1, 4, 7, 8, 10, 1, 3, 6, 10, 1, 3, 2, 1, 2, 10, 3, 9, 5, 1, 3, 4, 6, 11, 8, 7, 1, 5, 4, 9, 10, 10, 6, 3, 5, 9, 6, 8, 10, 12, 1, 7, 3, 9, 12, 4, 6, 9, 11, 8, 3, 4, 9, 9, 6, 1, 2, 1, 10, 3, 4, 2, 5, 6, 12, 11, 3, 5, 4, 9, 5, 1, 11, 3, 4, 11, 4, 1, 8, 5, 12, 1, 2, 3, 4, 10, 10, 1, 2, 3, 4, 6, 12, 8, 7, 3, 3, 3, 6, 1, 6, 8, 1, 11, 4, 10, 2, 7, 8, 6, 4, 2, 8, 12, 3, 6, 10, 8, 2, 6, 12, 4, 11, 2, 6, 11, 1, 3, 4, 6, 5, 9, 3, 9, 12, 5, 1, 3, 4, 5, 8, 12, 3, 4, 10, 2, 4, 9, 11, 9, 7, 12, 12, 12, 6, 6, 2, 3, 5, 6, 7, 8, 11, 2, 12, 3, 5, 6, 4, 5, 8, 7, 4, 12, 9, 1, 11, 10, 6, 10, 1, 11, 9, 3, 5, 8, 11, 6, 8, 5, 7, 2, 5, 6, 1, 1, 10, 6, 8, 11, 7, 8, 4, 10, 12, 12, 4, 8, 10, 7, 2, 4, 2, 9, 1, 10, 4, 8, 1, 3, 8, 2, 12, 3, 4, 10, 11, 12, 3, 6, 3, 1, 6, 9, 3, 4, 6, 12, 12, 3, 4, 10, 3, 2, 2, 12, 6, 12, 8, 10, 3, 8, 6, 2, 7, 4, 8, 1, 2, 3, 10, 2, 5, 6, 7, 8, 10, 5, 1, 3, 11, 6, 10, 5, 8, 1, 5, 1, 2, 2, 1, 3, 4, 1, 7, 12, 1, 7, 4, 6, 7, 9, 2, 4, 12, 4, 3, 4, 11, 1, 2, 9, 4, 2, 6, 9, 2, 1, 2, 4, 9, 11, 3, 11, 7, 1, 4, 8, 9, 8, 11, 10, 12, 5, 10, 1, 10, 8, 1, 2, 10, 7, 1, 5, 1, 9, 4, 1, 1, 11, 9, 9, 7, 10, 1, 8, 6, 9, 7, 11, 10, 9, 4, 7, 10, 4, 5, 7, 3, 4, 4, 10, 2, 6, 4, 2, 2, 3, 2, 4, 7, 11, 2, 4, 6, 1, 2, 12, 8, 5, 8, 10, 5, 8, 3, 4, 5, 10, 4, 7, 2, 1, 2, 8, 11, 11, 4, 5, 11], \"Freq\": [0.5176984071731567, 0.9712423086166382, 0.6775276064872742, 0.657235860824585, 0.11949743330478668, 0.17924615740776062, 0.5465185046195984, 0.3643456697463989, 0.03569883480668068, 0.1784941852092743, 0.03569883480668068, 0.07139766961336136, 0.07139766961336136, 0.14279533922672272, 0.10709650814533234, 0.10709650814533234, 0.21419301629066467, 0.03569883480668068, 0.5611854791641235, 0.8518394827842712, 0.8820924162864685, 0.7763804197311401, 0.6908831596374512, 0.654770016670227, 0.5003651976585388, 0.5611876249313354, 0.8998886346817017, 0.9489408731460571, 0.8833183646202087, 0.7249907851219177, 0.3800642490386963, 0.3800642490386963, 0.8274967074394226, 0.7864589095115662, 0.7293847799301147, 0.934323787689209, 0.814777672290802, 0.7249912619590759, 0.887159526348114, 0.6884478330612183, 0.34181705117225647, 0.6836341023445129, 0.7768939733505249, 0.7934921979904175, 0.9338753819465637, 0.6636201739311218, 0.039036478847265244, 0.2732553780078888, 0.08680163323879242, 0.3906073570251465, 0.4340081810951233, 0.08680163323879242, 0.9540723562240601, 0.5611854791641235, 0.7763800621032715, 0.6390907764434814, 0.7465882301330566, 0.8260707259178162, 0.9220402240753174, 0.5176984071731567, 0.5611876249313354, 0.6088541746139526, 0.766838550567627, 0.19170963764190674, 0.5611876249313354, 0.5031156539916992, 0.7916580438613892, 0.3532651364803314, 0.3532651364803314, 0.8953726887702942, 0.7024465203285217, 0.963539719581604, 0.1327105313539505, 0.530842125415802, 0.1327105313539505, 0.1327105313539505, 0.7293745875358582, 0.5893312692642212, 0.16838036477565765, 0.08419018238782883, 0.16838036477565765, 0.0792243629693985, 0.158448725938797, 0.19806089997291565, 0.316897451877594, 0.13864262402057648, 0.09903044998645782, 0.019806090742349625, 0.5611854791641235, 0.9480795860290527, 0.5176984071731567, 0.8147780895233154, 0.5493260622024536, 0.9423704743385315, 0.8795406222343445, 0.7024465203285217, 0.5003651976585388, 0.032909344881772995, 0.9543710350990295, 0.6638981103897095, 0.33194905519485474, 0.8782206773757935, 0.4255565106868744, 0.2127782553434372, 0.4255565106868744, 0.5176984071731567, 0.8204843997955322, 0.725587010383606, 0.32928964495658875, 0.32928964495658875, 0.2744080424308777, 0.10976321250200272, 0.5611876249313354, 0.7465873956680298, 0.5252062678337097, 0.1050412505865097, 0.3151237666606903, 0.7832852602005005, 0.9376015067100525, 0.2984294593334198, 0.5968589186668396, 0.8877633213996887, 0.6775276064872742, 0.7144091725349426, 0.5236228108406067, 0.26181140542030334, 0.8158732652664185, 0.045326292514801025, 0.13597887754440308, 0.5176984071731567, 0.6547335386276245, 0.7916580438613892, 0.8830830454826355, 0.7768939733505249, 0.9824339151382446, 0.9269611239433289, 0.6787970662117004, 0.814774751663208, 0.8635952472686768, 0.39533182978630066, 0.5647597312927246, 0.27322810888290405, 0.4553802013397217, 0.18215207755565643, 0.9338763952255249, 0.3643382489681244, 0.5829412341117859, 0.9343132376670837, 0.7394700646400452, 0.9519526362419128, 0.8147728443145752, 0.7249907851219177, 0.9379304647445679, 0.7024462223052979, 0.8795409798622131, 0.8877633213996887, 0.879543125629425, 0.9259299039840698, 0.7144091725349426, 0.2045903503894806, 0.6137710213661194, 0.13639356195926666, 0.5493040680885315, 0.8277642130851746, 0.20694105327129364, 0.7259128093719482, 0.4669719338417053, 0.7750542759895325, 0.1219056099653244, 0.4876224398612976, 0.1219056099653244, 0.2438112199306488, 0.4558942914009094, 0.8219702839851379, 0.7024462223052979, 0.3345469534397125, 0.669093906879425, 0.7249907851219177, 0.8978433012962341, 0.24507538974285126, 0.7352261543273926, 0.879543125629425, 0.5611876249313354, 0.7249912619590759, 0.5031156539916992, 0.6787970662117004, 0.934323787689209, 0.7024467587471008, 0.3747916519641876, 0.44975000619888306, 0.1499166637659073, 0.4497942626476288, 0.4497942626476288, 0.887159526348114, 0.879543125629425, 0.5493041276931763, 0.887159526348114, 0.8410487174987793, 0.5611878037452698, 0.5611854791641235, 0.4858514964580536, 0.2429257482290268, 0.7750542163848877, 0.5611876249313354, 0.8352130651473999, 0.6111887097358704, 0.3055943548679352, 0.19106318056583405, 0.3184386193752289, 0.19106318056583405, 0.12737545371055603, 0.19106318056583405, 0.11101387441158295, 0.5550693869590759, 0.2220277488231659, 0.8445498943328857, 0.2937590181827545, 0.6854376792907715, 0.9284982085227966, 0.2234283685684204, 0.2234283685684204, 0.4468567371368408, 0.9259300827980042, 0.78374183177948, 0.820485532283783, 0.6787970662117004, 0.21986429393291473, 0.16489821672439575, 0.2748303711414337, 0.3297964334487915, 0.5003875494003296, 0.8147767186164856, 0.7799665331840515, 0.5493041276931763, 0.4717941880226135, 0.3774353563785553, 0.09435883909463882, 0.8303239345550537, 0.7259156107902527, 0.9617951512336731, 0.6952575445175171, 0.48732462525367737, 0.8795409798622131, 0.8205263018608093, 0.7980732917785645, 0.5611876249313354, 0.24998065829277039, 0.6249516606330872, 0.382778137922287, 0.5741671919822693, 0.5611876249313354, 0.45702847838401794, 0.11425711959600449, 0.22851423919200897, 0.11425711959600449, 0.4669719338417053, 0.16853797435760498, 0.7865105867385864, 0.7293725609779358, 0.9167565703392029, 0.8322170376777649, 0.9359203577041626, 0.9408461451530457, 0.8930959105491638, 0.5873962640762329, 0.5764058828353882, 0.4611246883869171, 0.2887120544910431, 0.2887120544910431, 0.6076264381408691, 0.30381321907043457, 0.887159526348114, 0.9519525766372681, 0.6547338366508484, 0.773682177066803, 0.7024467587471008, 0.723878800868988, 0.8615018725395203, 0.822425127029419, 0.15656957030296326, 0.7828478813171387, 0.05218986049294472, 0.47268518805503845, 0.8693888783454895, 0.7864586114883423, 0.968803346157074, 0.5611876249313354, 0.11850894242525101, 0.8295626044273376, 0.1815481036901474, 0.7867084741592407, 0.5031156539916992, 0.5031156539916992, 0.3783693015575409, 0.4729616343975067, 0.9519526362419128, 0.7446946501731873, 0.7421911954879761, 0.5611854791641235, 0.8894994258880615, 0.8955758810043335, 0.6775276064872742, 0.7289912104606628, 0.9519526362419128, 0.879543125629425, 0.0989370122551918, 0.1978740245103836, 0.6925590634346008, 0.26047733426094055, 0.6511933207511902, 0.8546997308731079, 0.6764063835144043, 0.23571230471134186, 0.7071369290351868, 0.54932701587677, 0.832218587398529, 0.6641935706138611, 0.943573534488678, 0.7660682797431946, 0.5611854791641235, 0.6775276064872742, 0.7929220199584961, 0.5031156539916992, 0.4669719338417053, 0.825782299041748, 0.8795409798622131, 0.7144095301628113, 0.27734604477882385, 0.5546920895576477, 0.8952034115791321, 0.8795409798622131, 0.5504012107849121, 0.1687069684267044, 0.8435348868370056, 0.7916580438613892, 0.9057774543762207, 0.7329906225204468, 0.3664953112602234, 0.6226755380630493, 0.3632274270057678, 0.5611854791641235, 0.9597845673561096, 0.053681664168834686, 0.10736332833766937, 0.16104499995708466, 0.16104499995708466, 0.21472665667533875, 0.3220899999141693, 0.5682478547096252, 0.3788318932056427, 0.5873962640762329, 0.4877912700176239, 0.2926747500896454, 0.19511650502681732, 0.6099746227264404, 0.7024467587471008, 0.8147713541984558, 0.5611854791641235, 0.5611876249313354, 0.5611876249313354, 0.879543125629425, 0.879543125629425, 0.4275003671646118, 0.07544124126434326, 0.05029416084289551, 0.07544124126434326, 0.20117664337158203, 0.10058832168579102, 0.05029416084289551, 0.9267535209655762, 0.5611876249313354, 0.9259300827980042, 0.5493040680885315, 0.879543125629425, 0.9163269400596619, 0.6713998913764954, 0.2685599625110626, 0.8681538105010986, 0.8165019750595093, 0.47475767135620117, 0.9342585802078247, 0.8635952472686768, 0.6564260721206665, 0.5031156539916992, 0.725915253162384, 0.8886743783950806, 0.8515108823776245, 0.14191848039627075, 0.7024467587471008, 0.8444538712501526, 0.723878800868988, 0.7750542163848877, 0.7249907851219177, 0.8795409798622131, 0.5003875494003296, 0.8415833115577698, 0.8352103233337402, 0.8801405429840088, 0.9619326591491699, 0.020466651767492294, 0.9890238642692566, 0.6692366003990173, 0.5031156539916992, 0.8322170376777649, 0.4555326998233795, 0.4555326998233795, 0.7749971151351929, 0.5493263006210327, 0.6476630568504333, 0.8886734247207642, 0.5611878037452698, 0.5611878037452698, 0.7470270991325378, 0.7580410838127136, 0.5031156539916992, 0.5176984071731567, 0.825782299041748, 0.7916580438613892, 0.6978305578231812, 0.23261018097400665, 0.8135003447532654, 0.5873962640762329, 0.28648877143859863, 0.7162219285964966, 0.6787970662117004, 0.6762121319770813, 0.2704848647117615, 0.704924464225769, 0.17623111605644226, 0.9289510250091553, 0.4981909990310669, 0.4981909990310669, 0.7768939733505249, 0.8485439419746399, 0.7664538621902466, 0.1532907634973526, 0.8632872700691223, 0.9890238642692566, 0.7259145379066467, 0.7024465203285217, 0.0843123346567154, 0.1686246693134308, 0.6744986772537231, 0.0843123346567154, 0.5611854791641235, 0.7289933562278748, 0.7916580438613892, 0.5031156539916992, 0.6775276064872742, 0.7974731922149658, 0.9393143057823181, 0.5611876249313354, 0.7259142398834229, 0.5611876249313354, 0.9321253299713135, 0.5031156539916992, 0.43457454442977905, 0.43457454442977905, 0.8795409798622131, 0.9044820666313171, 0.7075211405754089, 0.8952912092208862, 0.7750557065010071, 0.4024066925048828, 0.33533892035484314, 0.2012033462524414, 0.06706777960062027, 0.3817010223865509, 0.0763402059674263, 0.0763402059674263, 0.3817010223865509, 0.0763402059674263, 0.5374659895896912, 0.9739478826522827, 0.22913505136966705, 0.5346484780311584, 0.1527567058801651, 0.9301357865333557, 0.5031156539916992, 0.4669496715068817, 0.6088775992393494, 0.8357694745063782, 0.07597904652357101, 0.5536184906959534, 0.33217108249664307, 0.7465881705284119, 0.6328527927398682, 0.9031836986541748, 0.08210761100053787, 0.935920238494873, 0.9035996794700623, 0.5611876249313354, 0.6787970066070557, 0.9376078844070435, 0.5633540153503418, 0.2816770076751709, 0.8147768974304199, 0.7024467587471008, 0.3358342945575714, 0.6716685891151428, 0.5611876249313354, 0.8247337937355042, 0.6980066299438477, 0.0997152328491211, 0.1994304656982422, 0.9591546058654785, 0.6201311349868774, 0.3100655674934387, 0.7916580438613892, 0.8800877332687378, 0.7697080969810486, 0.4801156222820282, 0.7974733710289001, 0.7030996084213257, 0.1406199187040329, 0.2503567934036255, 0.2503567934036255, 0.500713586807251, 0.28048989176750183, 0.28048989176750183, 0.8401010036468506, 0.8307726383209229, 0.8570689558982849, 0.792288601398468, 0.7024469375610352, 0.24575945734977722, 0.49151891469955444, 0.5031156539916992, 0.5611878037452698, 0.4669496715068817, 0.7887289524078369, 0.9031092524528503, 0.8025042414665222, 0.4669719338417053, 0.44547584652900696, 0.3818364441394806, 0.12727881968021393, 0.8623881936073303, 0.4006790518760681, 0.4006790518760681, 0.9831956028938293, 0.8837277889251709, 0.7736867666244507, 0.6787971258163452, 0.6787970066070557, 0.7249912619590759, 0.6908814311027527, 0.9342585802078247, 0.641360878944397, 0.16034021973609924, 0.6692366003990173, 0.841634213924408, 0.3630283772945404, 0.5445425510406494, 0.5176984071731567, 0.5503981709480286, 0.930717408657074, 0.9342584013938904, 0.9327639937400818, 0.8604835867881775, 0.5031156539916992, 0.816501796245575, 0.9287593960762024, 0.05804746225476265, 0.8142489194869995, 0.11632127314805984, 0.30741533637046814, 0.6148306727409363, 0.9688525795936584, 0.7929220199584961, 0.6884478330612183, 0.7465882897377014, 0.9486611485481262, 0.9468231797218323, 0.263035386800766, 0.263035386800766, 0.3945530652999878, 0.0657588467001915, 0.6186961531639099, 0.20623204112052917, 0.10311602056026459, 0.5820727348327637, 0.29103636741638184, 0.8699919581413269, 0.7794864773750305, 0.9664009213447571, 0.7704651355743408, 0.5873962640762329, 0.6088533401489258, 0.4669719338417053, 0.2790381908416748, 0.6045827269554138, 0.0465063638985157, 0.0465063638985157, 0.4622880518436432, 0.4622880518436432, 0.8455503582954407, 0.5055826902389526, 0.39323097467422485, 0.028087927028536797, 0.05617585405707359, 0.887159526348114, 0.9163306355476379, 0.9635397791862488, 0.7768939733505249], \"Term\": [\"aa\", \"able\", \"acces\", \"access\", \"access\", \"access\", \"accessing\", \"accessing\", \"account\", \"account\", \"account\", \"account\", \"account\", \"account\", \"account\", \"account\", \"account\", \"account\", \"act\", \"actually\", \"add\", \"added\", \"additional\", \"address\", \"agric\", \"albano\", \"alfalfa\", \"already\", \"also\", \"anderson\", \"another\", \"another\", \"anytime\", \"applied\", \"approve\", \"approved\", \"asap\", \"asgrowdekalb\", \"asking\", \"assistance\", \"attached\", \"attached\", \"availability\", \"avoid\", \"b\", \"back\", \"back\", \"back\", \"bag\", \"bag\", \"bag\", \"bag\", \"balance\", \"bar\", \"bean\", \"beja\", \"ben\", \"benjamin\", \"bill\", \"birch\", \"bloomville\", \"bobbi\", \"box\", \"box\", \"bradley\", \"brand\", \"breaking\", \"brent\", \"brent\", \"brian\", \"browser\", \"bucket\", \"businesslink\", \"businesslink\", \"businesslink\", \"businesslink\", \"cable\", \"call\", \"call\", \"call\", \"call\", \"called\", \"called\", \"called\", \"called\", \"called\", \"called\", \"called\", \"came\", \"cannot\", \"category\", \"change\", \"charles\", \"check\", \"chilton\", \"clearing\", \"commodity\", \"complete\", \"complete\", \"confirm\", \"confirm\", \"connect\", \"contact\", \"contact\", \"contact\", \"conventional\", \"coop\", \"copy\", \"corn\", \"corn\", \"corn\", \"corn\", \"cornhas\", \"correct\", \"could\", \"could\", \"could\", \"couple\", \"create\", \"credit\", \"credit\", \"criders\", \"crm\", \"crop\", \"currently\", \"currently\", \"customer\", \"customer\", \"customer\", \"dairy\", \"dale\", \"damage\", \"dan\", \"daryls\", \"date\", \"dave\", \"dawley\", \"day\", \"deadline\", \"dealer\", \"dealer\", \"dealership\", \"dealership\", \"dealership\", \"debra\", \"delivery\", \"delivery\", \"dennis\", \"determine\", \"dewayne\", \"didnt\", \"different\", \"direct\", \"discus\", \"discussion\", \"dj\", \"dlr\", \"dont\", \"double\", \"dsm\", \"dsm\", \"dsm\", \"duckworth\", \"due\", \"due\", \"earl\", \"either\", \"elvin\", \"email\", \"email\", \"email\", \"email\", \"emailed\", \"empty\", \"emulate\", \"enter\", \"enter\", \"entity\", \"error\", \"everything\", \"everything\", \"exists\", \"expensive\", \"experience\", \"explained\", \"extra\", \"f\", \"familiar\", \"farm\", \"farm\", \"farm\", \"farmflex\", \"farmflex\", \"ff\", \"figure\", \"file\", \"financial\", \"financing\", \"flagged\", \"fnd\", \"following\", \"following\", \"forward\", \"frank\", \"fulfilled\", \"full\", \"full\", \"get\", \"get\", \"get\", \"get\", \"get\", \"getting\", \"getting\", \"getting\", \"give\", \"go\", \"go\", \"going\", \"got\", \"got\", \"got\", \"gotten\", \"graded\", \"grant\", \"great\", \"grower\", \"grower\", \"grower\", \"grower\", \"guy\", \"happening\", \"he\", \"heidi\", \"help\", \"help\", \"help\", \"hesterman\", \"hill\", \"hold\", \"hour\", \"however\", \"hub\", \"hubner\", \"hunter\", \"hwy\", \"hybrid\", \"hybrid\", \"id\", \"id\", \"inboundhe\", \"information\", \"information\", \"information\", \"information\", \"inventory\", \"invoice\", \"invoice\", \"isa\", \"issue\", \"janet\", \"jason\", \"jeff\", \"jim\", \"joey\", \"john\", \"john\", \"jon\", \"jon\", \"jonathan\", \"jonathan\", \"jones\", \"joseph\", \"justin\", \"k\", \"karen\", \"keller\", \"ken\", \"kevin\", \"know\", \"know\", \"know\", \"kris\", \"kristina\", \"last\", \"laura\", \"le\", \"left\", \"left\", \"let\", \"let\", \"license\", \"licensed\", \"like\", \"like\", \"linville\", \"lisa\", \"list\", \"llc\", \"load\", \"location\", \"locked\", \"login\", \"long\", \"longer\", \"look\", \"look\", \"look\", \"looking\", \"looking\", \"lot\", \"luke\", \"make\", \"make\", \"march\", \"mark\", \"matching\", \"matt\", \"may\", \"meadow\", \"melicia\", \"mercer\", \"merged\", \"merle\", \"message\", \"might\", \"misshipped\", \"missing\", \"missing\", \"mistake\", \"mitchellville\", \"mm\", \"money\", \"money\", \"mouse\", \"move\", \"mymon\", \"mymon\", \"mymonsanto\", \"mymonsanto\", \"myron\", \"nan\", \"need\", \"need\", \"need\", \"need\", \"need\", \"need\", \"needed\", \"needed\", \"needing\", \"new\", \"new\", \"new\", \"newberry\", \"none\", \"noticed\", \"num\", \"numbersneed\", \"ny\", \"oas\", \"ocker\", \"order\", \"order\", \"order\", \"order\", \"order\", \"order\", \"order\", \"ordered\", \"osborne\", \"outstanding\", \"overnight\", \"owes\", \"paid\", \"pallet\", \"pallet\", \"palletize\", \"paper\", \"paperwork\", \"partner\", \"passed\", \"password\", \"past\", \"pat\", \"pay\", \"payment\", \"payment\", \"pending\", \"per\", \"person\", \"personal\", \"persontwo\", \"perspective\", \"phils\", \"pick\", \"place\", \"placed\", \"please\", \"please\", \"po\", \"possible\", \"potter\", \"prdt\", \"prefer\", \"prefer\", \"preference\", \"presently\", \"printing\", \"prior\", \"prioritize\", \"production\", \"program\", \"pull\", \"purchased\", \"pure\", \"put\", \"quantity\", \"question\", \"question\", \"quite\", \"rasco\", \"ready\", \"ready\", \"really\", \"reason\", \"reason\", \"receiving\", \"receiving\", \"refund\", \"regarding\", \"regarding\", \"reiff\", \"report\", \"request\", \"request\", \"requested\", \"required\", \"research\", \"resolve\", \"return\", \"return\", \"return\", \"return\", \"returned\", \"review\", \"reynolds\", \"richard\", \"richards\", \"robert\", \"rod\", \"roger\", \"ron\", \"s\", \"said\", \"sampsell\", \"sap\", \"sap\", \"sara\", \"saying\", \"schedule\", \"scheduled\", \"scott\", \"see\", \"see\", \"see\", \"see\", \"seed\", \"seed\", \"seed\", \"seed\", \"seed\", \"select\", \"send\", \"sent\", \"sent\", \"sent\", \"set\", \"settled\", \"sewell\", \"shed\", \"ship\", \"ship\", \"shipped\", \"shipped\", \"shipping\", \"showed\", \"showing\", \"showing\", \"since\", \"size\", \"smith\", \"sold\", \"something\", \"son\", \"son\", \"soon\", \"sounded\", \"soybean\", \"soybean\", \"st\", \"standard\", \"statement\", \"statement\", \"statement\", \"still\", \"stock\", \"stock\", \"stop\", \"store\", \"stuart\", \"sub\", \"supposed\", \"sure\", \"sure\", \"system\", \"system\", \"system\", \"tab\", \"tab\", \"take\", \"taken\", \"talk\", \"talked\", \"taylor\", \"team\", \"team\", \"tech\", \"territory\", \"thank\", \"thought\", \"tim\", \"time\", \"tl\", \"told\", \"told\", \"told\", \"tomorrow\", \"tony\", \"tony\", \"transaction\", \"transfer\", \"transferred\", \"treated\", \"treatment\", \"trial\", \"tried\", \"troy\", \"truck\", \"truck\", \"trucking\", \"try\", \"trying\", \"trying\", \"twin\", \"two\", \"tyler\", \"unable\", \"undershipped\", \"unit\", \"unlicensed\", \"untr\", \"update\", \"update\", \"user\", \"user\", \"vision\", \"vision\", \"vm\", \"vu\", \"waddle\", \"wait\", \"walter\", \"want\", \"wanted\", \"wanted\", \"wanted\", \"wanted\", \"wanting\", \"wanting\", \"wanting\", \"wasnt\", \"wasnt\", \"way\", \"week\", \"weigle\", \"went\", \"wesly\", \"west\", \"whats\", \"winfield\", \"winfield\", \"winfield\", \"winfield\", \"work\", \"work\", \"worked\", \"would\", \"would\", \"would\", \"would\", \"wyatt\", \"year\", \"ylaspick\", \"zeiset\"]}, \"R\": 30, \"lambda.step\": 0.01, \"plot.opts\": {\"xlab\": \"PC1\", \"ylab\": \"PC2\"}, \"topic.order\": [8, 2, 4, 3, 10, 6, 9, 7, 12, 11, 1, 5]};\n",
       "\n",
       "function LDAvis_load_lib(url, callback){\n",
       "  var s = document.createElement('script');\n",
       "  s.src = url;\n",
       "  s.async = true;\n",
       "  s.onreadystatechange = s.onload = callback;\n",
       "  s.onerror = function(){console.warn(\"failed to load library \" + url);};\n",
       "  document.getElementsByTagName(\"head\")[0].appendChild(s);\n",
       "}\n",
       "\n",
       "if(typeof(LDAvis) !== \"undefined\"){\n",
       "   // already loaded: just create the visualization\n",
       "   !function(LDAvis){\n",
       "       new LDAvis(\"#\" + \"ldavis_el46643317793123879659901\", ldavis_el46643317793123879659901_data);\n",
       "   }(LDAvis);\n",
       "}else if(typeof define === \"function\" && define.amd){\n",
       "   // require.js is available: use it to load d3/LDAvis\n",
       "   require.config({paths: {d3: \"https://cdnjs.cloudflare.com/ajax/libs/d3/3.5.5/d3.min\"}});\n",
       "   require([\"d3\"], function(d3){\n",
       "      window.d3 = d3;\n",
       "      LDAvis_load_lib(\"https://cdn.rawgit.com/bmabey/pyLDAvis/files/ldavis.v1.0.0.js\", function(){\n",
       "        new LDAvis(\"#\" + \"ldavis_el46643317793123879659901\", ldavis_el46643317793123879659901_data);\n",
       "      });\n",
       "    });\n",
       "}else{\n",
       "    // require.js not available: dynamically load d3 & LDAvis\n",
       "    LDAvis_load_lib(\"https://cdnjs.cloudflare.com/ajax/libs/d3/3.5.5/d3.min.js\", function(){\n",
       "         LDAvis_load_lib(\"https://cdn.rawgit.com/bmabey/pyLDAvis/files/ldavis.v1.0.0.js\", function(){\n",
       "                 new LDAvis(\"#\" + \"ldavis_el46643317793123879659901\", ldavis_el46643317793123879659901_data);\n",
       "            })\n",
       "         });\n",
       "}\n",
       "</script>"
      ],
      "text/plain": [
       "PreparedData(topic_coordinates=              x         y  topics  cluster       Freq\n",
       "topic                                                \n",
       "7     -0.053120  0.209992       1        1  13.423162\n",
       "1     -0.099301  0.175939       2        1  13.279436\n",
       "3     -0.037886 -0.183219       3        1  12.913004\n",
       "2     -0.069105 -0.115816       4        1  11.909263\n",
       "9      0.379946  0.028058       5        1  11.791425\n",
       "5     -0.017552 -0.071771       6        1   6.600323\n",
       "8     -0.007052  0.088885       7        1   6.348223\n",
       "6     -0.005498  0.004429       8        1   6.247410\n",
       "11    -0.013462 -0.059212       9        1   4.978045\n",
       "10    -0.050257 -0.018508      10        1   4.737662\n",
       "0     -0.031551 -0.026610      11        1   4.343234\n",
       "4      0.004836 -0.032165      12        1   3.428812, topic_info=     Category       Freq         Term      Total  loglift  logprob\n",
       "term                                                              \n",
       "321   Default  48.000000       please  48.000000  30.0000  30.0000\n",
       "239   Default  43.000000  transaction  43.000000  29.0000  29.0000\n",
       "368   Default  42.000000           po  42.000000  28.0000  28.0000\n",
       "369   Default  42.000000     required  42.000000  27.0000  27.0000\n",
       "456   Default  37.000000        laura  37.000000  26.0000  26.0000\n",
       "85    Default  33.000000         send  33.000000  25.0000  25.0000\n",
       "200   Default  30.000000         date  30.000000  24.0000  24.0000\n",
       "462   Default  34.000000       update  34.000000  23.0000  23.0000\n",
       "453   Default  30.000000       bucket  30.000000  22.0000  22.0000\n",
       "464   Default  30.000000     ylaspick  30.000000  21.0000  21.0000\n",
       "113   Default  38.000000         know  38.000000  20.0000  20.0000\n",
       "188   Default  30.000000     complete  30.000000  19.0000  19.0000\n",
       "463   Default  26.000000       weigle  26.000000  18.0000  18.0000\n",
       "219   Default  33.000000          let  33.000000  17.0000  17.0000\n",
       "90    Default  23.000000       return  23.000000  16.0000  16.0000\n",
       "129   Default  46.000000          bag  46.000000  15.0000  15.0000\n",
       "644   Default  15.000000         said  15.000000  14.0000  14.0000\n",
       "12    Default  19.000000   mymonsanto  19.000000  13.0000  13.0000\n",
       "58    Default  35.000000        would  35.000000  12.0000  12.0000\n",
       "29    Default  17.000000       dealer  17.000000  11.0000  11.0000\n",
       "0     Default  50.000000       called  50.000000  10.0000  10.0000\n",
       "34    Default  39.000000        order  39.000000   9.0000   9.0000\n",
       "83    Default  18.000000         need  18.000000   8.0000   8.0000\n",
       "139   Default  10.000000        brian  10.000000   7.0000   7.0000\n",
       "98    Default  22.000000     customer  22.000000   6.0000   6.0000\n",
       "242   Default  16.000000         want  16.000000   5.0000   5.0000\n",
       "518   Default  16.000000        check  16.000000   4.0000   4.0000\n",
       "32    Default  18.000000       grower  18.000000   3.0000   3.0000\n",
       "509   Default  13.000000        ready  13.000000   2.0000   2.0000\n",
       "60    Default  25.000000         back  25.000000   1.0000   1.0000\n",
       "...       ...        ...          ...        ...      ...      ...\n",
       "879   Topic12   1.062618    inboundhe   1.781935   2.8560  -4.7702\n",
       "878   Topic12   1.062618    expensive   1.781935   2.8560  -4.7702\n",
       "877   Topic12   1.062618      cornhas   1.781935   2.8560  -4.7702\n",
       "953   Topic12   1.062617      flagged   1.781935   2.8560  -4.7702\n",
       "954   Topic12   1.062617   prioritize   1.781935   2.8560  -4.7702\n",
       "955   Topic12   1.062617   production   1.781935   2.8560  -4.7702\n",
       "956   Topic12   1.062617    territory   1.781935   2.8560  -4.7702\n",
       "984   Topic12   1.062614       albano   1.781935   2.8560  -4.7702\n",
       "988   Topic12   1.062614          hwy   1.781935   2.8560  -4.7702\n",
       "985   Topic12   1.062614   bloomville   1.781935   2.8560  -4.7702\n",
       "986   Topic12   1.062614      bradley   1.781935   2.8560  -4.7702\n",
       "987   Topic12   1.062614        frank   1.781935   2.8560  -4.7702\n",
       "993   Topic12   1.062614           st   1.781935   2.8560  -4.7702\n",
       "992   Topic12   1.062614        smith   1.781935   2.8560  -4.7702\n",
       "991   Topic12   1.062614        roger   1.781935   2.8560  -4.7702\n",
       "990   Topic12   1.062614      osborne   1.781935   2.8560  -4.7702\n",
       "989   Topic12   1.062614           ny   1.781935   2.8560  -4.7702\n",
       "1006  Topic12   1.062607          llc   1.781942   2.8560  -4.7702\n",
       "1007  Topic12   1.062607       meadow   1.781942   2.8560  -4.7702\n",
       "1008  Topic12   1.062607        myron   1.781942   2.8560  -4.7702\n",
       "1010  Topic12   1.062607     returned   1.781942   2.8560  -4.7702\n",
       "1002  Topic12   1.062607          act   1.781942   2.8560  -4.7702\n",
       "1005  Topic12   1.062607          fnd   1.781942   2.8560  -4.7702\n",
       "1003  Topic12   1.062607          bar   1.781942   2.8560  -4.7702\n",
       "1004  Topic12   1.062607         came   1.781942   2.8560  -4.7702\n",
       "1009  Topic12   1.062607          num   1.781942   2.8560  -4.7702\n",
       "83    Topic12   5.664787         need  18.628334   2.1825  -3.0966\n",
       "189   Topic12   2.164930        email   8.203068   2.0408  -4.0585\n",
       "90    Topic12   1.847218       return  23.721321   0.8203  -4.2172\n",
       "939   Topic12   1.062617     jonathan   3.291496   2.2423  -4.7702\n",
       "\n",
       "[540 rows x 6 columns], token_table=      Topic      Freq        Term\n",
       "term                             \n",
       "915       7  0.517698          aa\n",
       "103       3  0.971242        able\n",
       "159       3  0.677528       acces\n",
       "42        3  0.657236      access\n",
       "42        4  0.119497      access\n",
       "42        5  0.179246      access\n",
       "21        3  0.546519   accessing\n",
       "21        9  0.364346   accessing\n",
       "22        1  0.035699     account\n",
       "22        2  0.178494     account\n",
       "22        3  0.035699     account\n",
       "22        4  0.071398     account\n",
       "22        6  0.071398     account\n",
       "22        7  0.142795     account\n",
       "22        8  0.107097     account\n",
       "22        9  0.107097     account\n",
       "22       10  0.214193     account\n",
       "22       12  0.035699     account\n",
       "1002     12  0.561185         act\n",
       "525       2  0.851839    actually\n",
       "247       7  0.882092         add\n",
       "562       2  0.776380       added\n",
       "718       9  0.690883  additional\n",
       "624       8  0.654770     address\n",
       "854       5  0.500365       agric\n",
       "984      12  0.561188      albano\n",
       "833       1  0.899889     alfalfa\n",
       "480       1  0.948941     already\n",
       "186       2  0.883318        also\n",
       "754      11  0.724991    anderson\n",
       "...     ...       ...         ...\n",
       "116       4  0.263035      wanted\n",
       "116       7  0.394553      wanted\n",
       "116      11  0.065759      wanted\n",
       "542       2  0.618696     wanting\n",
       "542       4  0.206232     wanting\n",
       "542       6  0.103116     wanting\n",
       "502       1  0.582073       wasnt\n",
       "502       2  0.291036       wasnt\n",
       "352      12  0.869992         way\n",
       "357       8  0.779486        week\n",
       "463       5  0.966401      weigle\n",
       "354       8  0.770465        went\n",
       "214      10  0.587396       wesly\n",
       "345       5  0.608853        west\n",
       "930       8  0.466972       whats\n",
       "5         3  0.279038    winfield\n",
       "5         4  0.604583    winfield\n",
       "5         5  0.046506    winfield\n",
       "5        10  0.046506    winfield\n",
       "327       4  0.462288        work\n",
       "327       7  0.462288        work\n",
       "906       2  0.845550      worked\n",
       "58        1  0.505583       would\n",
       "58        2  0.393231       would\n",
       "58        8  0.028088       would\n",
       "58       11  0.056176       would\n",
       "182      11  0.887160       wyatt\n",
       "479       4  0.916331        year\n",
       "464       5  0.963540    ylaspick\n",
       "546      11  0.776894      zeiset\n",
       "\n",
       "[605 rows x 3 columns], R=30, lambda_step=0.01, plot_opts={'xlab': 'PC1', 'ylab': 'PC2'}, topic_order=[8, 2, 4, 3, 10, 6, 9, 7, 12, 11, 1, 5])"
      ]
     },
     "execution_count": 96,
     "metadata": {},
     "output_type": "execute_result"
    }
   ],
   "source": [
    "import pyLDAvis\n",
    "import pyLDAvis.gensim  # don't skip this\n",
    "import matplotlib.pyplot as plt\n",
    "# Visualize the topics\n",
    "pyLDAvis.enable_notebook()\n",
    "vis = pyLDAvis.gensim.prepare(lda_model, doc_term_matrix, dictionary)\n",
    "vis"
   ]
  },
  {
   "cell_type": "code",
   "execution_count": 97,
   "metadata": {},
   "outputs": [
    {
     "name": "stdout",
     "output_type": "stream",
     "text": [
      "263\n"
     ]
    }
   ],
   "source": [
    "print(len(corpus))"
   ]
  },
  {
   "cell_type": "code",
   "execution_count": 98,
   "metadata": {},
   "outputs": [
    {
     "name": "stdout",
     "output_type": "stream",
     "text": [
      "['valerie called duplicate credits winfield statement']\n"
     ]
    },
    {
     "name": "stderr",
     "output_type": "stream",
     "text": [
      "<input>:6: DeprecationWarning: invalid escape sequence \\S\n",
      "<input>:9: DeprecationWarning: invalid escape sequence \\s\n",
      "<input>:6: DeprecationWarning: invalid escape sequence \\S\n",
      "<input>:9: DeprecationWarning: invalid escape sequence \\s\n",
      "<input>:6: DeprecationWarning: invalid escape sequence \\S\n",
      "<input>:9: DeprecationWarning: invalid escape sequence \\s\n",
      "<ipython-input-98-49b54129d377>:6: DeprecationWarning: invalid escape sequence \\S\n",
      "  data = [re.sub('\\S*@\\S*\\s?', '', sent) for sent in data]\n",
      "<ipython-input-98-49b54129d377>:9: DeprecationWarning: invalid escape sequence \\s\n",
      "  data = [re.sub('\\s+', ' ', sent) for sent in data]\n"
     ]
    }
   ],
   "source": [
    "# Convert to list\n",
    "from pprint import pprint\n",
    "data = norm_corpus\n",
    "\n",
    "# Remove Emails\n",
    "data = [re.sub('\\S*@\\S*\\s?', '', sent) for sent in data]\n",
    "\n",
    "# Remove new line characters\n",
    "data = [re.sub('\\s+', ' ', sent) for sent in data]\n",
    "\n",
    "# Remove distracting single quotes\n",
    "data = [re.sub(\"\\'\", \"\", sent) for sent in data]\n",
    "\n",
    "pprint(data[:1])"
   ]
  },
  {
   "cell_type": "code",
   "execution_count": 99,
   "metadata": {},
   "outputs": [
    {
     "name": "stdout",
     "output_type": "stream",
     "text": [
      "[['valerie', 'called', 'duplicate', 'credits', 'winfield', 'statement']]\n"
     ]
    }
   ],
   "source": [
    "import gensim\n",
    "from gensim import corpora\n",
    "from nltk.corpus import stopwords\n",
    "stop_words = stopwords.words('english')\n",
    "stop_words.extend(['lb','j','df','jdf'])\n",
    "def sent_to_words(sentences):\n",
    "    for sentence in sentences:\n",
    "        yield(gensim.utils.simple_preprocess(str(sentence), deacc=True))  # deacc=True removes punctuations\n",
    "\n",
    "data_words = list(sent_to_words(data))\n",
    "\n",
    "print(data_words[:1])"
   ]
  },
  {
   "cell_type": "code",
   "execution_count": 100,
   "metadata": {},
   "outputs": [
    {
     "name": "stdout",
     "output_type": "stream",
     "text": [
      "['valerie', 'called', 'duplicate', 'credits', 'winfield', 'statement']\n"
     ]
    },
    {
     "name": "stderr",
     "output_type": "stream",
     "text": [
      "C:\\Continuum\\anaconda3\\lib\\site-packages\\gensim\\models\\phrases.py:598: UserWarning: For a faster implementation, use the gensim.models.phrases.Phraser class\n",
      "  warnings.warn(\"For a faster implementation, use the gensim.models.phrases.Phraser class\")\n"
     ]
    }
   ],
   "source": [
    "# Build the bigram and trigram models\n",
    "bigram = gensim.models.Phrases(data_words, min_count=5, threshold=100) # higher threshold fewer phrases.\n",
    "trigram = gensim.models.Phrases(bigram[data_words], threshold=100)  \n",
    "\n",
    "# Faster way to get a sentence clubbed as a trigram/bigram\n",
    "bigram_mod = gensim.models.phrases.Phraser(bigram)\n",
    "trigram_mod = gensim.models.phrases.Phraser(trigram)\n",
    "\n",
    "# See trigram example\n",
    "print(trigram_mod[bigram_mod[data_words[0]]])"
   ]
  },
  {
   "cell_type": "code",
   "execution_count": 101,
   "metadata": {},
   "outputs": [],
   "source": [
    "from nltk.stem import WordNetLemmatizer\n",
    "\n",
    "lemmatizer = WordNetLemmatizer()\n",
    "from gensim.utils import simple_preprocess\n",
    "stop_words = nltk.corpus.stopwords.words('english')\n",
    "# Define functions for stopwords, bigrams, trigrams and lemmatization\n",
    "def remove_stopwords(texts):\n",
    "    return [[word for word in simple_preprocess(str(doc)) if word not in stop_words] for doc in texts]\n",
    "\n",
    "def make_bigrams(texts):\n",
    "    return [bigram_mod[doc] for doc in texts]\n",
    "\n",
    "def make_trigrams(texts):\n",
    "    return [trigram_mod[bigram_mod[doc]] for doc in texts]\n",
    "\n",
    "def lemmatization(texts):\n",
    "    texts_out = []\n",
    "    for sent in texts:\n",
    "        doc = \" \".join(sent) \n",
    "        texts_out.append(lemmatizer.lemmatize(token) for token in doc)\n",
    "    return texts_out"
   ]
  },
  {
   "cell_type": "code",
   "execution_count": 102,
   "metadata": {},
   "outputs": [
    {
     "name": "stdout",
     "output_type": "stream",
     "text": [
      "[['valerie', 'called', 'duplicate', 'credits', 'winfield', 'statement']]\n"
     ]
    }
   ],
   "source": [
    "# Remove Stop Words\n",
    "data_words_nostops = remove_stopwords(data_words)\n",
    "\n",
    "# Form Bigrams\n",
    "data_words_bigrams = make_bigrams(data_words_nostops)\n",
    "\n",
    "# Initialize spacy 'en' model, keeping only tagger component (for efficiency)\n",
    "# python3 -m spacy download en\n",
    "#nlp = spacy.load('en', disable=['parser', 'ner'])\n",
    "#nlp = spacy.load()\n",
    "\n",
    "# Do lemmatization keeping only noun, adj, vb, adv\n",
    "#data_lemmatized = lemmatization(data_words_bigrams)\n",
    "\n",
    "print(data_words_bigrams[:1])"
   ]
  },
  {
   "cell_type": "code",
   "execution_count": 103,
   "metadata": {},
   "outputs": [
    {
     "name": "stdout",
     "output_type": "stream",
     "text": [
      "[[(0, 1), (1, 1), (2, 1), (3, 1), (4, 1), (5, 1)]]\n"
     ]
    }
   ],
   "source": [
    "# Create Dictionary\n",
    "id2word = corpora.Dictionary(data_words_bigrams)\n",
    "\n",
    "# Create Corpus\n",
    "texts = data_words_bigrams\n",
    "\n",
    "# Term Document Frequency\n",
    "corpus = [id2word.doc2bow(text) for text in texts]\n",
    "\n",
    "# View\n",
    "print(corpus[:1])"
   ]
  },
  {
   "cell_type": "code",
   "execution_count": 104,
   "metadata": {},
   "outputs": [
    {
     "data": {
      "text/plain": [
       "'called'"
      ]
     },
     "execution_count": 104,
     "metadata": {},
     "output_type": "execute_result"
    }
   ],
   "source": [
    "id2word[0]"
   ]
  },
  {
   "cell_type": "code",
   "execution_count": 105,
   "metadata": {},
   "outputs": [],
   "source": [
    "#[[(id2word[id], freq) for id, freq in cp] for cp in corpus[:10]]"
   ]
  },
  {
   "cell_type": "code",
   "execution_count": 106,
   "metadata": {},
   "outputs": [],
   "source": [
    "lda_model = gensim.models.ldamodel.LdaModel(corpus=corpus,\n",
    "                                           id2word=id2word,\n",
    "                                           num_topics=12, \n",
    "                                           random_state=100,\n",
    "                                           update_every=1,\n",
    "                                           chunksize=100,\n",
    "                                           passes=10,\n",
    "                                           alpha='auto',\n",
    "                                           per_word_topics=True)"
   ]
  },
  {
   "cell_type": "code",
   "execution_count": 107,
   "metadata": {},
   "outputs": [
    {
     "name": "stdout",
     "output_type": "stream",
     "text": [
      "[(0,\n",
      "  '0.050*\"user\" + 0.038*\"mymonsanto\" + 0.034*\"units\" + 0.032*\"add\" + '\n",
      "  '0.027*\"winfield\" + 0.023*\"access\" + 0.023*\"truck\" + 0.020*\"new\" + '\n",
      "  '0.019*\"id\" + 0.019*\"needed\"'),\n",
      " (1,\n",
      "  '0.069*\"return\" + 0.037*\"dsm\" + 0.034*\"called\" + 0.021*\"set\" + 0.021*\"need\" '\n",
      "  '+ 0.020*\"rod\" + 0.018*\"farm\" + 0.016*\"alfalfa\" + 0.016*\"tyler\" + '\n",
      "  '0.013*\"gpos\"'),\n",
      " (2,\n",
      "  '0.079*\"please\" + 0.065*\"laura\" + 0.064*\"transaction\" + 0.062*\"required\" + '\n",
      "  '0.062*\"po\" + 0.061*\"update\" + 0.056*\"send\" + 0.052*\"bucket\" + '\n",
      "  '0.052*\"ylaspick\" + 0.052*\"date\"'),\n",
      " (3,\n",
      "  '0.072*\"said\" + 0.029*\"give\" + 0.029*\"bags\" + 0.025*\"lot\" + 0.024*\"invoice\" '\n",
      "  '+ 0.023*\"tomorrow\" + 0.020*\"scheduled\" + 0.016*\"pull\" + 0.015*\"call\" + '\n",
      "  '0.015*\"week\"'),\n",
      " (4,\n",
      "  '0.051*\"know\" + 0.045*\"let\" + 0.024*\"refund\" + 0.022*\"called\" + '\n",
      "  '0.022*\"account\" + 0.022*\"balance\" + 0.020*\"sent\" + 0.020*\"showing\" + '\n",
      "  '0.020*\"go\" + 0.018*\"vision\"'),\n",
      " (5,\n",
      "  '0.029*\"looking\" + 0.024*\"hybrids\" + 0.022*\"called\" + 0.021*\"grower\" + '\n",
      "  '0.020*\"jason\" + 0.020*\"since\" + 0.019*\"would\" + 0.019*\"hes\" + 0.019*\"wasnt\" '\n",
      "  '+ 0.016*\"thanks\"'),\n",
      " (6,\n",
      "  '0.047*\"dealer\" + 0.038*\"check\" + 0.034*\"account\" + 0.033*\"ready\" + '\n",
      "  '0.032*\"bags\" + 0.029*\"let\" + 0.029*\"called\" + 0.028*\"know\" + 0.022*\"wants\" '\n",
      "  '+ 0.017*\"invoices\"'),\n",
      " (7,\n",
      "  '0.045*\"needs\" + 0.030*\"talked\" + 0.020*\"double\" + 0.020*\"crop\" + '\n",
      "  '0.020*\"misshipped\" + 0.019*\"take\" + 0.013*\"prefer\" + 0.012*\"hour\" + '\n",
      "  '0.012*\"kevin\" + 0.010*\"truck\"'),\n",
      " (8,\n",
      "  '0.053*\"load\" + 0.028*\"full\" + 0.025*\"paid\" + 0.022*\"standard\" + '\n",
      "  '0.021*\"attached\" + 0.021*\"work\" + 0.019*\"grower\" + 0.017*\"wanted\" + '\n",
      "  '0.016*\"justin\" + 0.015*\"winfield\"'),\n",
      " (9,\n",
      "  '0.064*\"nan\" + 0.043*\"access\" + 0.036*\"mymonsanto\" + 0.032*\"receiving\" + '\n",
      "  '0.028*\"issues\" + 0.023*\"tony\" + 0.014*\"password\" + 0.014*\"dale\" + '\n",
      "  '0.013*\"called\" + 0.013*\"connect\"'),\n",
      " (10,\n",
      "  '0.046*\"would\" + 0.044*\"order\" + 0.034*\"customer\" + 0.031*\"back\" + '\n",
      "  '0.030*\"call\" + 0.025*\"left\" + 0.022*\"told\" + 0.022*\"bags\" + '\n",
      "  '0.020*\"delivery\" + 0.016*\"vm\"'),\n",
      " (11,\n",
      "  '0.034*\"ship\" + 0.031*\"stock\" + 0.030*\"brian\" + 0.028*\"bags\" + 0.023*\"order\" '\n",
      "  '+ 0.022*\"corn\" + 0.019*\"ordered\" + 0.016*\"everything\" + 0.016*\"bill\" + '\n",
      "  '0.015*\"new\"')]\n"
     ]
    }
   ],
   "source": [
    "# Print the Keyword in the 10 topics\n",
    "pprint(lda_model.print_topics())\n",
    "doc_lda = lda_model[corpus]"
   ]
  },
  {
   "cell_type": "code",
   "execution_count": 108,
   "metadata": {},
   "outputs": [
    {
     "name": "stdout",
     "output_type": "stream",
     "text": [
      "\n",
      "Perplexity:  -6.50734561608819\n"
     ]
    },
    {
     "name": "stderr",
     "output_type": "stream",
     "text": [
      "C:\\Continuum\\anaconda3\\lib\\site-packages\\gensim\\topic_coherence\\direct_confirmation_measure.py:193: RuntimeWarning: invalid value encountered in true_divide\n",
      "  numerator = (co_occur_count / num_docs) + EPSILON\n",
      "C:\\Continuum\\anaconda3\\lib\\site-packages\\gensim\\topic_coherence\\direct_confirmation_measure.py:194: RuntimeWarning: invalid value encountered in true_divide\n",
      "  denominator = (w_prime_count / num_docs) * (w_star_count / num_docs)\n",
      "C:\\Continuum\\anaconda3\\lib\\site-packages\\gensim\\topic_coherence\\direct_confirmation_measure.py:189: RuntimeWarning: invalid value encountered in true_divide\n",
      "  co_doc_prob = co_occur_count / num_docs\n"
     ]
    },
    {
     "name": "stdout",
     "output_type": "stream",
     "text": [
      "\n",
      "Coherence Score:  nan\n"
     ]
    }
   ],
   "source": [
    "#Compute Perplexity\n",
    "print('\\nPerplexity: ', lda_model.log_perplexity(corpus))  # a measure of how good the model is. lower the better.\n",
    "\n",
    "# Compute Coherence Score\n",
    "coherence_model_lda = CoherenceModel(model=lda_model, texts=data_lemmatized, dictionary=id2word, coherence='c_v')\n",
    "coherence_lda = coherence_model_lda.get_coherence()\n",
    "print('\\nCoherence Score: ', coherence_lda)"
   ]
  },
  {
   "cell_type": "code",
   "execution_count": 109,
   "metadata": {},
   "outputs": [],
   "source": [
    "def compute_coherence_values(dictionary, corpus, texts, limit, start=2, step=3):\n",
    "    \"\"\"\n",
    "    Compute c_v coherence for various number of topics\n",
    "\n",
    "    Parameters:\n",
    "    ----------\n",
    "    dictionary : Gensim dictionary\n",
    "    corpus : Gensim corpus\n",
    "    texts : List of input texts\n",
    "    limit : Max num of topics\n",
    "\n",
    "    Returns:\n",
    "    -------\n",
    "    model_list : List of LDA topic models\n",
    "    coherence_values : Coherence values corresponding to the LDA model with respective number of topics\n",
    "    \"\"\"\n",
    "    coherence_values = []\n",
    "    model_list = []\n",
    "    for num_topics in range(start, limit, step):\n",
    "        model = gensim.models.LdaModel( corpus=corpus, num_topics=num_topics, id2word=id2word)\n",
    "        model_list.append(model)\n",
    "        coherencemodel = CoherenceModel(model=model, texts=texts, dictionary=dictionary, coherence='c_v')\n",
    "        coherence_values.append(coherencemodel.get_coherence())\n",
    "\n",
    "    return model_list, coherence_values"
   ]
  },
  {
   "cell_type": "code",
   "execution_count": 76,
   "metadata": {},
   "outputs": [],
   "source": [
    "# Can take a long time to run.\n",
    "model_list, coherence_values = compute_coherence_values(dictionary=id2word, corpus=corpus, texts=data_words_bigrams, start=5, limit=15, \n",
    "                                                        step=1)"
   ]
  },
  {
   "cell_type": "code",
   "execution_count": 77,
   "metadata": {},
   "outputs": [
    {
     "data": {
      "image/png": "[encoded data removed]",
      "text/plain": [
       "<Figure size 432x288 with 1 Axes>"
      ]
     },
     "metadata": {},
     "output_type": "display_data"
    }
   ],
   "source": [
    "# Show graph\n",
    "limit=15; start=5; step=1;\n",
    "x = range(start, limit, step)\n",
    "plt.plot(x, coherence_values)\n",
    "plt.xlabel(\"Num Topics\")\n",
    "plt.ylabel(\"Coherence score\")\n",
    "plt.legend((\"coherence_values\"), loc='best')\n",
    "plt.show()"
   ]
  },
  {
   "cell_type": "code",
   "execution_count": 78,
   "metadata": {},
   "outputs": [
    {
     "name": "stdout",
     "output_type": "stream",
     "text": [
      "Num Topics = 5  has Coherence Value of 0.4612\n",
      "Num Topics = 6  has Coherence Value of 0.3947\n",
      "Num Topics = 7  has Coherence Value of 0.5172\n",
      "Num Topics = 8  has Coherence Value of 0.4283\n",
      "Num Topics = 9  has Coherence Value of 0.4102\n",
      "Num Topics = 10  has Coherence Value of 0.4583\n",
      "Num Topics = 11  has Coherence Value of 0.3924\n",
      "Num Topics = 12  has Coherence Value of 0.4051\n",
      "Num Topics = 13  has Coherence Value of 0.4576\n",
      "Num Topics = 14  has Coherence Value of 0.4678\n"
     ]
    }
   ],
   "source": [
    "# Print the coherence scores\n",
    "for m, cv in zip(x, coherence_values):\n",
    "    print(\"Num Topics =\", m, \" has Coherence Value of\", round(cv, 4))"
   ]
  },
  {
   "cell_type": "code",
   "execution_count": 79,
   "metadata": {},
   "outputs": [
    {
     "name": "stdout",
     "output_type": "stream",
     "text": [
      "[(0, '0.034*\"please\" + 0.033*\"laura\" + 0.028*\"send\"'),\n",
      " (1, '0.015*\"access\" + 0.014*\"bags\" + 0.011*\"know\"'),\n",
      " (2, '0.020*\"called\" + 0.015*\"account\" + 0.012*\"dsm\"'),\n",
      " (3, '0.073*\"transaction\" + 0.073*\"required\" + 0.070*\"po\"'),\n",
      " (4, '0.019*\"called\" + 0.017*\"bags\" + 0.014*\"customer\"'),\n",
      " (5, '0.022*\"po\" + 0.019*\"required\" + 0.019*\"transaction\"'),\n",
      " (6, '0.022*\"called\" + 0.019*\"refund\" + 0.014*\"needed\"')]\n"
     ]
    }
   ],
   "source": [
    "# Select the model and print the topics\n",
    "optimal_model = model_list[2]\n",
    "model_topics = optimal_model.show_topics(formatted=False)\n",
    "pprint(optimal_model.print_topics(num_words=3))"
   ]
  },
  {
   "cell_type": "code",
   "execution_count": 80,
   "metadata": {},
   "outputs": [
    {
     "data": {
      "text/html": [
       "<div>\n",
       "<style scoped>\n",
       "    .dataframe tbody tr th:only-of-type {\n",
       "        vertical-align: middle;\n",
       "    }\n",
       "\n",
       "    .dataframe tbody tr th {\n",
       "        vertical-align: top;\n",
       "    }\n",
       "\n",
       "    .dataframe thead th {\n",
       "        text-align: right;\n",
       "    }\n",
       "</style>\n",
       "<table border=\"1\" class=\"dataframe\">\n",
       "  <thead>\n",
       "    <tr style=\"text-align: right;\">\n",
       "      <th></th>\n",
       "      <th>Document_No</th>\n",
       "      <th>Dominant_Topic</th>\n",
       "      <th>Topic_Perc_Contrib</th>\n",
       "      <th>Keywords</th>\n",
       "      <th>Text</th>\n",
       "    </tr>\n",
       "  </thead>\n",
       "  <tbody>\n",
       "    <tr>\n",
       "      <th>0</th>\n",
       "      <td>0</td>\n",
       "      <td>3.0</td>\n",
       "      <td>0.8772</td>\n",
       "      <td>transaction, required, po, left, please, updat...</td>\n",
       "      <td>valerie called duplicate credits winfield stat...</td>\n",
       "    </tr>\n",
       "    <tr>\n",
       "      <th>1</th>\n",
       "      <td>1</td>\n",
       "      <td>6.0</td>\n",
       "      <td>0.9219</td>\n",
       "      <td>called, refund, needed, sent, know, let, able,...</td>\n",
       "      <td>lisa called entered farmflex invoice error nee...</td>\n",
       "    </tr>\n",
       "    <tr>\n",
       "      <th>2</th>\n",
       "      <td>2</td>\n",
       "      <td>2.0</td>\n",
       "      <td>0.9141</td>\n",
       "      <td>called, account, dsm, order, winfield, return,...</td>\n",
       "      <td>lisa waddle needed assistance registering winf...</td>\n",
       "    </tr>\n",
       "    <tr>\n",
       "      <th>3</th>\n",
       "      <td>3</td>\n",
       "      <td>0.0</td>\n",
       "      <td>0.9723</td>\n",
       "      <td>please, laura, send, complete, update, date, b...</td>\n",
       "      <td>rahul darrell scott sap agri afc decatur acces...</td>\n",
       "    </tr>\n",
       "    <tr>\n",
       "      <th>4</th>\n",
       "      <td>4</td>\n",
       "      <td>6.0</td>\n",
       "      <td>0.8772</td>\n",
       "      <td>called, refund, needed, sent, know, let, able,...</td>\n",
       "      <td>jennie looking farmflex credit three growers</td>\n",
       "    </tr>\n",
       "    <tr>\n",
       "      <th>5</th>\n",
       "      <td>5</td>\n",
       "      <td>1.0</td>\n",
       "      <td>0.9045</td>\n",
       "      <td>access, bags, know, check, called, nan, let, f...</td>\n",
       "      <td>vicki needed help access new path winfield bus...</td>\n",
       "    </tr>\n",
       "    <tr>\n",
       "      <th>6</th>\n",
       "      <td>6</td>\n",
       "      <td>5.0</td>\n",
       "      <td>0.9464</td>\n",
       "      <td>po, required, transaction, said, return, would...</td>\n",
       "      <td>talked charles tfc presently carroll fc monsan...</td>\n",
       "    </tr>\n",
       "    <tr>\n",
       "      <th>7</th>\n",
       "      <td>7</td>\n",
       "      <td>0.0</td>\n",
       "      <td>0.9219</td>\n",
       "      <td>please, laura, send, complete, update, date, b...</td>\n",
       "      <td>deltapine gpos reporting showing agrimine megh...</td>\n",
       "    </tr>\n",
       "    <tr>\n",
       "      <th>8</th>\n",
       "      <td>8</td>\n",
       "      <td>5.0</td>\n",
       "      <td>0.9218</td>\n",
       "      <td>po, required, transaction, said, return, would...</td>\n",
       "      <td>roman needed help new path gpos access stock t...</td>\n",
       "    </tr>\n",
       "    <tr>\n",
       "      <th>9</th>\n",
       "      <td>9</td>\n",
       "      <td>6.0</td>\n",
       "      <td>0.8775</td>\n",
       "      <td>called, refund, needed, sent, know, let, able,...</td>\n",
       "      <td>cliff needed pricing emailing price cards</td>\n",
       "    </tr>\n",
       "  </tbody>\n",
       "</table>\n",
       "</div>"
      ],
      "text/plain": [
       "   Document_No  Dominant_Topic  Topic_Perc_Contrib  \\\n",
       "0            0             3.0              0.8772   \n",
       "1            1             6.0              0.9219   \n",
       "2            2             2.0              0.9141   \n",
       "3            3             0.0              0.9723   \n",
       "4            4             6.0              0.8772   \n",
       "5            5             1.0              0.9045   \n",
       "6            6             5.0              0.9464   \n",
       "7            7             0.0              0.9219   \n",
       "8            8             5.0              0.9218   \n",
       "9            9             6.0              0.8775   \n",
       "\n",
       "                                            Keywords  \\\n",
       "0  transaction, required, po, left, please, updat...   \n",
       "1  called, refund, needed, sent, know, let, able,...   \n",
       "2  called, account, dsm, order, winfield, return,...   \n",
       "3  please, laura, send, complete, update, date, b...   \n",
       "4  called, refund, needed, sent, know, let, able,...   \n",
       "5  access, bags, know, check, called, nan, let, f...   \n",
       "6  po, required, transaction, said, return, would...   \n",
       "7  please, laura, send, complete, update, date, b...   \n",
       "8  po, required, transaction, said, return, would...   \n",
       "9  called, refund, needed, sent, know, let, able,...   \n",
       "\n",
       "                                                Text  \n",
       "0  valerie called duplicate credits winfield stat...  \n",
       "1  lisa called entered farmflex invoice error nee...  \n",
       "2  lisa waddle needed assistance registering winf...  \n",
       "3  rahul darrell scott sap agri afc decatur acces...  \n",
       "4       jennie looking farmflex credit three growers  \n",
       "5  vicki needed help access new path winfield bus...  \n",
       "6  talked charles tfc presently carroll fc monsan...  \n",
       "7  deltapine gpos reporting showing agrimine megh...  \n",
       "8  roman needed help new path gpos access stock t...  \n",
       "9          cliff needed pricing emailing price cards  "
      ]
     },
     "execution_count": 80,
     "metadata": {},
     "output_type": "execute_result"
    }
   ],
   "source": [
    "def format_topics_sentences(ldamodel=lda_model, corpus=corpus, texts=data):\n",
    "    # Init output\n",
    "    sent_topics_df = pd.DataFrame()\n",
    "\n",
    "    # Get main topic in each document\n",
    "    for i, row in enumerate(ldamodel[corpus]):\n",
    "        row = sorted(row, key=lambda x: (x[1]), reverse=True)\n",
    "        # Get the Dominant topic, Perc Contribution and Keywords for each document\n",
    "        for j, (topic_num, prop_topic) in enumerate(row):\n",
    "            if j == 0:  # => dominant topic\n",
    "                wp = ldamodel.show_topic(topic_num)\n",
    "                topic_keywords = \", \".join([word for word, prop in wp])\n",
    "                sent_topics_df = sent_topics_df.append(pd.Series([int(topic_num), round(prop_topic,4), topic_keywords]), ignore_index=True)\n",
    "            else:\n",
    "                break\n",
    "    sent_topics_df.columns = ['Dominant_Topic', 'Perc_Contribution', 'Topic_Keywords']\n",
    "\n",
    "    # Add original text to the end of the output\n",
    "    contents = pd.Series(texts)\n",
    "    sent_topics_df = pd.concat([sent_topics_df, contents], axis=1)\n",
    "    return(sent_topics_df)\n",
    "\n",
    "\n",
    "df_topic_sents_keywords = format_topics_sentences(ldamodel=optimal_model, corpus=corpus, texts=data)\n",
    "\n",
    "# Format\n",
    "df_dominant_topic = df_topic_sents_keywords.reset_index()\n",
    "df_dominant_topic.columns = ['Document_No', 'Dominant_Topic', 'Topic_Perc_Contrib', 'Keywords', 'Text']\n",
    "\n",
    "# Show\n",
    "df_dominant_topic.head(10)"
   ]
  },
  {
   "cell_type": "code",
   "execution_count": 81,
   "metadata": {},
   "outputs": [
    {
     "name": "stdout",
     "output_type": "stream",
     "text": [
      "valerie called duplicate credits winfield statement\n"
     ]
    }
   ],
   "source": [
    "print(data[0])"
   ]
  },
  {
   "cell_type": "code",
   "execution_count": 82,
   "metadata": {},
   "outputs": [
    {
     "name": "stdout",
     "output_type": "stream",
     "text": [
      "lisa called entered farmflex invoice error needed help reverse mymonsanto\n"
     ]
    }
   ],
   "source": [
    "print(data[1])"
   ]
  },
  {
   "cell_type": "code",
   "execution_count": 83,
   "metadata": {},
   "outputs": [
    {
     "name": "stdout",
     "output_type": "stream",
     "text": [
      "lisa waddle needed assistance registering winfield businesslink new user\n"
     ]
    }
   ],
   "source": [
    "print(data[2])"
   ]
  },
  {
   "cell_type": "code",
   "execution_count": 84,
   "metadata": {},
   "outputs": [
    {
     "name": "stdout",
     "output_type": "stream",
     "text": [
      "rahul darrell scott sap agri afc decatur accessing mymonsanto connect error dealer orders mymonsanto error account located coastal region dealer enters dealer orders grower orders sap agri afc decatur al\n"
     ]
    }
   ],
   "source": [
    "print(data[3])"
   ]
  },
  {
   "cell_type": "code",
   "execution_count": 85,
   "metadata": {},
   "outputs": [
    {
     "name": "stdout",
     "output_type": "stream",
     "text": [
      "jennie looking farmflex credit three growers\n"
     ]
    }
   ],
   "source": [
    "print(data[4])"
   ]
  },
  {
   "cell_type": "code",
   "execution_count": null,
   "metadata": {},
   "outputs": [],
   "source": []
  }
 ],
 "metadata": {
  "anaconda-cloud": {},
  "kernelspec": {
   "display_name": "Python 3",
   "language": "python",
   "name": "python3"
  },
  "language_info": {
   "codemirror_mode": {
    "name": "ipython",
    "version": 3
   },
   "file_extension": ".py",
   "mimetype": "text/x-python",
   "name": "python",
   "nbconvert_exporter": "python",
   "pygments_lexer": "ipython3",
   "version": "3.6.5"
  }
 },
 "nbformat": 4,
 "nbformat_minor": 1
}
