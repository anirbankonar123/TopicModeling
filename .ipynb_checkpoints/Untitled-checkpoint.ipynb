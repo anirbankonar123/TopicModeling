{
 "cells": [
  {
   "cell_type": "code",
   "execution_count": 1,
   "metadata": {},
   "outputs": [
    {
     "data": {
      "text/plain": [
       "'3.8.1'"
      ]
     },
     "execution_count": 1,
     "metadata": {},
     "output_type": "execute_result"
    }
   ],
   "source": [
    "import speech_recognition as sr\n",
    "sr.__version__"
   ]
  },
  {
   "cell_type": "code",
   "execution_count": 5,
   "metadata": {},
   "outputs": [],
   "source": [
    "from os import path\n",
    "AUDIO_FILE = \"C:/Audio/patient_conv.wav\""
   ]
  },
  {
   "cell_type": "code",
   "execution_count": 6,
   "metadata": {},
   "outputs": [],
   "source": [
    "# use the audio file as the audio source\n",
    "r = sr.Recognizer()\n",
    "with sr.AudioFile(AUDIO_FILE) as source:\n",
    "    audio = r.record(source)  # read the entire audio file"
   ]
  },
  {
   "cell_type": "code",
   "execution_count": 7,
   "metadata": {},
   "outputs": [
    {
     "name": "stdout",
     "output_type": "stream",
     "text": [
      "but those sorts of how much this year action the late stages a person how is that right now and it hurt and her colleagues in house and he made i think senator said it a double your affection and he may at and i have a new disease specialist is crazy aunt who silas interracial eight and he said in an hour winds blow to it's down and going so by falling to an audience for you for six days and doesn't matter say stop it and yet you back with crazy with a vengeance of a city that again and he and other medications about and then as the point where it in and training or what's going on with your ear get sleepy and it hurts a top of her using drops at raising doubts that enough of it hurts really that it doesn't focus is reporting that the last two years of the waters are the last years of life worse though there and sounds that are at islam everything hurts the money that you under the scope of the village be religious has probably going to hurt lobby is gentles possible that does the nature of this priest father may or may not be a little beard pool that a hedgehog mother was straight analogies says the regular allergies hostesses seasonal allergies to the medicaid each still carried taking medications regularly now go home to that is happening at college in more than a show that on the weekends and under the ballot access to it and it also nope try to work outside the home page of teaching technique used to have ha-ha-ha neck and illusions as to her intention to let him know what i clean the year huh so i'm seeing much of that as shown on the left here it's what we call swimmers year you'll also blew his cultures heard a quiet day on the secreted and going in that envelope is john calvin think of another do you differ about it and still it's actual and an idea about it from it's just the the the drops and steroids you will get better have done this many many times how influenced by that you're gonna be a lot better was the monday identity you were messy wednesday to take the word out to all along a hero of noise that who feel lot of violence that i know i know it's horrible isn't on yes is the one of us and drops on that one out of water is look at is really that that's why it hurt so much stuff i'm so sorry but karen i can to be as gentle but should not financially strapped to her okay but what happened next few years vaclav of the what happens with these ways because our homes the wave swells up contest medication that india as we're needs to be which is against two years and now wall street but what follows on your very gently can bring you up now just a little bit of his gonna be better twenty four hours after the recent volatility because if it even in the so you saw the traps yes deal enough thee from our discussion just in case to a course for it and suspension for drops in your left ear four times a day it turns out to bring out the amd witness protection acne hope he act are ringing off as soon as you get the steroids in giving you what you three of them was hoping to me that my here's a little bit kane that you just look at your house and to you the milkshake for something and ours are protege has gone on for three okay take you on purpose moses lot which is asleep but there are good powerful and effective tool for frogs and in the woods it while that's all you need i can assure you we're going to get a confession and channel coast of the ambassador know are in the year keep the years very very jerk ok thank you saw at the curtain goes up to oneself to put the zone to travel to sinners u. to the open but for a feller for the this last census bureau data six jenna workplace action to prevent the binocular microscope of the is for you this is due to his was naral deposits storm damaged skin cells and plant go to star most of your nature which has course borrowed suspension parmesan and some tylenol number three calling supplied with grew a lot wants to contact me symptoms worship\n"
     ]
    }
   ],
   "source": [
    "try:\n",
    "   \n",
    "    print(r.recognize_sphinx(audio))\n",
    "   \n",
    "except sr.UnknownValueError:\n",
    "    print(\"Speech Recognition could not understand audio\")\n",
    "except sr.RequestError as e:\n",
    "    print(\"Could not request results from Speech Recognition service; {0}\".format(e))"
   ]
  },
  {
   "cell_type": "code",
   "execution_count": null,
   "metadata": {},
   "outputs": [],
   "source": []
  }
 ],
 "metadata": {
  "kernelspec": {
   "display_name": "Python 3",
   "language": "python",
   "name": "python3"
  },
  "language_info": {
   "codemirror_mode": {
    "name": "ipython",
    "version": 3
   },
   "file_extension": ".py",
   "mimetype": "text/x-python",
   "name": "python",
   "nbconvert_exporter": "python",
   "pygments_lexer": "ipython3",
   "version": "3.6.5"
  }
 },
 "nbformat": 4,
 "nbformat_minor": 2
}
