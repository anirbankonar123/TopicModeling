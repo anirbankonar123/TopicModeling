{
 "cells": [
  {
   "cell_type": "markdown",
   "metadata": {},
   "source": [
    "# Import sklearn news groups data"
   ]
  },
  {
   "cell_type": "code",
   "execution_count": 1,
   "metadata": {},
   "outputs": [],
   "source": [
    "import pandas as pd\n",
    "import numpy as np\n",
    "import re\n",
    "import nltk"
   ]
  },
  {
   "cell_type": "markdown",
   "metadata": {},
   "source": [
    "# Inspect the data "
   ]
  },
  {
   "cell_type": "code",
   "execution_count": 2,
   "metadata": {},
   "outputs": [
    {
     "data": {
      "text/html": [
       "<div>\n",
       "<style scoped>\n",
       "    .dataframe tbody tr th:only-of-type {\n",
       "        vertical-align: middle;\n",
       "    }\n",
       "\n",
       "    .dataframe tbody tr th {\n",
       "        vertical-align: top;\n",
       "    }\n",
       "\n",
       "    .dataframe thead th {\n",
       "        text-align: right;\n",
       "    }\n",
       "</style>\n",
       "<table border=\"1\" class=\"dataframe\">\n",
       "  <thead>\n",
       "    <tr style=\"text-align: right;\">\n",
       "      <th></th>\n",
       "      <th>Date</th>\n",
       "      <th>Subject*</th>\n",
       "      <th>Call Type</th>\n",
       "      <th>Assigned</th>\n",
       "      <th>Call Object Identifier</th>\n",
       "      <th>Call Recording</th>\n",
       "      <th>Case Number</th>\n",
       "      <th>Case Owner*</th>\n",
       "      <th>Case Subject</th>\n",
       "      <th>Case Status</th>\n",
       "      <th>Case Origin*</th>\n",
       "      <th>Reason*</th>\n",
       "      <th>Case Description</th>\n",
       "      <th>Count of Comments</th>\n",
       "      <th>Last Case Comment</th>\n",
       "      <th>Account Brand and Type</th>\n",
       "      <th>SAP ID</th>\n",
       "      <th>Account Name</th>\n",
       "      <th>Contact Name</th>\n",
       "    </tr>\n",
       "  </thead>\n",
       "  <tbody>\n",
       "    <tr>\n",
       "      <th>0</th>\n",
       "      <td>11/15/2017</td>\n",
       "      <td>Call 11/15/2017, 3:04:13 PM</td>\n",
       "      <td>Inbound</td>\n",
       "      <td>Debra Greenlee</td>\n",
       "      <td>104792934020171115</td>\n",
       "      <td>http://10.64.30.192:8091/?callid=1047929340</td>\n",
       "      <td>972606.0</td>\n",
       "      <td>Debra Greenlee</td>\n",
       "      <td>JDF credits</td>\n",
       "      <td>Closed</td>\n",
       "      <td>Phone</td>\n",
       "      <td>Credit</td>\n",
       "      <td>Valerie called about duplicate JDF credits on ...</td>\n",
       "      <td>1.0</td>\n",
       "      <td>Valerie called about duplicate JDF credits on ...</td>\n",
       "      <td>National - Dealer</td>\n",
       "      <td>1033841.0</td>\n",
       "      <td>MIDWAY CO-OP LURAY</td>\n",
       "      <td>Valerie Werthmann</td>\n",
       "    </tr>\n",
       "    <tr>\n",
       "      <th>1</th>\n",
       "      <td>6/7/2018</td>\n",
       "      <td>Call 6/7/2018, 8:27:51 AM</td>\n",
       "      <td>Inbound</td>\n",
       "      <td>Debra Greenlee</td>\n",
       "      <td>304737374990180607</td>\n",
       "      <td>http://10.64.30.192:8091/?callid=3047373749</td>\n",
       "      <td>1296323.0</td>\n",
       "      <td>Debra Greenlee</td>\n",
       "      <td>Farmflex Financing reversal</td>\n",
       "      <td>Closed</td>\n",
       "      <td>Phone</td>\n",
       "      <td>Credit</td>\n",
       "      <td>Lisa called entered in a farmflex invoice in e...</td>\n",
       "      <td>1.0</td>\n",
       "      <td>Lisa called entered in a farmflex invoice in e...</td>\n",
       "      <td>National - Dealer</td>\n",
       "      <td>3383451.0</td>\n",
       "      <td>GREENPOINT AG ALTHEIMER</td>\n",
       "      <td>Lisa Waddle</td>\n",
       "    </tr>\n",
       "    <tr>\n",
       "      <th>2</th>\n",
       "      <td>5/10/2018</td>\n",
       "      <td>Call 5/10/2018, 3:11:45 PM</td>\n",
       "      <td>Inbound</td>\n",
       "      <td>Debra Greenlee</td>\n",
       "      <td>304730318670180510</td>\n",
       "      <td>http://10.64.30.192:8091/?callid=3047303186</td>\n",
       "      <td>1267970.0</td>\n",
       "      <td>Debra Greenlee</td>\n",
       "      <td>New C3 user registration</td>\n",
       "      <td>Closed</td>\n",
       "      <td>Phone</td>\n",
       "      <td>Systems Support</td>\n",
       "      <td>Lisa Waddle needed assistance with registering...</td>\n",
       "      <td>1.0</td>\n",
       "      <td>Lisa Waddle needed assistance with registering...</td>\n",
       "      <td>National - Dealer</td>\n",
       "      <td>3383451.0</td>\n",
       "      <td>GREENPOINT AG ALTHEIMER</td>\n",
       "      <td>Lisa Waddle</td>\n",
       "    </tr>\n",
       "    <tr>\n",
       "      <th>3</th>\n",
       "      <td>3/7/2018</td>\n",
       "      <td>Call 3/7/2018, 2:34:32 PM</td>\n",
       "      <td>Inbound</td>\n",
       "      <td>Debra Greenlee</td>\n",
       "      <td>204726086060180307</td>\n",
       "      <td>http://10.64.30.192:8091/?callid=2047260860</td>\n",
       "      <td>1144423.0</td>\n",
       "      <td>Debra Greenlee</td>\n",
       "      <td>MyMonsanto Issue</td>\n",
       "      <td>Closed</td>\n",
       "      <td>Phone</td>\n",
       "      <td>Manage Customer Accounts</td>\n",
       "      <td>Rahul, Darrell Scott with SAP: 1032247 AGRI AF...</td>\n",
       "      <td>2.0</td>\n",
       "      <td>Darrell called trying access C3 User access to...</td>\n",
       "      <td>National - Dealer</td>\n",
       "      <td>1032247.0</td>\n",
       "      <td>AGRI AFC DECATUR</td>\n",
       "      <td>Darrell Scott</td>\n",
       "    </tr>\n",
       "    <tr>\n",
       "      <th>4</th>\n",
       "      <td>6/18/2018</td>\n",
       "      <td>Call 6/18/2018, 10:09:15 AM</td>\n",
       "      <td>Inbound</td>\n",
       "      <td>Debra Greenlee</td>\n",
       "      <td>304740583190180618</td>\n",
       "      <td>http://10.64.30.192:8091/?callid=3047405831</td>\n",
       "      <td>1305717.0</td>\n",
       "      <td>Debra Greenlee</td>\n",
       "      <td>Farmflex</td>\n",
       "      <td>Closed</td>\n",
       "      <td>Phone</td>\n",
       "      <td>Credit</td>\n",
       "      <td>Jennie looking for farmflex credit on three gr...</td>\n",
       "      <td>1.0</td>\n",
       "      <td>Jennie looking for farmflex credit on three gr...</td>\n",
       "      <td>National - Dealer</td>\n",
       "      <td>3623699.0</td>\n",
       "      <td>TALLAHATCHIE F S CHARLESTON</td>\n",
       "      <td>Jennie Mullen</td>\n",
       "    </tr>\n",
       "  </tbody>\n",
       "</table>\n",
       "</div>"
      ],
      "text/plain": [
       "         Date                     Subject* Call Type        Assigned  \\\n",
       "0  11/15/2017  Call 11/15/2017, 3:04:13 PM   Inbound  Debra Greenlee   \n",
       "1    6/7/2018    Call 6/7/2018, 8:27:51 AM   Inbound  Debra Greenlee   \n",
       "2   5/10/2018   Call 5/10/2018, 3:11:45 PM   Inbound  Debra Greenlee   \n",
       "3    3/7/2018    Call 3/7/2018, 2:34:32 PM   Inbound  Debra Greenlee   \n",
       "4   6/18/2018  Call 6/18/2018, 10:09:15 AM   Inbound  Debra Greenlee   \n",
       "\n",
       "  Call Object Identifier                               Call Recording  \\\n",
       "0     104792934020171115  http://10.64.30.192:8091/?callid=1047929340   \n",
       "1     304737374990180607  http://10.64.30.192:8091/?callid=3047373749   \n",
       "2     304730318670180510  http://10.64.30.192:8091/?callid=3047303186   \n",
       "3     204726086060180307  http://10.64.30.192:8091/?callid=2047260860   \n",
       "4     304740583190180618  http://10.64.30.192:8091/?callid=3047405831   \n",
       "\n",
       "   Case Number     Case Owner*                 Case Subject Case Status  \\\n",
       "0     972606.0  Debra Greenlee                  JDF credits      Closed   \n",
       "1    1296323.0  Debra Greenlee  Farmflex Financing reversal      Closed   \n",
       "2    1267970.0  Debra Greenlee     New C3 user registration      Closed   \n",
       "3    1144423.0  Debra Greenlee             MyMonsanto Issue      Closed   \n",
       "4    1305717.0  Debra Greenlee                     Farmflex      Closed   \n",
       "\n",
       "  Case Origin*                   Reason*  \\\n",
       "0        Phone                    Credit   \n",
       "1        Phone                    Credit   \n",
       "2        Phone           Systems Support   \n",
       "3        Phone  Manage Customer Accounts   \n",
       "4        Phone                    Credit   \n",
       "\n",
       "                                    Case Description  Count of Comments  \\\n",
       "0  Valerie called about duplicate JDF credits on ...                1.0   \n",
       "1  Lisa called entered in a farmflex invoice in e...                1.0   \n",
       "2  Lisa Waddle needed assistance with registering...                1.0   \n",
       "3  Rahul, Darrell Scott with SAP: 1032247 AGRI AF...                2.0   \n",
       "4  Jennie looking for farmflex credit on three gr...                1.0   \n",
       "\n",
       "                                   Last Case Comment Account Brand and Type  \\\n",
       "0  Valerie called about duplicate JDF credits on ...      National - Dealer   \n",
       "1  Lisa called entered in a farmflex invoice in e...      National - Dealer   \n",
       "2  Lisa Waddle needed assistance with registering...      National - Dealer   \n",
       "3  Darrell called trying access C3 User access to...      National - Dealer   \n",
       "4  Jennie looking for farmflex credit on three gr...      National - Dealer   \n",
       "\n",
       "      SAP ID                 Account Name       Contact Name  \n",
       "0  1033841.0           MIDWAY CO-OP LURAY  Valerie Werthmann  \n",
       "1  3383451.0      GREENPOINT AG ALTHEIMER        Lisa Waddle  \n",
       "2  3383451.0      GREENPOINT AG ALTHEIMER        Lisa Waddle  \n",
       "3  1032247.0             AGRI AFC DECATUR      Darrell Scott  \n",
       "4  3623699.0  TALLAHATCHIE F S CHARLESTON      Jennie Mullen  "
      ]
     },
     "execution_count": 2,
     "metadata": {},
     "output_type": "execute_result"
    }
   ],
   "source": [
    "sfdc_data = pd.read_csv('C:/Users/GCNDP/SFDC.csv')\n",
    "sfdc_data.head()"
   ]
  },
  {
   "cell_type": "markdown",
   "metadata": {},
   "source": [
    "# Normalize the text, by removing stopwords, punctuation, numeric values..."
   ]
  },
  {
   "cell_type": "code",
   "execution_count": 41,
   "metadata": {},
   "outputs": [],
   "source": [
    "import re\n",
    "import nltk\n",
    "import string\n",
    "exclude = set(string.punctuation) \n",
    "wpt = nltk.WordPunctTokenizer()\n",
    "stop_words = nltk.corpus.stopwords.words('english')\n",
    "newStopWords = ['lb','j','df','jdf']\n",
    "stop_words.extend(newStopWords)\n",
    "table = str.maketrans('', '', string.punctuation)\n",
    "from nltk.stem.porter import PorterStemmer\n",
    "porter = PorterStemmer()\n",
    "\n",
    "def normalize_document(doc):\n",
    "    # lower case and remove special characters\\whitespaces\n",
    "   # doc = re.sub(r'[^a-zA-Z0-9\\s]', '', doc, re.I)\n",
    "   # doc = doc.lower()\n",
    "   # doc = doc.strip()\n",
    "    # tokenize document\n",
    "    tokens = doc.split()\n",
    "    # remove punctuation from each word\n",
    "    tokens = [w.translate(table) for w in tokens]\n",
    "    #wpt.tokenize(doc)\n",
    "    # convert to lower case\n",
    "    lower_tokens = [w.lower() for w in tokens]\n",
    "    #remove spaces\n",
    "    stripped = [w.strip() for w in lower_tokens]\n",
    "    # remove remaining tokens that are not alphabetic\n",
    "    words = [word for word in stripped if word.isalpha()]\n",
    "    # filter stopwords out of document\n",
    "    filtered_tokens = [token for token in words if token not in stop_words]\n",
    "    #apply Stemming\n",
    "    #stemmed = [porter.stem(word) for word in filtered_tokens]\n",
    "    # re-create document from filtered tokens\n",
    "    doc = ' '.join(filtered_tokens)\n",
    "    return doc\n",
    "\n",
    "normalize_corpus = np.vectorize(normalize_document)"
   ]
  },
  {
   "cell_type": "code",
   "execution_count": 42,
   "metadata": {},
   "outputs": [
    {
     "name": "stdout",
     "output_type": "stream",
     "text": [
      "Jennie looking for farmflex credit on three growers.\n"
     ]
    }
   ],
   "source": [
    "corpus = sfdc_data['Case Description'].astype(str)\n",
    "print(corpus[4])"
   ]
  },
  {
   "cell_type": "code",
   "execution_count": 43,
   "metadata": {},
   "outputs": [
    {
     "name": "stdout",
     "output_type": "stream",
     "text": [
      "jennie looking farmflex credit three growers\n"
     ]
    }
   ],
   "source": [
    "norm_corpus = normalize_corpus(corpus)\n",
    "print(norm_corpus[4])\n",
    "corpus_df = pd.DataFrame(norm_corpus)\n",
    "#print(corpus_df)"
   ]
  },
  {
   "cell_type": "code",
   "execution_count": 44,
   "metadata": {},
   "outputs": [],
   "source": [
    "from nltk.corpus import stopwords \n",
    "from nltk.stem.wordnet import WordNetLemmatizer\n",
    "import string\n",
    "stop = set(stopwords.words('english'))\n",
    "exclude = set(string.punctuation) \n",
    "lemma = WordNetLemmatizer()\n",
    "def clean(doc):\n",
    "    stop_free = \" \".join([i for i in doc.lower().split() if i not in stop])\n",
    "    punc_free = ''.join(ch for ch in stop_free if ch not in exclude)\n",
    "    normalized = \" \".join(lemma.lemmatize(word) for word in punc_free.split())\n",
    "    return normalized\n",
    "\n",
    "doc_clean = [clean(doc).split() for doc in norm_corpus]   "
   ]
  },
  {
   "cell_type": "code",
   "execution_count": 45,
   "metadata": {},
   "outputs": [
    {
     "name": "stdout",
     "output_type": "stream",
     "text": [
      "['valerie called duplicate credits winfield statement']\n"
     ]
    },
    {
     "name": "stderr",
     "output_type": "stream",
     "text": [
      "<input>:6: DeprecationWarning: invalid escape sequence \\S\n",
      "<input>:9: DeprecationWarning: invalid escape sequence \\s\n",
      "<input>:6: DeprecationWarning: invalid escape sequence \\S\n",
      "<input>:9: DeprecationWarning: invalid escape sequence \\s\n",
      "<input>:6: DeprecationWarning: invalid escape sequence \\S\n",
      "<input>:9: DeprecationWarning: invalid escape sequence \\s\n",
      "<ipython-input-45-187a8473d6e3>:6: DeprecationWarning: invalid escape sequence \\S\n",
      "  data = [re.sub('\\S*@\\S*\\s?', '', sent) for sent in data]\n",
      "<ipython-input-45-187a8473d6e3>:9: DeprecationWarning: invalid escape sequence \\s\n",
      "  data = [re.sub('\\s+', ' ', sent) for sent in data]\n"
     ]
    }
   ],
   "source": [
    "#Pre-process the data removing special characters, quotes etc\n",
    "from pprint import pprint\n",
    "data = norm_corpus\n",
    "\n",
    "# Remove Emails\n",
    "data = [re.sub('\\S*@\\S*\\s?', '', sent) for sent in data]\n",
    "\n",
    "# Remove new line characters\n",
    "data = [re.sub('\\s+', ' ', sent) for sent in data]\n",
    "\n",
    "# Remove distracting single quotes\n",
    "data = [re.sub(\"\\'\", \"\", sent) for sent in data]\n",
    "\n",
    "pprint(data[:1])"
   ]
  },
  {
   "cell_type": "code",
   "execution_count": 46,
   "metadata": {},
   "outputs": [
    {
     "name": "stdout",
     "output_type": "stream",
     "text": [
      "[['valerie', 'called', 'duplicate', 'credits', 'winfield', 'statement']]\n"
     ]
    }
   ],
   "source": [
    "import gensim\n",
    "from gensim import corpora\n",
    "from nltk.corpus import stopwords\n",
    "stop_words = stopwords.words('english')\n",
    "stop_words.extend(['lb','j','df','jdf'])\n",
    "def sent_to_words(sentences):\n",
    "    for sentence in sentences:\n",
    "        yield(gensim.utils.simple_preprocess(str(sentence), deacc=True))  # deacc=True removes punctuations\n",
    "\n",
    "data_words = list(sent_to_words(data))\n",
    "\n",
    "print(data_words[:1])"
   ]
  },
  {
   "cell_type": "code",
   "execution_count": 47,
   "metadata": {},
   "outputs": [
    {
     "name": "stdout",
     "output_type": "stream",
     "text": [
      "['valerie', 'called', 'duplicate', 'credits', 'winfield', 'statement']\n"
     ]
    },
    {
     "name": "stderr",
     "output_type": "stream",
     "text": [
      "C:\\Continuum\\anaconda3\\lib\\site-packages\\gensim\\models\\phrases.py:598: UserWarning: For a faster implementation, use the gensim.models.phrases.Phraser class\n",
      "  warnings.warn(\"For a faster implementation, use the gensim.models.phrases.Phraser class\")\n"
     ]
    }
   ],
   "source": [
    "# Build the bigram and trigram models\n",
    "bigram = gensim.models.Phrases(data_words, min_count=5, threshold=100) # higher threshold fewer phrases.\n",
    "trigram = gensim.models.Phrases(bigram[data_words], threshold=100)  \n",
    "\n",
    "# Faster way to get a sentence clubbed as a trigram/bigram\n",
    "bigram_mod = gensim.models.phrases.Phraser(bigram)\n",
    "trigram_mod = gensim.models.phrases.Phraser(trigram)\n",
    "\n",
    "# See trigram example\n",
    "print(trigram_mod[bigram_mod[data_words[0]]])"
   ]
  },
  {
   "cell_type": "code",
   "execution_count": 48,
   "metadata": {},
   "outputs": [],
   "source": [
    "from nltk.stem import WordNetLemmatizer\n",
    "\n",
    "lemmatizer = WordNetLemmatizer()\n",
    "from gensim.utils import simple_preprocess\n",
    "stop_words = nltk.corpus.stopwords.words('english')\n",
    "# Define functions for stopwords, bigrams, trigrams and lemmatization\n",
    "def remove_stopwords(texts):\n",
    "    return [[word for word in simple_preprocess(str(doc)) if word not in stop_words] for doc in texts]\n",
    "\n",
    "def make_bigrams(texts):\n",
    "    return [bigram_mod[doc] for doc in texts]\n",
    "\n",
    "def make_trigrams(texts):\n",
    "    return [trigram_mod[bigram_mod[doc]] for doc in texts]\n",
    "\n",
    "def lemmatization(texts):\n",
    "    texts_out = []\n",
    "    for sent in texts:\n",
    "        doc = \" \".join(sent) \n",
    "        texts_out.append(lemmatizer.lemmatize(token) for token in doc)\n",
    "    return texts_out"
   ]
  },
  {
   "cell_type": "code",
   "execution_count": 49,
   "metadata": {},
   "outputs": [
    {
     "name": "stdout",
     "output_type": "stream",
     "text": [
      "[['valerie', 'called', 'duplicate', 'credits', 'winfield', 'statement']]\n"
     ]
    }
   ],
   "source": [
    "# Remove Stop Words\n",
    "data_words_nostops = remove_stopwords(data_words)\n",
    "\n",
    "# Form Bigrams\n",
    "data_words_bigrams = make_bigrams(data_words_nostops)\n",
    "\n",
    "# Initialize spacy 'en' model, keeping only tagger component (for efficiency)\n",
    "# python3 -m spacy download en\n",
    "#nlp = spacy.load('en', disable=['parser', 'ner'])\n",
    "#nlp = spacy.load()\n",
    "\n",
    "# Do lemmatization keeping only noun, adj, vb, adv\n",
    "#data_lemmatized = lemmatization(data_words_bigrams)\n",
    "\n",
    "print(data_words_bigrams[:1])"
   ]
  },
  {
   "cell_type": "markdown",
   "metadata": {},
   "source": [
    "# Create Document Term Matrix from the normalized text, with bigrams"
   ]
  },
  {
   "cell_type": "code",
   "execution_count": 57,
   "metadata": {},
   "outputs": [
    {
     "name": "stdout",
     "output_type": "stream",
     "text": [
      "[[(0, 1), (1, 1), (2, 1), (3, 1), (4, 1), (5, 1)]]\n"
     ]
    }
   ],
   "source": [
    "# Create Dictionary\n",
    "dictionary = corpora.Dictionary(data_words_bigrams)\n",
    "\n",
    "# Create Corpus\n",
    "texts = data_words_bigrams\n",
    "\n",
    "# Create Document Term Matrix from the text\n",
    "doc_term_matrix = [dictionary.doc2bow(text) for text in texts]\n",
    "\n",
    "# View\n",
    "print(doc_term_matrix[:1])"
   ]
  },
  {
   "cell_type": "code",
   "execution_count": 51,
   "metadata": {},
   "outputs": [
    {
     "data": {
      "text/plain": [
       "'called'"
      ]
     },
     "execution_count": 51,
     "metadata": {},
     "output_type": "execute_result"
    }
   ],
   "source": [
    "id2word[0]"
   ]
  },
  {
   "cell_type": "code",
   "execution_count": 25,
   "metadata": {},
   "outputs": [],
   "source": [
    "#[[(id2word[id], freq) for id, freq in cp] for cp in corpus[:10]]"
   ]
  },
  {
   "cell_type": "markdown",
   "metadata": {},
   "source": [
    "# Create Gensim LDA Model, with num_topics = 14 (assumed)"
   ]
  },
  {
   "cell_type": "code",
   "execution_count": 59,
   "metadata": {},
   "outputs": [],
   "source": [
    "lda_model = gensim.models.ldamodel.LdaModel(corpus=doc_term_matrix,\n",
    "                                           id2word=id2word,\n",
    "                                           num_topics=14, \n",
    "                                           random_state=100,\n",
    "                                           update_every=1,\n",
    "                                           chunksize=100,\n",
    "                                           passes=10,\n",
    "                                           alpha='auto',\n",
    "                                           per_word_topics=True)"
   ]
  },
  {
   "cell_type": "code",
   "execution_count": 60,
   "metadata": {},
   "outputs": [
    {
     "name": "stdout",
     "output_type": "stream",
     "text": [
      "[(0,\n",
      "  '0.061*\"let\" + 0.056*\"know\" + 0.037*\"add\" + 0.025*\"refund\" + 0.025*\"showing\" '\n",
      "  '+ 0.024*\"units\" + 0.023*\"seed\" + 0.022*\"cannot\" + 0.022*\"user\" + '\n",
      "  '0.021*\"truck\"'),\n",
      " (1,\n",
      "  '0.034*\"called\" + 0.027*\"connect\" + 0.024*\"list\" + 0.021*\"gpos\" + '\n",
      "  '0.018*\"call\" + 0.017*\"growers\" + 0.015*\"trying\" + 0.015*\"stock\" + '\n",
      "  '0.015*\"take\" + 0.014*\"hour\"'),\n",
      " (2,\n",
      "  '0.107*\"please\" + 0.082*\"laura\" + 0.073*\"update\" + 0.072*\"send\" + '\n",
      "  '0.066*\"bucket\" + 0.066*\"ylaspick\" + 0.066*\"date\" + 0.065*\"complete\" + '\n",
      "  '0.059*\"weigle\" + 0.038*\"dealer\"'),\n",
      " (3,\n",
      "  '0.041*\"tomorrow\" + 0.033*\"help\" + 0.032*\"per\" + 0.030*\"invoices\" + '\n",
      "  '0.029*\"needed\" + 0.022*\"schedule\" + 0.019*\"details\" + 0.018*\"asap\" + '\n",
      "  '0.018*\"additional\" + 0.017*\"winfield\"'),\n",
      " (4,\n",
      "  '0.041*\"check\" + 0.037*\"would\" + 0.034*\"account\" + 0.033*\"get\" + '\n",
      "  '0.026*\"look\" + 0.024*\"need\" + 0.023*\"told\" + 0.019*\"walter\" + 0.018*\"see\" + '\n",
      "  '0.016*\"jim\"'),\n",
      " (5,\n",
      "  '0.059*\"bags\" + 0.028*\"corn\" + 0.023*\"called\" + 0.022*\"scheduled\" + '\n",
      "  '0.022*\"let\" + 0.019*\"know\" + 0.019*\"would\" + 0.019*\"wasnt\" + '\n",
      "  '0.019*\"looking\" + 0.016*\"still\"'),\n",
      " (6,\n",
      "  '0.055*\"return\" + 0.044*\"called\" + 0.036*\"dsm\" + 0.032*\"stock\" + '\n",
      "  '0.032*\"winfield\" + 0.029*\"brian\" + 0.026*\"ready\" + 0.024*\"wants\" + '\n",
      "  '0.022*\"invoice\" + 0.018*\"john\"'),\n",
      " (7,\n",
      "  '0.173*\"transaction\" + 0.168*\"po\" + 0.168*\"required\" + 0.052*\"nan\" + '\n",
      "  '0.051*\"ship\" + 0.021*\"talked\" + 0.009*\"prefer\" + 0.008*\"contact\" + '\n",
      "  '0.006*\"ok\" + 0.005*\"deleted\"'),\n",
      " (8,\n",
      "  '0.078*\"said\" + 0.044*\"load\" + 0.041*\"call\" + 0.032*\"give\" + 0.029*\"corn\" + '\n",
      "  '0.026*\"place\" + 0.020*\"wanted\" + 0.019*\"hunter\" + 0.018*\"want\" + '\n",
      "  '0.018*\"pull\"'),\n",
      " (9,\n",
      "  '0.082*\"access\" + 0.076*\"mymonsanto\" + 0.026*\"tony\" + 0.025*\"accessing\" + '\n",
      "  '0.022*\"issues\" + 0.017*\"error\" + 0.017*\"user\" + 0.016*\"new\" + 0.016*\"needs\" '\n",
      "  '+ 0.016*\"winfield\"'),\n",
      " (10,\n",
      "  '0.051*\"order\" + 0.049*\"bags\" + 0.039*\"customer\" + 0.037*\"back\" + '\n",
      "  '0.031*\"left\" + 0.028*\"would\" + 0.026*\"delivery\" + 0.020*\"call\" + 0.019*\"vm\" '\n",
      "  '+ 0.019*\"wanting\"'),\n",
      " (11,\n",
      "  '0.036*\"order\" + 0.017*\"farms\" + 0.017*\"direct\" + 0.016*\"last\" + '\n",
      "  '0.016*\"talk\" + 0.014*\"getting\" + 0.014*\"wanted\" + 0.013*\"system\" + '\n",
      "  '0.012*\"login\" + 0.012*\"review\"'),\n",
      " (12,\n",
      "  '0.037*\"vision\" + 0.034*\"account\" + 0.028*\"went\" + 0.024*\"report\" + '\n",
      "  '0.024*\"year\" + 0.023*\"call\" + 0.020*\"needs\" + 0.018*\"double\" + 0.018*\"crop\" '\n",
      "  '+ 0.016*\"transferred\"'),\n",
      " (13,\n",
      "  '0.024*\"receiving\" + 0.020*\"needs\" + 0.017*\"misshipped\" + 0.013*\"way\" + '\n",
      "  '0.012*\"hesterman\" + 0.011*\"winfield\" + 0.009*\"ss\" + 0.009*\"expensive\" + '\n",
      "  '0.009*\"cornhas\" + 0.009*\"numbersneed\"')]\n"
     ]
    }
   ],
   "source": [
    "# Print the Keyword in the 10 topics\n",
    "pprint(lda_model.print_topics())\n",
    "doc_lda = lda_model[doc_term_matrix]"
   ]
  },
  {
   "cell_type": "markdown",
   "metadata": {},
   "source": [
    "# Compute Perplexity and Coherence scores"
   ]
  },
  {
   "cell_type": "code",
   "execution_count": 62,
   "metadata": {},
   "outputs": [
    {
     "name": "stdout",
     "output_type": "stream",
     "text": [
      "\n",
      "Perplexity:  -6.48683654627762\n",
      "\n",
      "Coherence Score:  0.4099188983793155\n"
     ]
    }
   ],
   "source": [
    "#Compute Perplexity\n",
    "from gensim.models import CoherenceModel\n",
    "print('\\nPerplexity: ', lda_model.log_perplexity(doc_term_matrix))  # a measure of how good the model is. lower the better.\n",
    "\n",
    "# Compute Coherence Score\n",
    "coherence_model_lda = CoherenceModel(model=lda_model, texts=data_words_bigrams, dictionary=dictionary, coherence='c_v')\n",
    "coherence_lda = coherence_model_lda.get_coherence()\n",
    "print('\\nCoherence Score: ', coherence_lda)"
   ]
  },
  {
   "cell_type": "markdown",
   "metadata": {},
   "source": [
    "# Visualize the topic keywords"
   ]
  },
  {
   "cell_type": "code",
   "execution_count": 63,
   "metadata": {},
   "outputs": [
    {
     "name": "stderr",
     "output_type": "stream",
     "text": [
      "C:\\Continuum\\anaconda3\\lib\\site-packages\\pyLDAvis\\_prepare.py:257: FutureWarning: Sorting because non-concatenation axis is not aligned. A future version\n",
      "of pandas will change to not sort by default.\n",
      "\n",
      "To accept the future behavior, pass 'sort=True'.\n",
      "\n",
      "To retain the current behavior and silence the warning, pass sort=False\n",
      "\n",
      "  return pd.concat([default_term_info] + list(topic_dfs))\n"
     ]
    },
    {
     "data": {
      "text/html": [
       "\n",
       "<link rel=\"stylesheet\" type=\"text/css\" href=\"https://cdn.rawgit.com/bmabey/pyLDAvis/files/ldavis.v1.0.0.css\">\n",
       "\n",
       "\n",
       "<div id=\"ldavis_el119562280569045406787868\"></div>\n",
       "<script type=\"text/javascript\">\n",
       "\n",
       "var ldavis_el119562280569045406787868_data = {\"mdsDat\": {\"x\": [0.08591868274254515, 0.05730284517464958, -0.3791117622127863, 0.07096109133528132, 0.042835670709805505, 0.10052064588532092, -0.05955735747815145, 0.03927868085651211, -0.005629132337417824, -0.013255829829986854, 0.03070908066578355, 0.002912493739164428, 0.015659388154312035, 0.01145550259496923], \"y\": [-0.25813526135578485, 0.06584500256548637, -0.0967915938577838, 0.03779956201761065, -0.1274348930912819, -0.1263811851194522, 0.08310378731433425, 0.0025963126109542515, 0.10578836056395546, 0.0462589559607242, 0.045383164852683205, 0.10499980810692817, 0.0494374641184656, 0.0675305153131608], \"topics\": [1, 2, 3, 4, 5, 6, 7, 8, 9, 10, 11, 12, 13, 14], \"cluster\": [1, 1, 1, 1, 1, 1, 1, 1, 1, 1, 1, 1, 1, 1], \"Freq\": [12.859992980957031, 12.089357376098633, 11.91285514831543, 10.512471199035645, 9.171165466308594, 8.104677200317383, 6.554091930389404, 6.485777378082275, 4.5479044914245605, 4.201743125915527, 3.9428911209106445, 3.50331449508667, 3.2274599075317383, 2.8863067626953125]}, \"tinfo\": {\"Category\": [\"Default\", \"Default\", \"Default\", \"Default\", \"Default\", \"Default\", \"Default\", \"Default\", \"Default\", \"Default\", \"Default\", \"Default\", \"Default\", \"Default\", \"Default\", \"Default\", \"Default\", \"Default\", \"Default\", \"Default\", \"Default\", \"Default\", \"Default\", \"Default\", \"Default\", \"Default\", \"Default\", \"Default\", \"Default\", \"Default\", \"Topic1\", \"Topic1\", \"Topic1\", \"Topic1\", \"Topic1\", \"Topic1\", \"Topic1\", \"Topic1\", \"Topic1\", \"Topic1\", \"Topic1\", \"Topic1\", \"Topic1\", \"Topic1\", \"Topic1\", \"Topic1\", \"Topic1\", \"Topic1\", \"Topic1\", \"Topic1\", \"Topic1\", \"Topic1\", \"Topic1\", \"Topic1\", \"Topic1\", \"Topic1\", \"Topic1\", \"Topic1\", \"Topic1\", \"Topic1\", \"Topic1\", \"Topic1\", \"Topic1\", \"Topic1\", \"Topic1\", \"Topic1\", \"Topic1\", \"Topic1\", \"Topic1\", \"Topic1\", \"Topic1\", \"Topic1\", \"Topic1\", \"Topic2\", \"Topic2\", \"Topic2\", \"Topic2\", \"Topic2\", \"Topic2\", \"Topic2\", \"Topic2\", \"Topic2\", \"Topic2\", \"Topic2\", \"Topic2\", \"Topic2\", \"Topic2\", \"Topic2\", \"Topic2\", \"Topic2\", \"Topic2\", \"Topic2\", \"Topic2\", \"Topic2\", \"Topic2\", \"Topic2\", \"Topic2\", \"Topic2\", \"Topic2\", \"Topic2\", \"Topic2\", \"Topic2\", \"Topic2\", \"Topic2\", \"Topic2\", \"Topic2\", \"Topic2\", \"Topic2\", \"Topic2\", \"Topic2\", \"Topic2\", \"Topic2\", \"Topic2\", \"Topic2\", \"Topic2\", \"Topic2\", \"Topic2\", \"Topic2\", \"Topic2\", \"Topic3\", \"Topic3\", \"Topic3\", \"Topic3\", \"Topic3\", \"Topic3\", \"Topic3\", \"Topic3\", \"Topic3\", \"Topic3\", \"Topic3\", \"Topic3\", \"Topic3\", \"Topic3\", \"Topic3\", \"Topic3\", \"Topic3\", \"Topic3\", \"Topic3\", \"Topic3\", \"Topic3\", \"Topic3\", \"Topic3\", \"Topic3\", \"Topic3\", \"Topic3\", \"Topic3\", \"Topic3\", \"Topic3\", \"Topic3\", \"Topic3\", \"Topic3\", \"Topic3\", \"Topic3\", \"Topic3\", \"Topic3\", \"Topic3\", \"Topic3\", \"Topic3\", \"Topic4\", \"Topic4\", \"Topic4\", \"Topic4\", \"Topic4\", \"Topic4\", \"Topic4\", \"Topic4\", \"Topic4\", \"Topic4\", \"Topic4\", \"Topic4\", \"Topic4\", \"Topic4\", \"Topic4\", \"Topic4\", \"Topic4\", \"Topic4\", \"Topic4\", \"Topic4\", \"Topic4\", \"Topic4\", \"Topic4\", \"Topic4\", \"Topic4\", \"Topic4\", \"Topic4\", \"Topic4\", \"Topic4\", \"Topic4\", \"Topic4\", \"Topic4\", \"Topic4\", \"Topic4\", \"Topic4\", \"Topic4\", \"Topic4\", \"Topic4\", \"Topic4\", \"Topic4\", \"Topic5\", \"Topic5\", \"Topic5\", \"Topic5\", \"Topic5\", \"Topic5\", \"Topic5\", \"Topic5\", \"Topic5\", \"Topic5\", \"Topic5\", \"Topic5\", \"Topic5\", \"Topic5\", \"Topic5\", \"Topic5\", \"Topic5\", \"Topic5\", \"Topic5\", \"Topic5\", \"Topic5\", \"Topic5\", \"Topic5\", \"Topic5\", \"Topic5\", \"Topic5\", \"Topic5\", \"Topic5\", \"Topic5\", \"Topic5\", \"Topic5\", \"Topic5\", \"Topic5\", \"Topic5\", \"Topic5\", \"Topic5\", \"Topic5\", \"Topic5\", \"Topic5\", \"Topic5\", \"Topic5\", \"Topic5\", \"Topic5\", \"Topic6\", \"Topic6\", \"Topic6\", \"Topic6\", \"Topic6\", \"Topic6\", \"Topic6\", \"Topic6\", \"Topic6\", \"Topic6\", \"Topic6\", \"Topic6\", \"Topic6\", \"Topic6\", \"Topic6\", \"Topic6\", \"Topic6\", \"Topic6\", \"Topic6\", \"Topic6\", \"Topic6\", \"Topic6\", \"Topic6\", \"Topic6\", \"Topic6\", \"Topic6\", \"Topic6\", \"Topic6\", \"Topic6\", \"Topic6\", \"Topic6\", \"Topic6\", \"Topic6\", \"Topic6\", \"Topic6\", \"Topic6\", \"Topic6\", \"Topic6\", \"Topic6\", \"Topic6\", \"Topic6\", \"Topic6\", \"Topic6\", \"Topic6\", \"Topic6\", \"Topic6\", \"Topic6\", \"Topic7\", \"Topic7\", \"Topic7\", \"Topic7\", \"Topic7\", \"Topic7\", \"Topic7\", \"Topic7\", \"Topic7\", \"Topic7\", \"Topic7\", \"Topic7\", \"Topic7\", \"Topic7\", \"Topic7\", \"Topic7\", \"Topic7\", \"Topic7\", \"Topic7\", \"Topic7\", \"Topic7\", \"Topic7\", \"Topic7\", \"Topic7\", \"Topic7\", \"Topic7\", \"Topic7\", \"Topic7\", \"Topic7\", \"Topic7\", \"Topic7\", \"Topic7\", \"Topic7\", \"Topic7\", \"Topic7\", \"Topic8\", \"Topic8\", \"Topic8\", \"Topic8\", \"Topic8\", \"Topic8\", \"Topic8\", \"Topic8\", \"Topic8\", \"Topic8\", \"Topic8\", \"Topic8\", \"Topic8\", \"Topic8\", \"Topic8\", \"Topic8\", \"Topic8\", \"Topic8\", \"Topic8\", \"Topic8\", \"Topic8\", \"Topic8\", \"Topic8\", \"Topic8\", \"Topic8\", \"Topic8\", \"Topic8\", \"Topic8\", \"Topic8\", \"Topic8\", \"Topic8\", \"Topic8\", \"Topic8\", \"Topic8\", \"Topic8\", \"Topic8\", \"Topic8\", \"Topic8\", \"Topic8\", \"Topic8\", \"Topic8\", \"Topic8\", \"Topic9\", \"Topic9\", \"Topic9\", \"Topic9\", \"Topic9\", \"Topic9\", \"Topic9\", \"Topic9\", \"Topic9\", \"Topic9\", \"Topic9\", \"Topic9\", \"Topic9\", \"Topic9\", \"Topic9\", \"Topic9\", \"Topic9\", \"Topic9\", \"Topic9\", \"Topic9\", \"Topic9\", \"Topic9\", \"Topic9\", \"Topic9\", \"Topic9\", \"Topic9\", \"Topic9\", \"Topic9\", \"Topic9\", \"Topic9\", \"Topic9\", \"Topic9\", \"Topic9\", \"Topic9\", \"Topic9\", \"Topic9\", \"Topic9\", \"Topic9\", \"Topic9\", \"Topic10\", \"Topic10\", \"Topic10\", \"Topic10\", \"Topic10\", \"Topic10\", \"Topic10\", \"Topic10\", \"Topic10\", \"Topic10\", \"Topic10\", \"Topic10\", \"Topic10\", \"Topic10\", \"Topic10\", \"Topic10\", \"Topic10\", \"Topic10\", \"Topic10\", \"Topic10\", \"Topic10\", \"Topic10\", \"Topic10\", \"Topic10\", \"Topic10\", \"Topic10\", \"Topic10\", \"Topic10\", \"Topic10\", \"Topic10\", \"Topic10\", \"Topic10\", \"Topic10\", \"Topic10\", \"Topic10\", \"Topic11\", \"Topic11\", \"Topic11\", \"Topic11\", \"Topic11\", \"Topic11\", \"Topic11\", \"Topic11\", \"Topic11\", \"Topic11\", \"Topic11\", \"Topic11\", \"Topic11\", \"Topic11\", \"Topic11\", \"Topic11\", \"Topic11\", \"Topic11\", \"Topic11\", \"Topic11\", \"Topic11\", \"Topic11\", \"Topic11\", \"Topic11\", \"Topic11\", \"Topic11\", \"Topic11\", \"Topic11\", \"Topic11\", \"Topic11\", \"Topic11\", \"Topic11\", \"Topic11\", \"Topic11\", \"Topic11\", \"Topic11\", \"Topic11\", \"Topic11\", \"Topic11\", \"Topic11\", \"Topic11\", \"Topic11\", \"Topic12\", \"Topic12\", \"Topic12\", \"Topic12\", \"Topic12\", \"Topic12\", \"Topic12\", \"Topic12\", \"Topic12\", \"Topic12\", \"Topic12\", \"Topic12\", \"Topic12\", \"Topic12\", \"Topic12\", \"Topic12\", \"Topic12\", \"Topic12\", \"Topic12\", \"Topic12\", \"Topic12\", \"Topic12\", \"Topic12\", \"Topic12\", \"Topic12\", \"Topic12\", \"Topic12\", \"Topic12\", \"Topic12\", \"Topic12\", \"Topic12\", \"Topic12\", \"Topic12\", \"Topic12\", \"Topic12\", \"Topic12\", \"Topic12\", \"Topic12\", \"Topic12\", \"Topic12\", \"Topic13\", \"Topic13\", \"Topic13\", \"Topic13\", \"Topic13\", \"Topic13\", \"Topic13\", \"Topic13\", \"Topic13\", \"Topic13\", \"Topic13\", \"Topic13\", \"Topic13\", \"Topic13\", \"Topic13\", \"Topic13\", \"Topic13\", \"Topic13\", \"Topic13\", \"Topic13\", \"Topic13\", \"Topic13\", \"Topic13\", \"Topic13\", \"Topic13\", \"Topic13\", \"Topic13\", \"Topic13\", \"Topic13\", \"Topic13\", \"Topic13\", \"Topic13\", \"Topic13\", \"Topic13\", \"Topic13\", \"Topic13\", \"Topic13\", \"Topic13\", \"Topic13\", \"Topic13\", \"Topic13\", \"Topic13\", \"Topic13\", \"Topic13\", \"Topic13\", \"Topic13\", \"Topic13\", \"Topic13\", \"Topic14\", \"Topic14\", \"Topic14\", \"Topic14\", \"Topic14\", \"Topic14\", \"Topic14\", \"Topic14\", \"Topic14\", \"Topic14\", \"Topic14\", \"Topic14\", \"Topic14\", \"Topic14\", \"Topic14\", \"Topic14\", \"Topic14\", \"Topic14\", \"Topic14\", \"Topic14\", \"Topic14\", \"Topic14\", \"Topic14\", \"Topic14\", \"Topic14\", \"Topic14\", \"Topic14\", \"Topic14\", \"Topic14\", \"Topic14\", \"Topic14\", \"Topic14\", \"Topic14\", \"Topic14\", \"Topic14\", \"Topic14\", \"Topic14\", \"Topic14\", \"Topic14\", \"Topic14\", \"Topic14\"], \"Freq\": [41.0, 40.0, 40.0, 47.0, 36.0, 41.0, 33.0, 33.0, 29.0, 29.0, 29.0, 29.0, 26.0, 30.0, 35.0, 24.0, 14.0, 16.0, 12.0, 34.0, 21.0, 49.0, 13.0, 12.0, 27.0, 33.0, 17.0, 14.0, 25.0, 20.0, 12.184181213378906, 9.1015625, 8.380372047424316, 8.904960632324219, 6.113358974456787, 5.786265850067139, 4.891758918762207, 4.710358619689941, 4.710356712341309, 4.383208274841309, 7.1592116355896, 4.262882232666016, 3.9358606338500977, 14.695695877075195, 3.7901484966278076, 3.754436731338501, 3.7166900634765625, 6.926809787750244, 3.3070967197418213, 5.1495137214660645, 2.979943037033081, 18.441715240478516, 2.8552207946777344, 2.085265874862671, 2.0852644443511963, 2.085263967514038, 2.0852606296539307, 2.084585666656494, 1.90384042263031, 1.9038364887237549, 17.405424118041992, 24.026174545288086, 5.763702869415283, 3.534113883972168, 23.093631744384766, 3.1127467155456543, 9.551902770996094, 12.94491958618164, 5.236003875732422, 6.239502906799316, 5.029063701629639, 6.862646579742432, 4.951189994812012, 24.128591537475586, 12.680150032043457, 10.623231887817383, 9.575071334838867, 15.846632957458496, 7.843441486358643, 6.686391830444336, 6.5093994140625, 5.226493835449219, 5.032987594604492, 4.839498996734619, 4.839497089385986, 4.357660293579102, 14.146317481994629, 3.763627529144287, 3.5226995944976807, 3.5223941802978516, 3.1695899963378906, 3.169588565826416, 2.5755507946014404, 2.575533390045166, 2.528132200241089, 2.4468255043029785, 2.446660041809082, 2.3346376419067383, 2.334637403488159, 2.3346376419067383, 2.334637403488159, 2.3346359729766846, 2.3346312046051025, 13.952007293701172, 11.213730812072754, 5.816383361816406, 6.067704677581787, 4.5985894203186035, 6.091091156005859, 6.173180103302002, 19.326812744140625, 4.820525646209717, 6.2424821853637695, 3.498262882232666, 4.2181549072265625, 4.7668776512146, 4.518700122833252, 3.6082990169525146, 3.575925588607788, 35.56547164916992, 28.674449920654297, 28.674449920654297, 46.39399337768555, 25.558258056640625, 28.650699615478516, 16.442060470581055, 28.297386169433594, 31.691373825073242, 31.01548957824707, 4.684366226196289, 4.02400541305542, 3.9430782794952393, 2.7387466430664062, 2.7386655807495117, 1.823290467262268, 1.823290467262268, 1.823290467262268, 1.823290467262268, 1.823272943496704, 1.8232622146606445, 1.8220046758651733, 1.7646468877792358, 1.3948701620101929, 1.3948701620101929, 1.2552132606506348, 1.2552132606506348, 2.7386646270751953, 1.0815500020980835, 0.9078191518783569, 2.665898084640503, 4.592050552368164, 2.83250093460083, 1.8232929706573486, 1.7323540449142456, 2.0984599590301514, 2.2872700691223145, 1.8975142240524292, 1.8929023742675781, 14.085916519165039, 9.597926139831543, 9.288299560546875, 8.331283569335938, 8.107108116149902, 7.895442008972168, 7.162680625915527, 7.162679672241211, 7.150093078613281, 6.59733772277832, 6.56580114364624, 9.399458885192871, 4.831855297088623, 4.831854343414307, 4.831846237182617, 4.607672214508057, 4.086429595947266, 4.054912567138672, 4.0549116134643555, 4.0549116134643555, 2.9493801593780518, 6.936168193817139, 5.484032154083252, 4.607678413391113, 4.054912567138672, 2.396028518676758, 23.24446678161621, 1.948258876800537, 1.948258876800537, 1.948258876800537, 6.313108444213867, 1.948258876800537, 21.278039932250977, 1.948258876800537, 7.14609432220459, 8.22156047821045, 8.774434089660645, 6.170998573303223, 5.888635635375977, 6.59748649597168, 13.780863761901855, 8.578229904174805, 8.131645202636719, 5.329956531524658, 4.254623889923096, 4.11014986038208, 3.4825165271759033, 6.3049774169921875, 3.3370532989501953, 3.1559484004974365, 2.8548367023468018, 2.8548367023468018, 2.8548152446746826, 2.854567527770996, 5.41500186920166, 2.3827879428863525, 2.3827738761901855, 2.0816800594329834, 2.081674098968506, 2.0816545486450195, 2.081655740737915, 11.038484573364258, 1.9005696773529053, 1.9005696773529053, 1.7551006078720093, 1.7550981044769287, 1.7550947666168213, 2.966477632522583, 1.4539908170700073, 1.4539908170700073, 2.974832534790039, 3.069727897644043, 5.026943206787109, 7.605252742767334, 11.336639404296875, 12.182074546813965, 6.050879955291748, 4.878034591674805, 3.18025279045105, 5.219905376434326, 2.7019121646881104, 3.8025803565979004, 2.4015066623687744, 6.503746509552002, 5.556173324584961, 4.669278144836426, 4.669276714324951, 3.9015486240386963, 3.9015400409698486, 3.8408398628234863, 3.7217063903808594, 3.7216992378234863, 3.3974082469940186, 3.2782604694366455, 3.133812427520752, 3.1338112354278564, 2.9539589881896973, 2.8348000049591064, 2.8347811698913574, 2.8347811698913574, 2.8330326080322266, 2.832897663116455, 2.510510206222534, 2.4495959281921387, 2.3660731315612793, 2.3306820392608643, 2.3306727409362793, 2.330671787261963, 2.067077398300171, 5.525693893432617, 1.8872395753860474, 1.8872394561767578, 1.8872395753860474, 2.7741196155548096, 1.8872395753860474, 1.8872395753860474, 1.8872395753860474, 2.448413610458374, 8.246513366699219, 17.315475463867188, 4.30276346206665, 6.359851837158203, 6.703945159912109, 5.723178386688232, 5.600008964538574, 4.2385711669921875, 3.684312582015991, 3.4038431644439697, 3.07660174369812, 2.8506546020507812, 41.1799430847168, 39.965755462646484, 39.965755462646484, 12.357450485229492, 12.193025588989258, 4.985907077789307, 1.2742587327957153, 1.2742573022842407, 1.2742570638656616, 1.2742555141448975, 1.0695548057556152, 1.0695548057556152, 0.7695143818855286, 0.7695143818855286, 0.7695143818855286, 2.148118734359741, 0.564811110496521, 0.564811110496521, 0.564811110496521, 0.564811110496521, 0.564811110496521, 0.564811110496521, 0.564811110496521, 0.564811110496521, 0.564811110496521, 0.564811110496521, 0.564811110496521, 0.5648097395896912, 0.5648097395896912, 0.564809262752533, 1.9172555208206177, 1.4789457321166992, 0.6669239401817322, 0.6196783781051636, 0.6203716397285461, 3.959397792816162, 3.7849466800689697, 3.7849435806274414, 3.0321483612060547, 2.8576929569244385, 2.8576865196228027, 2.2793662548065186, 2.2793595790863037, 2.2793548107147217, 2.279351234436035, 2.2060625553131104, 1.7437690496444702, 1.7437690496444702, 1.7437690496444702, 1.7437690496444702, 1.7437690496444702, 1.7437690496444702, 1.7437690496444702, 1.7437083721160889, 1.7437083721160889, 1.7437083721160889, 1.7437083721160889, 1.7437083721160889, 1.7437083721160889, 1.6704834699630737, 1.6704823970794678, 1.352112054824829, 1.3521114587783813, 1.3521047830581665, 1.3520992994308472, 4.03001594543457, 2.4450278282165527, 2.6402862071990967, 2.7771077156066895, 8.556925773620605, 3.3704521656036377, 3.3279306888580322, 2.558748245239258, 2.7011430263519287, 1.883493423461914, 1.9531551599502563, 1.7437690496444702, 13.521854400634766, 4.318755149841309, 4.054781913757324, 2.595564365386963, 2.2009878158569336, 2.1090948581695557, 2.1090877056121826, 2.1090877056121826, 2.0702643394470215, 12.51599407196045, 1.911824345588684, 1.425363302230835, 1.4253313541412354, 1.2280844449996948, 1.2280844449996948, 1.2280844449996948, 1.2280844449996948, 1.2280844449996948, 1.2280844449996948, 1.91182279586792, 3.5780482292175293, 2.884664535522461, 0.7416300177574158, 0.7416300177574158, 0.7416300177574158, 0.7416300177574158, 0.7416300177574158, 0.7416300177574158, 0.7416300177574158, 0.7416290044784546, 1.4098892211914062, 1.1364915370941162, 1.8520668745040894, 2.505689859390259, 2.6319406032562256, 2.6832001209259033, 2.783630847930908, 2.5972893238067627, 1.5939960479736328, 11.90633773803711, 6.681476593017578, 4.87382698059082, 3.994349479675293, 2.8489789962768555, 2.729962110519409, 2.700822353363037, 2.700822353363037, 2.581815481185913, 1.7025113105773926, 1.554816484451294, 1.5548158884048462, 1.1894726753234863, 1.1894726753234863, 1.1894726753234863, 1.1894726753234863, 1.1894726753234863, 1.1894726753234863, 1.1894726753234863, 1.1894726753234863, 1.1894205808639526, 1.1894205808639526, 1.1894205808639526, 1.1891169548034668, 1.1891169548034668, 1.1891169548034668, 1.0704700946807861, 1.0704631805419922, 2.623979091644287, 0.7741460800170898, 2.068317174911499, 6.258884429931641, 4.491628646850586, 2.9908294677734375, 1.4222803115844727, 5.342002868652344, 4.085915565490723, 3.3926453590393066, 3.4547557830810547, 2.559823513031006, 2.559823513031006, 2.2669970989227295, 1.866544246673584, 1.5737345218658447, 1.5737324953079224, 1.5737323760986328, 1.3037387132644653, 1.3037387132644653, 1.3037387132644653, 1.3037387132644653, 1.3036863803863525, 1.3036863803863525, 1.3036863803863525, 1.3036863803863525, 1.3036863803863525, 1.3036863803863525, 1.173302173614502, 1.1732897758483887, 1.1730393171310425, 1.0109072923660278, 1.01090407371521, 1.4113112688064575, 0.6104786992073059, 0.6104786992073059, 0.6104787588119507, 0.6104787588119507, 0.6104787588119507, 0.6104787588119507, 0.6104785799980164, 1.4894599914550781, 2.8005611896514893, 1.2066420316696167, 4.87224006652832, 3.2650465965270996, 1.5610871315002441, 1.6031785011291504, 1.2060245275497437, 2.2033309936523438, 1.4943169355392456, 1.122165560722351, 1.122165560722351, 1.122165560722351, 1.122165560722351, 1.122165560722351, 1.122165560722351, 1.1221638917922974, 1.1221638917922974, 1.1221638917922974, 1.1221638917922974, 1.1221638917922974, 1.1221638917922974, 1.1221638917922974, 1.1221638917922974, 1.1221638917922974, 1.1221638917922974, 1.1221561431884766, 1.1221561431884766, 1.1221561431884766, 1.1221561431884766, 1.1221561431884766, 1.1221561431884766, 1.1221561431884766, 1.1221556663513184, 1.1221556663513184, 1.1221556663513184, 1.1221556663513184, 1.1221556663513184, 1.1221556663513184, 3.098233222961426, 1.1221556663513184, 1.1221556663513184, 1.1221556663513184, 1.6516449451446533, 2.547978639602661, 1.4588465690612793, 1.1221638917922974, 1.1221585273742676, 2.819422483444214, 1.5989123582839966, 1.433919072151184, 1.433919072151184, 1.324588656425476, 1.324588656425476, 1.3245569467544556, 1.3245569467544556, 1.3245569467544556, 1.3245569467544556, 1.3245569467544556, 1.3245569467544556, 1.3245569467544556, 1.9625800848007202, 1.0270817279815674, 0.8620870113372803, 2.430086612701416, 1.7314395904541016, 1.0270756483078003, 0.8620864748954773, 3.1181185245513916, 0.45525139570236206, 0.45525139570236206, 0.45525139570236206, 0.45525139570236206, 0.45525139570236206, 0.45525139570236206, 0.45525139570236206, 0.45525139570236206, 0.45525139570236206, 1.249161958694458, 0.4552512466907501, 0.45525139570236206, 0.45525139570236206, 0.45525139570236206, 0.45525139570236206, 1.027081847190857, 0.45525139570236206, 1.780653953552246, 0.45525139570236206, 1.4119186401367188, 1.4339141845703125, 4.0332746505737305, 1.4339178800582886, 2.117093086242676, 1.738450050354004, 1.4339128732681274, 1.0485864877700806, 4.296994686126709, 3.3246054649353027, 2.310356855392456, 1.902260661125183, 1.9022512435913086, 1.603834629058838, 1.4354650974273682, 1.1957447528839111, 1.0302433967590332, 1.0302433967590332, 1.0302388668060303, 1.0302366018295288, 0.8262566328048706, 0.6221544742584229, 0.6221544742584229, 0.6221544742584229, 0.6221447587013245, 0.6221447587013245, 3.177516222000122, 0.45665207505226135, 0.45665207505226135, 0.45665207505226135, 0.4566521644592285, 0.45665207505226135, 0.45665207505226135, 0.45665207505226135, 0.4566521644592285, 0.45665207505226135, 0.4566519558429718, 0.4566519558429718, 1.95591402053833, 3.449699640274048, 3.0230648517608643, 1.1698451042175293, 0.8630317449569702, 1.748244285583496, 0.7710837721824646, 1.5165164470672607, 0.8536416292190552, 0.6828938126564026, 0.5170637965202332], \"Term\": [\"transaction\", \"po\", \"required\", \"please\", \"laura\", \"bags\", \"update\", \"send\", \"bucket\", \"ylaspick\", \"date\", \"complete\", \"weigle\", \"let\", \"order\", \"return\", \"access\", \"mymonsanto\", \"said\", \"know\", \"call\", \"called\", \"nan\", \"ship\", \"account\", \"would\", \"dealer\", \"check\", \"back\", \"winfield\", \"delivery\", \"vm\", \"going\", \"wanting\", \"ordered\", \"confirm\", \"rod\", \"beans\", \"added\", \"message\", \"shipped\", \"create\", \"saying\", \"left\", \"matt\", \"questions\", \"jeff\", \"also\", \"couple\", \"benjamin\", \"actually\", \"customer\", \"placed\", \"ben\", \"wait\", \"correct\", \"shipping\", \"soon\", \"meant\", \"transferring\", \"back\", \"order\", \"email\", \"make\", \"bags\", \"due\", \"call\", \"would\", \"like\", \"wanted\", \"told\", \"called\", \"seed\", \"return\", \"brian\", \"wants\", \"invoice\", \"dsm\", \"john\", \"lot\", \"bill\", \"tyler\", \"paid\", \"dan\", \"transfer\", \"regarding\", \"stock\", \"registering\", \"lisa\", \"missing\", \"unable\", \"partner\", \"cable\", \"another\", \"paperwork\", \"credits\", \"matching\", \"waddle\", \"graded\", \"assistance\", \"troys\", \"debra\", \"location\", \"winfield\", \"ready\", \"monsanto\", \"full\", \"enter\", \"everything\", \"id\", \"called\", \"businesslink\", \"new\", \"trying\", \"information\", \"grower\", \"account\", \"attached\", \"help\", \"laura\", \"bucket\", \"ylaspick\", \"please\", \"weigle\", \"date\", \"dealer\", \"complete\", \"update\", \"send\", \"fulfilled\", \"pallets\", \"pick\", \"try\", \"deliveries\", \"zeiset\", \"daryls\", \"reiff\", \"availability\", \"scott\", \"research\", \"palletize\", \"avoid\", \"thank\", \"sewell\", \"agric\", \"commodities\", \"following\", \"overweight\", \"afc\", \"something\", \"orders\", \"everything\", \"prefer\", \"contact\", \"grower\", \"customer\", \"dealership\", \"would\", \"add\", \"refund\", \"units\", \"cannot\", \"truck\", \"go\", \"dj\", \"criders\", \"size\", \"preference\", \"reason\", \"showing\", \"joseph_dewayne\", \"linville\", \"long\", \"anytime\", \"hybrid\", \"outstanding\", \"gotten\", \"dont\", \"password\", \"able\", \"requested\", \"request\", \"money\", \"may\", \"let\", \"acces\", \"locked\", \"melicia\", \"balance\", \"richards\", \"know\", \"crm\", \"attached\", \"user\", \"seed\", \"sent\", \"needed\", \"called\", \"check\", \"look\", \"need\", \"set\", \"worked\", \"alfalfa\", \"taken\", \"walter\", \"ken\", \"applied\", \"fs\", \"approved\", \"dennis\", \"cos\", \"jim\", \"justin\", \"address\", \"showed\", \"noticed\", \"payments\", \"thought\", \"get\", \"personal\", \"posted\", \"stuart\", \"hubner\", \"coop\", \"payment\", \"purchased\", \"richard\", \"credit\", \"got\", \"farm\", \"told\", \"account\", \"would\", \"see\", \"dealership\", \"time\", \"back\", \"information\", \"called\", \"getting\", \"scheduled\", \"wasnt\", \"still\", \"hybrids\", \"jason\", \"since\", \"boxes\", \"hes\", \"available\", \"team\", \"kristina\", \"tim\", \"thanks\", \"already\", \"undershipped\", \"vu\", \"mercer\", \"short\", \"store\", \"quite\", \"beja\", \"issue\", \"empty\", \"passed\", \"deadline\", \"tried\", \"looking\", \"dawley\", \"open\", \"extra\", \"returns\", \"great\", \"really\", \"sold\", \"financing\", \"corn\", \"bags\", \"like\", \"let\", \"called\", \"know\", \"would\", \"ready\", \"see\", \"sent\", \"could\", \"grower\", \"transaction\", \"required\", \"po\", \"nan\", \"ship\", \"talked\", \"deleted\", \"charles\", \"presently\", \"side\", \"tfc\", \"replaced\", \"appointment\", \"palmer\", \"plant\", \"prefer\", \"pricing\", \"price\", \"emailing\", \"mbsd\", \"cliff\", \"cards\", \"roll\", \"carroll\", \"agreement\", \"fc\", \"apex\", \"pruden\", \"micheal\", \"katherine\", \"contact\", \"ok\", \"monsanto\", \"due\", \"would\", \"direct\", \"last\", \"talk\", \"system\", \"login\", \"review\", \"hill\", \"ron\", \"pat\", \"printing\", \"copies\", \"pure\", \"aa\", \"birch\", \"conventional\", \"dairys\", \"category\", \"twin\", \"bc\", \"lcr\", \"pinecroft\", \"discounts\", \"coatney\", \"nc\", \"used\", \"paper\", \"devans\", \"march\", \"united\", \"clear\", \"farms\", \"first\", \"use\", \"verify\", \"order\", \"getting\", \"wanted\", \"corn\", \"account\", \"farm\", \"back\", \"changed\", \"access\", \"tony\", \"accessing\", \"dale\", \"mymon\", \"approve\", \"possible\", \"trucking\", \"determine\", \"mymonsanto\", \"grant\", \"alton\", \"however\", \"overnight\", \"heidi\", \"cell\", \"file\", \"duckworth\", \"wykoff\", \"brent\", \"issues\", \"error\", \"none\", \"pending\", \"names\", \"familiar\", \"karen\", \"sounded\", \"users\", \"emulated\", \"isa\", \"entered\", \"gpos\", \"businesslink\", \"needs\", \"new\", \"user\", \"winfield\", \"send\", \"said\", \"load\", \"give\", \"place\", \"hunter\", \"want\", \"standard\", \"pull\", \"work\", \"didnt\", \"forward\", \"elvin\", \"desk\", \"deancrest\", \"day\", \"away\", \"apparently\", \"amanda\", \"leaving\", \"plan\", \"advised\", \"hourigans\", \"ordering\", \"start\", \"hall\", \"planting\", \"charlie\", \"yet\", \"put\", \"basic\", \"week\", \"call\", \"corn\", \"wanted\", \"update\", \"vision\", \"went\", \"year\", \"report\", \"crop\", \"double\", \"transferred\", \"changes\", \"prior\", \"pay\", \"kevin\", \"prioritize\", \"production\", \"territory\", \"flagged\", \"either\", \"happening\", \"whats\", \"tl\", \"merle\", \"inventory\", \"admin\", \"sub\", \"select\", \"lance\", \"office\", \"emailed\", \"im\", \"trevor\", \"persontwo\", \"anderson\", \"entities\", \"different\", \"lane\", \"way\", \"needs\", \"jonathan\", \"account\", \"call\", \"sent\", \"get\", \"voicemail\", \"misshipped\", \"hesterman\", \"cornhas\", \"expensive\", \"inboundhe\", \"less\", \"numbersneed\", \"ss\", \"ny\", \"smith\", \"roger\", \"osborne\", \"bloomville\", \"hwy\", \"frank\", \"bradley\", \"st\", \"albano\", \"longer\", \"dlr\", \"oas\", \"ocker\", \"owes\", \"exists\", \"figure\", \"meadows\", \"bar\", \"returned\", \"num\", \"myron\", \"came\", \"receiving\", \"act\", \"fnd\", \"llc\", \"way\", \"needs\", \"winfield\", \"changed\", \"following\", \"list\", \"hour\", \"prdt\", \"janet\", \"large\", \"keith\", \"perspective\", \"sara\", \"discussion\", \"hub\", \"locations\", \"might\", \"mitchellville\", \"growers\", \"transfers\", \"west\", \"gpos\", \"take\", \"checked\", \"claims\", \"connect\", \"assist\", \"advance\", \"alma\", \"almena\", \"andy\", \"busineslink\", \"block\", \"arrival\", \"state\", \"jon\", \"zero\", \"marv\", \"cross\", \"hours\", \"maintenance\", \"screen\", \"happy\", \"trying\", \"school\", \"receiving\", \"enter\", \"called\", \"orders\", \"call\", \"stock\", \"grower\", \"email\", \"tomorrow\", \"per\", \"schedule\", \"asap\", \"additional\", \"rick\", \"program\", \"howry\", \"apply\", \"kris\", \"mo\", \"afternoon\", \"path\", \"maple\", \"cancel\", \"reys\", \"replace\", \"damaged\", \"invoices\", \"mon\", \"inv\", \"signed\", \"kathleen\", \"bol\", \"clarksdale\", \"matthews\", \"works\", \"jan\", \"daniel\", \"soy\", \"details\", \"help\", \"needed\", \"monsanto\", \"credit\", \"winfield\", \"first\", \"called\", \"needs\", \"complete\", \"shipped\"], \"Total\": [41.0, 40.0, 40.0, 47.0, 36.0, 41.0, 33.0, 33.0, 29.0, 29.0, 29.0, 29.0, 26.0, 30.0, 35.0, 24.0, 14.0, 16.0, 12.0, 34.0, 21.0, 49.0, 13.0, 12.0, 27.0, 33.0, 17.0, 14.0, 25.0, 20.0, 12.888388633728027, 9.805764198303223, 9.09024715423584, 9.683496475219727, 6.81787109375, 6.490715980529785, 5.595981121063232, 5.414560317993164, 5.4145612716674805, 5.087413787841797, 8.331913948059082, 4.9672136306762695, 4.640069484710693, 17.372255325317383, 4.494349956512451, 4.458646774291992, 4.458580493927002, 8.386438369750977, 4.011300563812256, 6.275746822357178, 3.6841554641723633, 22.93465232849121, 3.5648443698883057, 2.7894656658172607, 2.7894656658172607, 2.7894654273986816, 2.7894654273986816, 2.789621591567993, 2.6080408096313477, 2.6080405712127686, 25.165836334228516, 35.46533966064453, 8.367033958435059, 4.978837490081787, 41.935726165771484, 4.376562595367432, 21.758209228515625, 33.72751235961914, 10.190204620361328, 16.13650894165039, 15.301334381103516, 49.82501983642578, 16.11539077758789, 24.815336227416992, 13.366896629333496, 11.309982299804688, 10.261999130249023, 17.21884536743164, 8.530265808105469, 7.373138427734375, 7.196146488189697, 5.913247585296631, 5.719742774963379, 5.526241779327393, 5.526240825653076, 5.044405460357666, 16.52309799194336, 4.450370788574219, 4.2094502449035645, 4.209430694580078, 3.8563334941864014, 3.8563334941864014, 3.262295961380005, 3.262291669845581, 3.2148821353912354, 3.1335787773132324, 3.133559226989746, 3.0213801860809326, 3.0213799476623535, 3.0213801860809326, 3.0213799476623535, 3.0213797092437744, 3.0213778018951416, 20.295677185058594, 16.086288452148438, 8.231263160705566, 8.733866691589355, 6.670830726623535, 9.559356689453125, 10.713563919067383, 49.82501983642578, 7.955075263977051, 11.574347496032715, 5.917244911193848, 8.77989387512207, 14.670378684997559, 27.302696228027344, 11.375380516052246, 10.48243236541748, 36.271949768066406, 29.380916595458984, 29.380916595458984, 47.57560729980469, 26.264720916748047, 29.787879943847656, 17.148521423339844, 29.638179779052734, 33.77667236328125, 33.25809860229492, 5.3914008140563965, 4.730466842651367, 4.649548053741455, 3.44521164894104, 3.4452412128448486, 2.529742479324341, 2.529742479324341, 2.529742479324341, 2.529742479324341, 2.5297436714172363, 2.5297396183013916, 2.5301156044006348, 2.47110652923584, 2.1013247966766357, 2.1013247966766357, 1.961774230003357, 1.961774230003357, 4.526401996612549, 1.7880257368087769, 1.6142715215682983, 4.852904319763184, 8.610520362854004, 9.559356689453125, 4.617799758911133, 4.7506842613220215, 14.670378684997559, 22.93465232849121, 10.83710765838623, 33.72751235961914, 14.77757453918457, 10.289592742919922, 9.979960441589355, 9.022951126098633, 8.798772811889648, 8.587163925170898, 7.854349136352539, 7.854349136352539, 7.841763973236084, 7.289000511169434, 7.25746488571167, 10.691418647766113, 5.523515701293945, 5.523514747619629, 5.523514747619629, 5.2993340492248535, 4.778100967407227, 4.746570110321045, 4.746569633483887, 4.746570587158203, 3.6410367488861084, 8.609174728393555, 6.8289008140563965, 5.745912075042725, 5.193146228790283, 3.088057279586792, 30.243438720703125, 2.6399126052856445, 2.6399126052856445, 2.6399126052856445, 9.261367797851562, 2.6399126052856445, 34.704586029052734, 2.6399126052856445, 11.375380516052246, 14.188708305358887, 16.11539077758789, 11.727176666259766, 13.486183166503906, 49.82501983642578, 14.48515796661377, 9.282527923583984, 8.835952758789062, 6.034252166748047, 4.959804058074951, 4.81451416015625, 4.186823844909668, 7.590015888214111, 4.041354179382324, 3.8602418899536133, 3.559135913848877, 3.559135913848877, 3.559136152267456, 3.559077024459839, 6.8953776359558105, 3.0870816707611084, 3.0870823860168457, 2.785975456237793, 2.785975694656372, 2.785971164703369, 2.785975217819214, 14.829950332641602, 2.6048619747161865, 2.6048622131347656, 2.4593920707702637, 2.4593918323516846, 2.4593923091888428, 4.216376781463623, 2.1582858562469482, 2.1582858562469482, 4.4958367347717285, 4.670297145843506, 8.905878067016602, 15.301334381103516, 27.302696228027344, 33.72751235961914, 14.104872703552246, 10.83710765838623, 5.590603828430176, 25.165836334228516, 8.77989387512207, 49.82501983642578, 7.574119567871094, 7.208418369293213, 6.260839462280273, 5.3739519119262695, 5.373953819274902, 4.606215000152588, 4.606215000152588, 4.545528411865234, 4.4263715744018555, 4.42637300491333, 4.102078914642334, 3.982927083969116, 3.838477849960327, 3.838477849960327, 3.658637285232544, 3.5394845008850098, 3.539485216140747, 3.539485216140747, 3.539499044418335, 3.5395004749298096, 3.215191125869751, 3.154531717300415, 3.0707409381866455, 3.0353481769561768, 3.0353477001190186, 3.0353474617004395, 2.7717463970184326, 7.570679187774658, 2.5919034481048584, 2.5919036865234375, 2.5919034481048584, 3.879220485687256, 2.5919034481048584, 2.5919034481048584, 2.5919034481048584, 3.499356985092163, 15.894357681274414, 41.935726165771484, 10.190204620361328, 30.243438720703125, 49.82501983642578, 34.704586029052734, 33.72751235961914, 16.086288452148438, 14.104872703552246, 11.727176666259766, 9.094948768615723, 14.670378684997559, 41.87733840942383, 40.66313934326172, 40.66313934326172, 13.05482006072998, 12.890402793884277, 5.68328332901001, 1.9716275930404663, 1.9716274738311768, 1.9716275930404663, 1.9716272354125977, 1.7669235467910767, 1.7669235467910767, 1.4668837785720825, 1.4668837785720825, 1.4668837785720825, 4.617799758911133, 1.262179970741272, 1.262179970741272, 1.262179970741272, 1.262179970741272, 1.262179970741272, 1.262179970741272, 1.262179970741272, 1.262179970741272, 1.262179970741272, 1.262179970741272, 1.262179970741272, 1.2621797323226929, 1.2621797323226929, 1.262179970741272, 4.7506842613220215, 4.026933670043945, 8.231263160705566, 4.376562595367432, 33.72751235961914, 4.6531147956848145, 4.478652477264404, 4.4786505699157715, 3.725857973098755, 3.551396131515503, 3.551393985748291, 2.973066806793213, 2.9730660915374756, 2.973064422607422, 2.973062753677368, 2.8997645378112793, 2.4374823570251465, 2.4374823570251465, 2.4374823570251465, 2.4374823570251465, 2.4374823570251465, 2.4374823570251465, 2.4374823570251465, 2.437471628189087, 2.437471628189087, 2.437471628189087, 2.437471628189087, 2.437471628189087, 2.437471628189087, 2.364182233810425, 2.364182710647583, 2.045811176300049, 2.0458109378814697, 2.045809030532837, 2.0458102226257324, 6.233896255493164, 3.86124849319458, 4.400882720947266, 5.414243698120117, 35.46533966064453, 7.574119567871094, 16.13650894165039, 15.894357681274414, 27.302696228027344, 8.905878067016602, 25.165836334228516, 3.5186421871185303, 14.221423149108887, 5.018333911895752, 4.754485607147217, 3.295109748840332, 2.9005379676818848, 2.8086535930633545, 2.8086535930633545, 2.8086535930633545, 2.769826889038086, 16.93619155883789, 2.6113698482513428, 2.1249160766601562, 2.124906301498413, 1.927629828453064, 1.927629828453064, 1.927629828453064, 1.927629828453064, 1.927629828453064, 1.927629828453064, 3.146951913833618, 6.234826564788818, 5.466746807098389, 1.441176176071167, 1.441176176071167, 1.441176176071167, 1.441176176071167, 1.441176176071167, 1.441176176071167, 1.441176176071167, 1.4411756992340088, 2.7468345165252686, 2.3666975498199463, 4.933290481567383, 7.955075263977051, 10.56895637512207, 11.574347496032715, 14.188708305358887, 20.295677185058594, 33.25809860229492, 12.6203031539917, 7.3954668045043945, 5.58778715133667, 4.709097385406494, 3.5629496574401855, 3.44394588470459, 3.4147825241088867, 3.414782762527466, 3.295776128768921, 2.4170470237731934, 2.2687764167785645, 2.2687764167785645, 1.9034439325332642, 1.9034439325332642, 1.9034439325332642, 1.9034439325332642, 1.9034439325332642, 1.9034439325332642, 1.9034439325332642, 1.9034439325332642, 1.9034570455551147, 1.9034570455551147, 1.9034570455551147, 1.9035239219665527, 1.9035239219665527, 1.9035239219665527, 1.784437656402588, 1.7844388484954834, 4.503697872161865, 1.4881054162979126, 4.152353763580322, 21.758209228515625, 15.894357681274414, 16.13650894165039, 33.77667236328125, 6.051790714263916, 4.795699596405029, 4.1024370193481445, 4.178284645080566, 3.2696192264556885, 3.2696192264556885, 2.9767823219299316, 2.576362133026123, 2.283517599105835, 2.283517599105835, 2.283518075942993, 2.0135276317596436, 2.0135276317596436, 2.0135276317596436, 2.0135276317596436, 2.013533592224121, 2.013533592224121, 2.013533592224121, 2.013533592224121, 2.013533592224121, 2.013533592224121, 1.8830899000167847, 1.8830939531326294, 1.883071780204773, 1.720691442489624, 1.7206918001174927, 2.4657819271087646, 1.3202626705169678, 1.3202626705169678, 1.320263147354126, 1.320263147354126, 1.320263147354126, 1.320263147354126, 1.320263147354126, 3.8098721504211426, 10.56895637512207, 3.428180456161499, 27.302696228027344, 21.758209228515625, 11.727176666259766, 14.829950332641602, 3.428236246109009, 2.919750452041626, 2.210783004760742, 1.8385958671569824, 1.8385958671569824, 1.8385958671569824, 1.8385958671569824, 1.8385958671569824, 1.8385958671569824, 1.8385961055755615, 1.8385961055755615, 1.8385961055755615, 1.8385961055755615, 1.8385961055755615, 1.8385961055755615, 1.8385961055755615, 1.8385961055755615, 1.8385961055755615, 1.8385961055755615, 1.8385987281799316, 1.8385987281799316, 1.8385987281799316, 1.8385987281799316, 1.8385987281799316, 1.8385987281799316, 1.8385987281799316, 1.8386003971099854, 1.8386003971099854, 1.8386003971099854, 1.8386003971099854, 1.8386003971099854, 1.8386003971099854, 5.178173065185547, 1.8386003971099854, 1.8386003971099854, 1.8386003971099854, 3.8098721504211426, 10.56895637512207, 20.295677185058594, 3.5186421871185303, 4.526401996612549, 3.5284430980682373, 2.307935953140259, 2.142939567565918, 2.142939567565918, 2.0336272716522217, 2.0336272716522217, 2.0336296558380127, 2.0336296558380127, 2.0336296558380127, 2.0336296558380127, 2.0336296558380127, 2.0336296558380127, 2.0336296558380127, 3.165564775466919, 1.7361036539077759, 1.5711076259613037, 4.933290481567383, 3.5459916591644287, 2.271686553955078, 2.0575613975524902, 7.655351638793945, 1.1642719507217407, 1.1642719507217407, 1.1642719507217407, 1.1642719507217407, 1.1642719507217407, 1.1642719507217407, 1.1642719507217407, 1.1642719507217407, 1.1642719507217407, 3.3815181255340576, 1.1642718315124512, 1.1642719507217407, 1.1642719507217407, 1.1642719507217407, 1.1642719507217407, 3.0244786739349365, 1.1642719507217407, 5.917244911193848, 1.1642719507217407, 5.178173065185547, 6.670830726623535, 49.82501983642578, 8.610520362854004, 21.758209228515625, 16.52309799194336, 14.670378684997559, 8.367033958435059, 5.005869388580322, 4.033480644226074, 3.019230365753174, 2.611142635345459, 2.611145257949829, 2.312706470489502, 2.1480982303619385, 1.9046193361282349, 1.7391149997711182, 1.7391149997711182, 1.7391159534454346, 1.7391154766082764, 1.5734931230545044, 1.3310277462005615, 1.3310277462005615, 1.3310277462005615, 1.3310282230377197, 1.3310282230377197, 6.925053596496582, 1.165523648262024, 1.165523648262024, 1.165523648262024, 1.1655237674713135, 1.165523648262024, 1.165523648262024, 1.165523648262024, 1.1655237674713135, 1.165523648262024, 1.1655237674713135, 1.1655237674713135, 5.010257720947266, 10.48243236541748, 13.486183166503906, 8.231263160705566, 4.4958367347717285, 20.295677185058594, 3.86124849319458, 49.82501983642578, 10.56895637512207, 29.638179779052734, 8.331913948059082], \"loglift\": [30.0, 29.0, 28.0, 27.0, 26.0, 25.0, 24.0, 23.0, 22.0, 21.0, 20.0, 19.0, 18.0, 17.0, 16.0, 15.0, 14.0, 13.0, 12.0, 11.0, 10.0, 9.0, 8.0, 7.0, 6.0, 5.0, 4.0, 3.0, 2.0, 1.0, 1.9948999881744385, 1.9765000343322754, 1.9696999788284302, 1.9672000408172607, 1.9420000314712524, 1.9362000226974487, 1.916599988937378, 1.9117000102996826, 1.9117000102996826, 1.9020999670028687, 1.899399995803833, 1.8981000185012817, 1.8863999843597412, 1.8837000131607056, 1.8805999755859375, 1.87909996509552, 1.8690999746322632, 1.8597999811172485, 1.8580000400543213, 1.8532999753952026, 1.8388999700546265, 1.8329999446868896, 1.8291000127792358, 1.76010000705719, 1.76010000705719, 1.76010000705719, 1.76010000705719, 1.7596999406814575, 1.736299991607666, 1.736299991607666, 1.6822999715805054, 1.6615999937057495, 1.6783000230789185, 1.708299994468689, 1.4544999599456787, 1.7102999687194824, 1.2278000116348267, 1.093400001525879, 1.385200023651123, 1.1009000539779663, 0.9383000135421753, 0.06859999895095825, 0.8708999752998352, 2.0848000049591064, 2.0601000785827637, 2.0501999855041504, 2.043600082397461, 2.0297999382019043, 2.028899908065796, 2.0151000022888184, 2.012500047683716, 1.989400029182434, 1.9848999977111816, 1.9801000356674194, 1.9801000356674194, 1.9665000438690186, 1.9574999809265137, 1.945199966430664, 1.9347000122070312, 1.9347000122070312, 1.916700005531311, 1.916700005531311, 1.8765000104904175, 1.8765000104904175, 1.872499942779541, 1.8654999732971191, 1.865399956703186, 1.8550000190734863, 1.8550000190734863, 1.8550000190734863, 1.8550000190734863, 1.8550000190734863, 1.8550000190734863, 1.7381000518798828, 1.7519999742507935, 1.7655999660491943, 1.7486000061035156, 1.7408000230789185, 1.6621999740600586, 1.5614999532699585, 1.1657999753952026, 1.611899971961975, 1.4953999519348145, 1.5872000455856323, 1.3797999620437622, 0.9886999726295471, 0.3140999972820282, 0.9646000266075134, 1.0374000072479248, 2.1078999042510986, 2.1031999588012695, 2.1031999588012695, 2.102400064468384, 2.1003000736236572, 2.088599920272827, 2.0855000019073486, 2.0813000202178955, 2.063800096511841, 2.0576999187469482, 1.9869999885559082, 1.9658000469207764, 1.9627000093460083, 1.8981000185012817, 1.8980000019073486, 1.8000999689102173, 1.8000999689102173, 1.8000999689102173, 1.8000999689102173, 1.8000999689102173, 1.8000999689102173, 1.7992000579833984, 1.7907999753952026, 1.7178000211715698, 1.7178000211715698, 1.680999994277954, 1.680999994277954, 1.625100016593933, 1.6247999668121338, 1.5520000457763672, 1.528499960899353, 1.498900055885315, 0.9111999869346619, 1.1983000040054321, 1.1187000274658203, 0.18289999663829803, -0.1776999980211258, 0.38510000705718994, -0.7526999711990356, 2.204699993133545, 2.183000087738037, 2.180799961090088, 2.1728999614715576, 2.1707000732421875, 2.168600082397461, 2.160399913787842, 2.160399913787842, 2.1603000164031982, 2.152899980545044, 2.1524999141693115, 2.123800039291382, 2.118799924850464, 2.118799924850464, 2.118799924850464, 2.1126999855041504, 2.0961999893188477, 2.095099925994873, 2.095099925994873, 2.095099925994873, 2.0418999195098877, 2.0364999771118164, 2.0332999229431152, 2.0318000316619873, 2.005199909210205, 1.998900055885315, 1.989400029182434, 1.948799967765808, 1.948799967765808, 1.948799967765808, 1.8694000244140625, 1.948799967765808, 1.7633999586105347, 1.948799967765808, 1.7877000570297241, 1.7069000005722046, 1.644700050354004, 1.6105999946594238, 1.4240000247955322, 0.23080000281333923, 2.3392999172210693, 2.3101999759674072, 2.305999994277954, 2.265000104904175, 2.2356998920440674, 2.2309000492095947, 2.204900026321411, 2.2035999298095703, 2.1975998878479004, 2.187700033187866, 2.168600082397461, 2.168600082397461, 2.168600082397461, 2.1684999465942383, 2.14739990234375, 2.130199909210205, 2.1301000118255615, 2.0977001190185547, 2.0977001190185547, 2.0977001190185547, 2.0977001190185547, 2.0938000679016113, 2.073899984359741, 2.073899984359741, 2.0517001152038574, 2.0517001152038574, 2.0517001152038574, 2.0374999046325684, 1.9940999746322632, 1.9940999746322632, 1.976099967956543, 1.969499945640564, 1.817199945449829, 1.690000057220459, 1.510200023651123, 1.3708000183105469, 1.542799949645996, 1.59089994430542, 1.8250000476837158, 0.816100001335144, 1.2106000185012817, -0.18369999527931213, 1.2404999732971191, 2.409899950027466, 2.3933000564575195, 2.3722000122070312, 2.3722000122070312, 2.3466999530792236, 2.3466999530792236, 2.3443000316619873, 2.3392999172210693, 2.3392999172210693, 2.324199914932251, 2.318000078201294, 2.3099000453948975, 2.3099000453948975, 2.298799991607666, 2.2906999588012695, 2.2906999588012695, 2.2906999588012695, 2.29010009765625, 2.2899999618530273, 2.2653000354766846, 2.2597999572753906, 2.252000093460083, 2.2486000061035156, 2.2486000061035156, 2.2486000061035156, 2.219399929046631, 2.1979000568389893, 2.195499897003174, 2.195499897003174, 2.195499897003174, 2.1774001121520996, 2.195499897003174, 2.195499897003174, 2.195499897003174, 2.155600070953369, 1.856600046157837, 1.6282000541687012, 1.6505999565124512, 0.953499972820282, 0.5069000124931335, 0.7103999853134155, 0.717199981212616, 1.1790000200271606, 1.170300006866455, 1.2756999731063843, 1.4287999868392944, 0.8744000196456909, 2.7083001136779785, 2.7077999114990234, 2.7077999114990234, 2.6702001094818115, 2.6695001125335693, 2.5941998958587646, 2.288599967956543, 2.288599967956543, 2.288599967956543, 2.288599967956543, 2.223099946975708, 2.223099946975708, 2.079900026321411, 2.079900026321411, 2.079900026321411, 1.9598000049591064, 1.9210000038146973, 1.9210000038146973, 1.9210000038146973, 1.9210000038146973, 1.9210000038146973, 1.9210000038146973, 1.9210000038146973, 1.9210000038146973, 1.9210000038146973, 1.9210000038146973, 1.9210000038146973, 1.9210000038146973, 1.9210000038146973, 1.9210000038146973, 1.8177000284194946, 1.7233999967575073, 0.21209999918937683, 0.7702999711036682, -1.2706999778747559, 2.5741000175476074, 2.5673000812530518, 2.5673000812530518, 2.5295000076293945, 2.518199920654297, 2.518199920654297, 2.469899892807007, 2.469899892807007, 2.469899892807007, 2.469899892807007, 2.462100028991699, 2.400599956512451, 2.400599956512451, 2.400599956512451, 2.400599956512451, 2.400599956512451, 2.400599956512451, 2.400599956512451, 2.400599956512451, 2.400599956512451, 2.400599956512451, 2.400599956512451, 2.400599956512451, 2.400599956512451, 2.388200044631958, 2.388200044631958, 2.3213999271392822, 2.3213999271392822, 2.3213999271392822, 2.3213999271392822, 2.299299955368042, 2.278599977493286, 2.224600076675415, 2.0678999423980713, 1.3136999607086182, 1.9258999824523926, 1.1568000316619873, 0.9090999960899353, 0.4221999943256378, 1.1820000410079956, 0.17949999868869781, 2.0334999561309814, 3.04010009765625, 2.9403998851776123, 2.931299924850464, 2.851900100708008, 2.814500093460083, 2.8041000366210938, 2.8041000366210938, 2.8041000366210938, 2.7994000911712646, 2.788100004196167, 2.778700113296509, 2.691200017929077, 2.691200017929077, 2.639699935913086, 2.639699935913086, 2.639699935913086, 2.639699935913086, 2.639699935913086, 2.639699935913086, 2.592099905014038, 2.5352001190185547, 2.451200008392334, 2.426100015640259, 2.426100015640259, 2.426100015640259, 2.426100015640259, 2.426100015640259, 2.426100015640259, 2.426100015640259, 2.426100015640259, 2.4235999584198, 2.3570001125335693, 2.11080002784729, 1.9352999925613403, 1.7002999782562256, 1.6287000179290771, 1.4617999792099, 1.034600019454956, 0.052400000393390656, 3.1113998889923096, 3.0680999755859375, 3.0329999923706055, 3.0051000118255615, 2.946000099182129, 2.937299966812134, 2.9351000785827637, 2.9351000785827637, 2.92549991607666, 2.819200038909912, 2.791800022125244, 2.791800022125244, 2.69950008392334, 2.69950008392334, 2.69950008392334, 2.69950008392334, 2.69950008392334, 2.69950008392334, 2.69950008392334, 2.69950008392334, 2.69950008392334, 2.69950008392334, 2.69950008392334, 2.699199914932251, 2.699199914932251, 2.699199914932251, 2.6586999893188477, 2.6586999893188477, 2.629499912261963, 2.516200065612793, 2.4727001190185547, 1.923699975013733, 1.905900001525879, 1.4840999841690063, 0.002199999988079071, 3.1085000038146973, 3.0731000900268555, 3.043299913406372, 3.043100118637085, 2.9885001182556152, 2.9885001182556152, 2.960900068283081, 2.9110000133514404, 2.8610000610351562, 2.8610000610351562, 2.8610000610351562, 2.7985999584198, 2.7985999584198, 2.7985999584198, 2.7985999584198, 2.7985999584198, 2.7985999584198, 2.7985999584198, 2.7985999584198, 2.7985999584198, 2.7985999584198, 2.760200023651123, 2.760200023651123, 2.759999990463257, 2.7014000415802, 2.7014000415802, 2.675299882888794, 2.461899995803833, 2.461899995803833, 2.461899995803833, 2.461899995803833, 2.461899995803833, 2.461899995803833, 2.461899995803833, 2.294100046157837, 1.9052000045776367, 2.1891000270843506, 1.5097999572753906, 1.3365000486373901, 1.2166999578475952, 1.0085999965667725, 2.188499927520752, 3.0699000358581543, 2.9598000049591064, 2.8577001094818115, 2.8577001094818115, 2.8577001094818115, 2.8577001094818115, 2.8577001094818115, 2.8577001094818115, 2.8577001094818115, 2.8577001094818115, 2.8577001094818115, 2.8577001094818115, 2.8577001094818115, 2.8577001094818115, 2.8577001094818115, 2.8577001094818115, 2.8577001094818115, 2.8577001094818115, 2.8577001094818115, 2.8577001094818115, 2.8577001094818115, 2.8577001094818115, 2.8577001094818115, 2.8577001094818115, 2.8577001094818115, 2.8577001094818115, 2.8577001094818115, 2.8577001094818115, 2.8577001094818115, 2.8577001094818115, 2.8577001094818115, 2.8378000259399414, 2.8577001094818115, 2.8577001094818115, 2.8577001094818115, 2.5155999660491943, 1.9287999868392944, 0.7186999917030334, 2.2086000442504883, 1.9567999839782715, 3.209199905395508, 3.0664000511169434, 3.0316998958587646, 3.0316998958587646, 3.0048000812530518, 3.0048000812530518, 3.004699945449829, 3.004699945449829, 3.004699945449829, 3.004699945449829, 3.004699945449829, 3.004699945449829, 3.004699945449829, 2.955399990081787, 2.908600091934204, 2.8333001136779785, 2.725399971008301, 2.716599941253662, 2.639699935913086, 2.5636000633239746, 2.5353000164031982, 2.494499921798706, 2.494499921798706, 2.494499921798706, 2.494499921798706, 2.494499921798706, 2.494499921798706, 2.494499921798706, 2.494499921798706, 2.494499921798706, 2.4375998973846436, 2.494499921798706, 2.494499921798706, 2.494499921798706, 2.494499921798706, 2.494499921798706, 2.3534998893737793, 2.494499921798706, 2.232599973678589, 2.494499921798706, 2.134000062942505, 1.8961000442504883, 0.9194999933242798, 1.6409000158309937, 1.1035000085830688, 1.1816999912261963, 1.1081000566482544, 1.356600046157837, 3.3924999237060547, 3.351900100708008, 3.277600049972534, 3.2283999919891357, 3.2283999919891357, 3.1791999340057373, 3.1421000957489014, 3.079699993133545, 3.0216000080108643, 3.0216000080108643, 3.0216000080108643, 3.0216000080108643, 2.9010000228881836, 2.7846999168395996, 2.7846999168395996, 2.7846999168395996, 2.7846999168395996, 2.7846999168395996, 2.7660999298095703, 2.6082000732421875, 2.6082000732421875, 2.6082000732421875, 2.6082000732421875, 2.6082000732421875, 2.6082000732421875, 2.6082000732421875, 2.6082000732421875, 2.6082000732421875, 2.6082000732421875, 2.6082000732421875, 2.604599952697754, 2.433799982070923, 2.049799919128418, 1.594099998474121, 1.894700050354004, 1.093400001525879, 1.9342000484466553, 0.05310000106692314, 1.0290000438690186, -0.22529999911785126, 0.765500009059906], \"logprob\": [30.0, 29.0, 28.0, 27.0, 26.0, 25.0, 24.0, 23.0, 22.0, 21.0, 20.0, 19.0, 18.0, 17.0, 16.0, 15.0, 14.0, 13.0, 12.0, 11.0, 10.0, 9.0, 8.0, 7.0, 6.0, 5.0, 4.0, 3.0, 2.0, 1.0, -3.647700071334839, -3.9393999576568604, -4.021999835968018, -3.9612998962402344, -4.337399959564209, -4.392399787902832, -4.560299873352051, -4.598100185394287, -4.598100185394287, -4.670100212097168, -4.179500102996826, -4.69789981842041, -4.777699947357178, -3.4602999687194824, -4.815499782562256, -4.824900150299072, -4.835000038146973, -4.212500095367432, -4.9517998695373535, -4.508999824523926, -5.056000232696533, -3.233299970626831, -5.098700046539307, -5.413000106811523, -5.413000106811523, -5.413000106811523, -5.413000106811523, -5.413300037384033, -5.504000186920166, -5.504000186920166, -3.291100025177002, -2.9686999320983887, -4.396299839019775, -4.88539981842041, -3.0083000659942627, -5.012400150299072, -3.8910999298095703, -3.5871999263763428, -4.492300033569336, -4.316999912261963, -4.532599925994873, -4.221799850463867, -4.5482001304626465, -2.9026999473571777, -3.5460000038146973, -3.7230000495910645, -3.826900005340576, -3.3231000900268555, -4.026400089263916, -4.185999870300293, -4.212800025939941, -4.432300090789795, -4.470099925994873, -4.509300231933594, -4.509300231933594, -4.614099979400635, -3.4365999698638916, -4.760700225830078, -4.8267998695373535, -4.826900005340576, -4.932499885559082, -4.932499885559082, -5.139999866485596, -5.139999866485596, -5.158599853515625, -5.191299915313721, -5.191299915313721, -5.2382001876831055, -5.2382001876831055, -5.2382001876831055, -5.2382001876831055, -5.2382001876831055, -5.2382001876831055, -3.4504001140594482, -3.6689000129699707, -4.325399875640869, -4.283100128173828, -4.560299873352051, -4.279200077056885, -4.265900135040283, -3.1245999336242676, -4.513199806213379, -4.254700183868408, -4.833799839019775, -4.646699905395508, -4.524400234222412, -4.5777997970581055, -4.802800178527832, -4.811800003051758, -2.5, -2.715399980545044, -2.715399980545044, -2.2342000007629395, -2.830399990081787, -2.716200113296509, -3.2715001106262207, -2.728600025177002, -2.615299940109253, -2.636899948120117, -4.527100086212158, -4.679100036621094, -4.699399948120117, -5.063899993896484, -5.063899993896484, -5.470699787139893, -5.470699787139893, -5.470699787139893, -5.470699787139893, -5.470699787139893, -5.470699787139893, -5.471399784088135, -5.503399848937988, -5.73859977722168, -5.73859977722168, -5.844099998474121, -5.844099998474121, -5.063899993896484, -5.993000030517578, -6.168099880218506, -5.090799808502197, -4.546999931335449, -5.030200004577637, -5.470699787139893, -5.521900177001953, -5.3302001953125, -5.24399995803833, -5.430799961090088, -5.433300018310547, -3.301100015640259, -3.684799909591675, -3.717600107192993, -3.8262999057769775, -3.853600025177002, -3.880000114440918, -3.977400064468384, -3.977400064468384, -3.9791998863220215, -4.059599876403809, -4.0644001960754395, -3.705699920654297, -4.371099948883057, -4.371099948883057, -4.371099948883057, -4.418600082397461, -4.538599967956543, -4.54640007019043, -4.54640007019043, -4.54640007019043, -4.864699840545654, -4.0096001625061035, -4.244500160217285, -4.418600082397461, -4.54640007019043, -5.072500228881836, -2.8001999855041504, -5.279399871826172, -5.279399871826172, -5.279399871826172, -4.103700160980225, -5.279399871826172, -2.8886001110076904, -5.279399871826172, -3.9797000885009766, -3.8394999504089355, -3.7744998931884766, -4.126399993896484, -4.173299789428711, -4.059599876403809, -3.186500072479248, -3.660599946975708, -3.7139999866485596, -4.136499881744385, -4.361800193786621, -4.396299839019775, -4.562099933624268, -3.9684998989105225, -4.604700088500977, -4.6605000495910645, -4.760799884796143, -4.760799884796143, -4.760799884796143, -4.760900020599365, -4.12060022354126, -4.941500186920166, -4.941500186920166, -5.076600074768066, -5.076600074768066, -5.076600074768066, -5.076600074768066, -3.408400058746338, -5.167699813842773, -5.167699813842773, -5.247300148010254, -5.247300148010254, -5.247300148010254, -4.722400188446045, -5.435500144958496, -5.435500144958496, -4.719600200653076, -4.688199996948242, -4.195000171661377, -3.7809998989105225, -3.3817999362945557, -3.309799909591675, -4.0096001625061035, -4.225100040435791, -4.6528000831604, -4.157299995422363, -4.815800189971924, -4.474100112915039, -4.933700084686279, -3.813800096511841, -3.971299886703491, -4.145199775695801, -4.145199775695801, -4.32480001449585, -4.32480001449585, -4.3404998779296875, -4.372000217437744, -4.372000217437744, -4.463200092315674, -4.498899936676025, -4.543900012969971, -4.543900012969971, -4.603000164031982, -4.644199848175049, -4.644199848175049, -4.644199848175049, -4.644800186157227, -4.644899845123291, -4.765699863433838, -4.790299892425537, -4.824999809265137, -4.840000152587891, -4.840000152587891, -4.840000152587891, -4.960000038146973, -3.976799964904785, -5.05109977722168, -5.05109977722168, -5.05109977722168, -4.665900230407715, -5.05109977722168, -5.05109977722168, -5.05109977722168, -4.7906999588012695, -3.5764000415802, -2.8345999717712402, -4.226900100708008, -3.836199998855591, -3.7834999561309814, -3.941699981689453, -3.963399887084961, -4.242000102996826, -4.3821001052856445, -4.461299896240234, -4.562399864196777, -4.638599872589111, -1.7559000253677368, -1.7857999801635742, -1.7857999801635742, -2.9595999717712402, -2.9730000495910645, -3.8671998977661133, -5.231500148773193, -5.231500148773193, -5.231500148773193, -5.231500148773193, -5.406599998474121, -5.406599998474121, -5.735799789428711, -5.735799789428711, -5.735799789428711, -4.709199905395508, -6.045100212097168, -6.045100212097168, -6.045100212097168, -6.045100212097168, -6.045100212097168, -6.045100212097168, -6.045100212097168, -6.045100212097168, -6.045100212097168, -6.045100212097168, -6.045100212097168, -6.045100212097168, -6.045100212097168, -6.045100212097168, -4.82289981842041, -5.082499980926514, -5.878900051116943, -5.952400207519531, -5.951300144195557, -4.087299823760986, -4.132299900054932, -4.132299900054932, -4.354100227355957, -4.413300037384033, -4.413300037384033, -4.639500141143799, -4.639500141143799, -4.639500141143799, -4.639500141143799, -4.672100067138672, -4.907299995422363, -4.907299995422363, -4.907299995422363, -4.907299995422363, -4.907299995422363, -4.907299995422363, -4.907299995422363, -4.907299995422363, -4.907299995422363, -4.907299995422363, -4.907299995422363, -4.907299995422363, -4.907299995422363, -4.950200080871582, -4.950200080871582, -5.1616997718811035, -5.1616997718811035, -5.1616997718811035, -5.1616997718811035, -4.0696001052856445, -4.569300174713135, -4.492499828338623, -4.44189977645874, -3.3166000843048096, -4.248300075531006, -4.261000156402588, -4.523799896240234, -4.469699859619141, -4.8302001953125, -4.793900012969971, -4.907299995422363, -2.5041000843048096, -3.645400047302246, -3.7084999084472656, -4.154600143432617, -4.319499969482422, -4.362199783325195, -4.362199783325195, -4.362199783325195, -4.38070011138916, -2.581399917602539, -4.460400104522705, -4.754000186920166, -4.754000186920166, -4.9029998779296875, -4.9029998779296875, -4.9029998779296875, -4.9029998779296875, -4.9029998779296875, -4.9029998779296875, -4.460400104522705, -3.8336000442504883, -4.048999786376953, -5.407299995422363, -5.407299995422363, -5.407299995422363, -5.407299995422363, -5.407299995422363, -5.407299995422363, -5.407299995422363, -5.407299995422363, -4.764900207519531, -4.980500221252441, -4.492099761962891, -4.189799785614014, -4.140699863433838, -4.121399879455566, -4.084700107574463, -4.153900146484375, -4.642199993133545, -2.5522000789642334, -3.1298999786376953, -3.4453999996185303, -3.644399881362915, -3.982300043106079, -4.025000095367432, -4.035699844360352, -4.035699844360352, -4.0808000564575195, -4.497099876403809, -4.587900161743164, -4.587900161743164, -4.8557000160217285, -4.8557000160217285, -4.8557000160217285, -4.8557000160217285, -4.8557000160217285, -4.8557000160217285, -4.8557000160217285, -4.8557000160217285, -4.855800151824951, -4.855800151824951, -4.855800151824951, -4.855999946594238, -4.855999946594238, -4.855999946594238, -4.961100101470947, -4.96120023727417, -4.064599990844727, -5.285200119018555, -4.302499771118164, -3.195199966430664, -3.5269999504089355, -3.9337000846862793, -4.677000045776367, -3.29010009765625, -3.5580999851226807, -3.74399995803833, -3.7258999347686768, -4.025700092315674, -4.025700092315674, -4.147200107574463, -4.341599941253662, -4.512199878692627, -4.512199878692627, -4.512199878692627, -4.700399875640869, -4.700399875640869, -4.700399875640869, -4.700399875640869, -4.700500011444092, -4.700500011444092, -4.700500011444092, -4.700500011444092, -4.700500011444092, -4.700500011444092, -4.805799961090088, -4.805799961090088, -4.806099891662598, -4.954800128936768, -4.954800128936768, -4.621099948883057, -5.459199905395508, -5.459199905395508, -5.459199905395508, -5.459199905395508, -5.459199905395508, -5.459199905395508, -5.459199905395508, -4.567200183868408, -3.935800075531006, -4.7778000831604, -3.3821001052856445, -3.782399892807007, -4.520299911499023, -4.49370002746582, -4.778299808502197, -4.057499885559082, -4.445799827575684, -4.7322001457214355, -4.7322001457214355, -4.7322001457214355, -4.7322001457214355, -4.7322001457214355, -4.7322001457214355, -4.7322001457214355, -4.7322001457214355, -4.7322001457214355, -4.7322001457214355, -4.7322001457214355, -4.7322001457214355, -4.7322001457214355, -4.7322001457214355, -4.7322001457214355, -4.7322001457214355, -4.7322001457214355, -4.7322001457214355, -4.7322001457214355, -4.7322001457214355, -4.7322001457214355, -4.7322001457214355, -4.7322001457214355, -4.7322001457214355, -4.7322001457214355, -4.7322001457214355, -4.7322001457214355, -4.7322001457214355, -4.7322001457214355, -3.716599941253662, -4.7322001457214355, -4.7322001457214355, -4.7322001457214355, -4.345699787139893, -3.9121999740600586, -4.469799995422363, -4.7322001457214355, -4.7322001457214355, -3.7288999557495117, -4.29610013961792, -4.40500020980835, -4.40500020980835, -4.484300136566162, -4.484300136566162, -4.484399795532227, -4.484399795532227, -4.484399795532227, -4.484399795532227, -4.484399795532227, -4.484399795532227, -4.484399795532227, -4.09119987487793, -4.738699913024902, -4.91379976272583, -3.877500057220459, -4.2164998054504395, -4.738699913024902, -4.91379976272583, -3.628200054168701, -5.552299976348877, -5.552299976348877, -5.552299976348877, -5.552299976348877, -5.552299976348877, -5.552299976348877, -5.552299976348877, -5.552299976348877, -5.552299976348877, -4.543000221252441, -5.552299976348877, -5.552299976348877, -5.552299976348877, -5.552299976348877, -5.552299976348877, -4.738699913024902, -5.552299976348877, -4.188499927520752, -5.552299976348877, -4.420499801635742, -4.40500020980835, -3.3708999156951904, -4.40500020980835, -4.015399932861328, -4.212399959564209, -4.40500020980835, -4.7179999351501465, -3.1958000659942627, -3.452399969100952, -3.8162999153137207, -4.010700225830078, -4.010700225830078, -4.181300163269043, -4.292200088500977, -4.474999904632568, -4.623899936676025, -4.623899936676025, -4.623899936676025, -4.623899936676025, -4.844600200653076, -5.128300189971924, -5.128300189971924, -5.128300189971924, -5.128300189971924, -5.128300189971924, -3.4976000785827637, -5.437600135803223, -5.437600135803223, -5.437600135803223, -5.437600135803223, -5.437600135803223, -5.437600135803223, -5.437600135803223, -5.437600135803223, -5.437600135803223, -5.437600135803223, -5.437600135803223, -3.9828999042510986, -3.4154000282287598, -3.547499895095825, -4.4969000816345215, -4.801000118255615, -4.095099925994873, -4.913700103759766, -4.237299919128418, -4.811999797821045, -5.035099983215332, -5.313300132751465]}, \"token.table\": {\"Topic\": [8, 4, 13, 4, 9, 9, 1, 2, 3, 5, 8, 11, 12, 1, 4, 1, 14, 5, 11, 10, 3, 14, 7, 3, 12, 5, 6, 1, 13, 9, 10, 11, 2, 4, 7, 10, 5, 14, 7, 9, 5, 14, 2, 2, 4, 3, 6, 3, 10, 1, 5, 8, 1, 2, 6, 4, 6, 11, 13, 12, 10, 8, 1, 6, 1, 1, 2, 8, 12, 6, 12, 8, 9, 2, 3, 2, 9, 2, 1, 10, 11, 13, 1, 2, 4, 5, 6, 11, 13, 14, 12, 14, 4, 7, 7, 8, 9, 8, 12, 11, 7, 10, 5, 8, 13, 9, 13, 8, 7, 8, 3, 3, 14, 1, 3, 4, 8, 13, 3, 5, 7, 8, 5, 8, 6, 8, 10, 12, 1, 5, 1, 4, 5, 6, 1, 1, 5, 14, 2, 4, 4, 11, 1, 3, 5, 8, 9, 14, 2, 3, 3, 6, 10, 6, 3, 1, 3, 5, 8, 10, 2, 7, 3, 1, 5, 10, 2, 14, 9, 8, 10, 11, 8, 8, 13, 4, 12, 4, 11, 2, 12, 9, 1, 7, 11, 10, 1, 6, 13, 11, 7, 6, 9, 2, 13, 5, 9, 11, 4, 9, 2, 3, 12, 12, 6, 9, 2, 5, 8, 6, 8, 7, 12, 9, 6, 8, 14, 11, 12, 3, 12, 10, 12, 5, 3, 2, 4, 8, 4, 5, 11, 5, 6, 8, 13, 10, 4, 1, 1, 5, 4, 9, 13, 2, 9, 6, 2, 3, 4, 6, 12, 13, 5, 13, 10, 11, 9, 2, 4, 6, 14, 6, 12, 8, 13, 10, 9, 14, 13, 5, 10, 12, 4, 6, 2, 4, 11, 12, 1, 2, 5, 11, 2, 2, 12, 14, 6, 9, 6, 6, 9, 13, 13, 6, 1, 4, 5, 2, 3, 13, 1, 11, 4, 5, 9, 7, 13, 5, 11, 1, 2, 4, 6, 8, 12, 14, 6, 11, 11, 13, 8, 3, 8, 10, 1, 6, 12, 4, 6, 1, 6, 4, 2, 13, 12, 10, 2, 13, 4, 8, 4, 12, 5, 2, 5, 6, 2, 1, 2, 14, 8, 2, 1, 4, 7, 12, 1, 4, 6, 11, 1, 7, 13, 12, 2, 13, 14, 4, 2, 7, 14, 9, 4, 9, 13, 12, 9, 7, 8, 5, 1, 2, 4, 7, 14, 5, 9, 11, 12, 14, 1, 2, 9, 9, 5, 12, 12, 12, 12, 12, 11, 1, 7, 6, 1, 2, 8, 1, 10, 3, 4, 13, 12, 4, 9, 3, 12, 2, 3, 3, 7, 8, 2, 2, 6, 4, 8, 14, 11, 5, 8, 5, 9, 14, 5, 11, 13, 3, 8, 10, 1, 10, 7, 10, 3, 13, 7, 9, 5, 13, 3, 7, 4, 7, 7, 7, 8, 11, 11, 11, 14, 7, 10, 5, 8, 1, 6, 10, 1, 6, 2, 6, 6, 4, 12, 13, 4, 2, 2, 3, 14, 7, 11, 4, 4, 11, 7, 3, 2, 12, 6, 8, 14, 5, 4, 14, 1, 12, 7, 8, 10, 13, 1, 14, 6, 3, 8, 13, 2, 5, 6, 11, 1, 4, 5, 8, 11, 3, 9, 4, 6, 11, 5, 3, 7, 1, 14, 1, 6, 5, 2, 4, 7, 6, 4, 12, 6, 1, 3, 1, 9, 12, 12, 10, 10, 6, 2, 13, 6, 5, 11, 8, 4, 13, 5, 8, 7, 6, 11, 7, 3, 6, 5, 6, 1, 5, 11, 1, 5, 6, 14, 9, 7, 2, 11, 1, 13, 11, 6, 2, 4, 9, 3, 2, 13, 8, 2, 2, 6, 8, 4, 3, 10, 6, 8, 8, 2, 4, 9, 9, 1, 8, 11, 1, 1, 11, 6, 2, 1, 5, 12, 10, 1, 2, 8, 10, 1, 2, 6, 11, 12, 8, 10, 12, 3, 11, 13, 11, 2, 9, 12, 14, 10, 5, 1, 3, 5, 6, 7, 9, 11, 10, 3, 3], \"Freq\": [0.8205187320709229, 0.8130860924720764, 0.11615515500307083, 0.7576008439064026, 0.9844303131103516, 0.8413107991218567, 0.1098792552947998, 0.1831320971250534, 0.0366264209151268, 0.4028906226158142, 0.1098792552947998, 0.1831320971250534, 0.543891966342926, 0.8142978549003601, 0.9473814368247986, 0.9234358668327332, 0.7659474015235901, 0.6478608846664429, 0.5310420989990234, 0.5253598690032959, 0.619474470615387, 0.5750049352645874, 0.7922800183296204, 0.5097426772117615, 0.5438932180404663, 0.8308210968971252, 0.8199774026870728, 0.8346809148788452, 0.11924012750387192, 0.47060683369636536, 0.5253635048866272, 0.7574247717857361, 0.9195989370346069, 0.9435147643089294, 0.7922800183296204, 0.5253635048866272, 0.7771533727645874, 0.5750051140785217, 0.6817172765731812, 0.712084949016571, 0.8429012298583984, 0.7659481763839722, 0.6619491577148438, 0.3516365885734558, 0.6153640151023865, 0.7905942797660828, 0.9036744236946106, 0.8093540072441101, 0.5253635048866272, 0.6755189895629883, 0.1986820548772812, 0.07947281748056412, 0.5484583973884583, 0.023846015334129333, 0.40538227558135986, 0.6478524804115295, 0.10797540843486786, 0.10797540843486786, 0.10797540843486786, 0.543891966342926, 0.6719954013824463, 0.8205223679542542, 0.9234359860420227, 0.634008526802063, 0.7169831991195679, 0.7967179417610168, 0.9727428555488586, 0.8205187320709229, 0.5438932180404663, 0.8799856901168823, 0.5438932180404663, 0.31776779890060425, 0.6355355978012085, 0.9725518226623535, 0.9870352149009705, 0.6285295486450195, 0.37711775302886963, 0.9195977449417114, 0.4595966339111328, 0.2757579982280731, 0.13787899911403656, 0.09191933274269104, 0.14049166440963745, 0.381334513425827, 0.14049166440963745, 0.08028095215559006, 0.14049166440963745, 0.020070238038897514, 0.08028095215559006, 0.04014047607779503, 0.543891966342926, 0.7512991428375244, 0.8866278529167175, 0.7922800183296204, 0.7922800183296204, 0.8205187320709229, 0.5187718272209167, 0.5684010982513428, 0.2842005491256714, 0.7762883901596069, 0.507195234298706, 0.560400664806366, 0.9665065407752991, 0.4402015805244446, 0.4402015805244446, 0.48601222038269043, 0.48601222038269043, 0.488803893327713, 0.7922800183296204, 0.8205223679542542, 0.5097426772117615, 0.94472736120224, 0.03374026343226433, 0.9243972301483154, 0.1306275725364685, 0.261255145072937, 0.261255145072937, 0.3918827176094055, 0.420991986989975, 0.2104959934949875, 0.420991986989975, 0.8205187320709229, 0.8132089972496033, 0.6897111535072327, 0.5033232569694519, 0.18874622881412506, 0.25166162848472595, 0.5438933372497559, 0.7169832587242126, 0.8429151773452759, 0.21990227699279785, 0.10995113849639893, 0.21990227699279785, 0.3298534154891968, 0.747887134552002, 0.8052804470062256, 0.6672840118408203, 0.22242800891399384, 0.6382478475570679, 0.8912259936332703, 0.7576008439064026, 0.917538046836853, 0.7848385572433472, 0.08720428496599197, 0.08720428496599197, 0.8205187320709229, 0.9104400873184204, 0.7512988448143005, 0.904774010181427, 0.7905942797660828, 0.9735503196716309, 0.7716336846351624, 0.5253635048866272, 0.6589031219482422, 0.933025062084198, 0.2768266201019287, 0.18455109000205994, 0.46137771010398865, 0.09227554500102997, 0.5253635048866272, 0.6619492173194885, 0.5071951746940613, 0.8707663416862488, 0.9310706257820129, 0.8429011702537537, 0.5253635048866272, 0.399181067943573, 0.399181067943573, 0.7220667600631714, 0.4888036549091339, 0.827455997467041, 0.7574247717857361, 0.8596392273902893, 0.8205223679542542, 0.4917316138744354, 0.8912259936332703, 0.5438924431800842, 0.8427137136459351, 0.917538046836853, 0.9292144775390625, 0.058075904846191406, 0.5187718272209167, 0.6854694485664368, 0.22848981618881226, 0.49663934111595154, 0.8815324306488037, 0.7170999646186829, 0.11951666325330734, 0.11951666325330734, 0.40555086731910706, 0.7922800183296204, 0.6589030027389526, 0.6938779354095459, 0.7495318651199341, 0.14990636706352234, 0.4225296974182129, 0.4225296974182129, 0.7574247717857361, 0.3658483028411865, 0.5487724542617798, 0.6276572942733765, 0.31382864713668823, 0.5438924431800842, 0.5438933372497559, 0.7716336846351624, 0.6938776969909668, 0.11228539049625397, 0.5614269375801086, 0.22457078099250793, 0.3208266496658325, 0.641653299331665, 0.7922800183296204, 0.5438924431800842, 0.5187718272209167, 0.5715335607528687, 0.517967164516449, 0.2589835822582245, 0.49664080142974854, 0.543891966342926, 0.6627780795097351, 0.22092603147029877, 0.8815324306488037, 0.5438932180404663, 0.8429012298583984, 0.9274027347564697, 0.6869809627532959, 0.11449682712554932, 0.11449682712554932, 0.13486221432685852, 0.7417421936988831, 0.13486221432685852, 0.26405709981918335, 0.13202854990959167, 0.396085649728775, 0.13202854990959167, 0.8948085904121399, 0.9316230416297913, 0.880064070224762, 0.21411913633346558, 0.6423574090003967, 0.8427138328552246, 0.40540891885757446, 0.40540891885757446, 0.6619491577148438, 0.7658815383911133, 0.7716336846351624, 0.34082284569740295, 0.13632912933826447, 0.13632912933826447, 0.2044937014579773, 0.06816456466913223, 0.06816456466913223, 0.31589940190315247, 0.6317988038063049, 0.5253414511680603, 0.49663934111595154, 0.5187718272209167, 0.3815908133983612, 0.1907954066991806, 0.0953977033495903, 0.2861931324005127, 0.9036747217178345, 0.4523284137248993, 0.6727060675621033, 0.8665751814842224, 0.5253598690032959, 0.47060897946357727, 0.5250393152236938, 0.4917316138744354, 0.8132091760635376, 0.8419989943504333, 0.5438932180404663, 0.8371526598930359, 0.9304136633872986, 0.5600377321243286, 0.37335848808288574, 0.7574250102043152, 0.5438933372497559, 0.11389659345149994, 0.45558637380599976, 0.3416897654533386, 0.49663934111595154, 0.974469006061554, 0.2888064384460449, 0.14440321922302246, 0.4332096576690674, 0.36405542492866516, 0.36405542492866516, 0.6513085961341858, 0.16038937866687775, 0.641557514667511, 0.16038937866687775, 0.46664872765541077, 0.8683919310569763, 0.8971465229988098, 0.14502468705177307, 0.7251234650611877, 0.9378371238708496, 0.29572516679763794, 0.29572516679763794, 0.5833998322486877, 0.29169991612434387, 0.9052205681800842, 0.6478610634803772, 0.6938776969909668, 0.7922800183296204, 0.4917321801185608, 0.7423254251480103, 0.8758415579795837, 0.11525854468345642, 0.028814636170864105, 0.6051073670387268, 0.17288781702518463, 0.028814636170864105, 0.028814636170864105, 0.5750051140785217, 0.7532148957252502, 0.5811617374420166, 0.7574247717857361, 0.4917321801185608, 0.8931257724761963, 0.9925024509429932, 0.8205223679542542, 0.5253635048866272, 0.8634457588195801, 0.1151261031627655, 0.5438933372497559, 0.7604955434799194, 0.1983901411294937, 0.49066728353500366, 0.3925338387489319, 0.9052207469940186, 0.9502428770065308, 0.8502333760261536, 0.543891966342926, 0.9465257525444031, 0.661949634552002, 0.4917316138744354, 0.7576008439064026, 0.8447381854057312, 0.9052207469940186, 0.5438924431800842, 0.9695634841918945, 0.1320885419845581, 0.1320885419845581, 0.7925312519073486, 0.9493921995162964, 0.8034003973007202, 0.20085009932518005, 0.7512991428375244, 0.4888037145137787, 0.6382518410682678, 0.8900063633918762, 0.6476563811302185, 0.7922800183296204, 0.543891966342926, 0.7668591737747192, 0.7576008439064026, 0.8475809097290039, 0.49663934111595154, 0.7862541079521179, 0.7922801971435547, 0.4917316138744354, 0.6849900484085083, 0.9502472877502441, 0.4917316138744354, 0.5750048160552979, 0.7702459692955017, 0.7289282083511353, 0.12148803472518921, 0.12148803472518921, 0.6895272731781006, 0.17713545262813568, 0.7675869464874268, 0.05904515087604523, 0.543891966342926, 0.6938776969909668, 0.9192007184028625, 0.8205223679542542, 0.9053918719291687, 0.0741499662399292, 0.2224498987197876, 0.4448997974395752, 0.0741499662399292, 0.2224498987197876, 0.09461671859025955, 0.28385016322135925, 0.28385016322135925, 0.28385016322135925, 0.09461671859025955, 0.17279592156410217, 0.5183877348899841, 0.25919386744499207, 0.6938776969909668, 0.7178813815116882, 0.543891966342926, 0.5438933372497559, 0.5438932180404663, 0.5438924431800842, 0.5438924431800842, 0.581161618232727, 0.49665582180023193, 0.24832791090011597, 0.7716336250305176, 0.6767170429229736, 0.0563930869102478, 0.2537688910961151, 0.8800401091575623, 0.5253598690032959, 0.580685019493103, 0.23227399587631226, 0.11613699793815613, 0.5438932180404663, 0.8427137732505798, 0.5187718272209167, 0.5592760443687439, 0.5438924431800842, 0.8741651773452759, 0.7904776930809021, 0.8455824851989746, 0.6817172765731812, 0.8459582924842834, 0.9331601858139038, 0.7779409885406494, 0.6589031219482422, 0.823941171169281, 0.6727066040039062, 0.6355286836624146, 0.8758417367935181, 0.7115113735198975, 0.23717045783996582, 0.717882513999939, 0.6938776969909668, 0.7437744736671448, 0.7677950263023376, 0.7574247717857361, 0.4917316138744354, 0.8602986931800842, 0.8205223679542542, 0.8494196534156799, 0.8415514826774597, 0.5253635048866272, 0.6817172765731812, 0.5253414511680603, 0.966882050037384, 0.02101917378604412, 0.9836918711662292, 0.712084949016571, 0.7677949070930481, 0.46664872765541077, 0.4331066906452179, 0.4331066906452179, 0.9603511691093445, 0.5071951746940613, 0.7922800183296204, 0.7922800183296204, 0.6727069616317749, 0.8758417367935181, 0.49664080142974854, 0.49664080142974854, 0.46552807092666626, 0.7922801971435547, 0.8785331845283508, 0.4633306562900543, 0.8205187320709229, 0.22203975915908813, 0.22203975915908813, 0.6661192774772644, 0.8971331715583801, 0.9330704808235168, 0.6838122010231018, 0.24865896999835968, 0.7716336846351624, 0.9645241498947144, 0.5793548822402954, 0.19311830401420593, 0.9718557596206665, 0.7929576635360718, 0.8988015055656433, 0.7905942797660828, 0.7512988448143005, 0.5659554600715637, 0.7179979681968689, 0.8701838850975037, 0.7321822643280029, 0.14643645286560059, 0.9836918711662292, 0.7905951738357544, 0.9671438336372375, 0.543891966342926, 0.77335125207901, 0.8447387218475342, 0.7512991428375244, 0.4633306562900543, 0.7576008439064026, 0.8647876381874084, 0.8934983611106873, 0.5438932180404663, 0.7922800183296204, 0.6727061867713928, 0.9508488178253174, 0.4917316138744354, 0.8620560765266418, 0.6624204516410828, 0.9710868000984192, 0.7905939221382141, 0.3306354880332947, 0.3306354880332947, 0.21269245445728302, 0.42538490891456604, 0.2835899293422699, 0.07089748233556747, 0.31026241183280945, 0.5584723353385925, 0.06205248087644577, 0.06205248087644577, 0.5310472249984741, 0.9321038126945496, 0.06013572961091995, 0.5116320848464966, 0.2558160424232483, 0.17054402828216553, 0.8286030888557434, 0.47589024901390076, 0.9309251308441162, 0.840143084526062, 0.12002044171094894, 0.7169832587242126, 0.8475775718688965, 0.717881441116333, 0.09353295713663101, 0.8417966365814209, 0.5071952939033508, 0.8683919310569763, 0.8926563262939453, 0.5438932180404663, 0.7716336846351624, 0.4121243357658386, 0.6181865334510803, 0.7169431447982788, 0.6938776969909668, 0.5438933372497559, 0.5438932180404663, 0.8785332441329956, 0.5253414511680603, 0.9304139614105225, 0.8472987413406372, 0.12104267627000809, 0.8475772142410278, 0.8132091164588928, 0.5310409665107727, 0.8051836490631104, 0.282008558511734, 0.564017117023468, 0.7165336012840271, 0.8931261897087097, 0.8797731399536133, 0.7313364744186401, 0.49664080142974854, 0.5659554600715637, 0.47589024901390076, 0.7815598249435425, 0.7178815007209778, 0.7815598249435425, 0.35774311423301697, 0.5366146564483643, 0.49663934111595154, 0.3267688751220703, 0.5228302478790283, 0.13070756196975708, 0.7990620136260986, 0.7970772981643677, 0.979049801826477, 0.9047741889953613, 0.6718664169311523, 0.766859233379364, 0.5760024785995483, 0.7574250102043152, 0.7215667366981506, 0.6619491577148438, 0.9092177152633667, 0.712084949016571, 0.8707737922668457, 0.5069926977157593, 0.33799514174461365, 0.8205187320709229, 0.8455590605735779, 0.7779409885406494, 0.8475810289382935, 0.4888041913509369, 0.9018071889877319, 0.9473994374275208, 0.029606232419610023, 0.2272271364927292, 0.6816813945770264, 0.8459584712982178, 0.2114357352256775, 0.5638286471366882, 0.2114357352256775, 0.6938776969909668, 0.36939600110054016, 0.5540940165519714, 0.8262017369270325, 0.9178274869918823, 0.5833903551101685, 0.29169517755508423, 0.8475809097290039, 0.6619491577148438, 0.7169831991195679, 0.790512204170227, 0.13175202906131744, 0.8710938096046448, 0.371827632188797, 0.1859138160943985, 0.1859138160943985, 0.1859138160943985, 0.9294163584709167, 0.9725921750068665, 0.9583379626274109, 0.26247599720954895, 0.5249519944190979, 0.2408272624015808, 0.4816545248031616, 0.2408272624015808, 0.9899210333824158, 0.8340805768966675, 0.6364936232566833, 0.49663934111595154, 0.6898020505905151, 0.14781472086906433, 0.04927157610654831, 0.09854315221309662, 0.910256028175354, 0.8064834475517273, 0.38544201850891113, 0.059298768639564514, 0.3557926118373871, 0.17789630591869354, 0.029649384319782257, 0.5187718272209167, 0.7312726378440857, 0.5604002475738525, 0.9870352149009705, 0.7905942797660828], \"Term\": [\"aa\", \"able\", \"able\", \"acces\", \"access\", \"accessing\", \"account\", \"account\", \"account\", \"account\", \"account\", \"account\", \"act\", \"actually\", \"add\", \"added\", \"additional\", \"address\", \"admin\", \"advised\", \"afc\", \"afternoon\", \"agreement\", \"agric\", \"albano\", \"alfalfa\", \"already\", \"also\", \"also\", \"alton\", \"amanda\", \"anderson\", \"another\", \"anytime\", \"apex\", \"apparently\", \"applied\", \"apply\", \"appointment\", \"approve\", \"approved\", \"asap\", \"assistance\", \"attached\", \"attached\", \"availability\", \"available\", \"avoid\", \"away\", \"back\", \"back\", \"back\", \"bags\", \"bags\", \"bags\", \"balance\", \"balance\", \"balance\", \"balance\", \"bar\", \"basic\", \"bc\", \"beans\", \"beja\", \"ben\", \"benjamin\", \"bill\", \"birch\", \"bloomville\", \"boxes\", \"bradley\", \"brent\", \"brent\", \"brian\", \"bucket\", \"businesslink\", \"businesslink\", \"cable\", \"call\", \"call\", \"call\", \"call\", \"called\", \"called\", \"called\", \"called\", \"called\", \"called\", \"called\", \"called\", \"came\", \"cancel\", \"cannot\", \"cards\", \"carroll\", \"category\", \"cell\", \"changed\", \"changed\", \"changes\", \"charles\", \"charlie\", \"check\", \"checked\", \"checked\", \"claims\", \"claims\", \"clear\", \"cliff\", \"coatney\", \"commodities\", \"complete\", \"complete\", \"confirm\", \"connect\", \"connect\", \"connect\", \"connect\", \"contact\", \"contact\", \"contact\", \"conventional\", \"coop\", \"copies\", \"corn\", \"corn\", \"corn\", \"cornhas\", \"correct\", \"cos\", \"could\", \"could\", \"could\", \"could\", \"couple\", \"create\", \"credit\", \"credit\", \"credits\", \"criders\", \"crm\", \"crop\", \"customer\", \"customer\", \"customer\", \"dairys\", \"dale\", \"damaged\", \"dan\", \"daryls\", \"date\", \"dawley\", \"day\", \"deadline\", \"dealer\", \"dealership\", \"dealership\", \"dealership\", \"dealership\", \"deancrest\", \"debra\", \"deleted\", \"deliveries\", \"delivery\", \"dennis\", \"desk\", \"details\", \"details\", \"determine\", \"devans\", \"didnt\", \"different\", \"direct\", \"discounts\", \"discussion\", \"dj\", \"dlr\", \"dont\", \"double\", \"dsm\", \"dsm\", \"duckworth\", \"due\", \"due\", \"either\", \"elvin\", \"email\", \"email\", \"email\", \"emailed\", \"emailing\", \"empty\", \"emulated\", \"enter\", \"enter\", \"entered\", \"entered\", \"entities\", \"error\", \"error\", \"everything\", \"everything\", \"exists\", \"expensive\", \"extra\", \"familiar\", \"farm\", \"farm\", \"farm\", \"farms\", \"farms\", \"fc\", \"figure\", \"file\", \"financing\", \"first\", \"first\", \"flagged\", \"fnd\", \"following\", \"following\", \"forward\", \"frank\", \"fs\", \"fulfilled\", \"full\", \"full\", \"full\", \"get\", \"get\", \"get\", \"getting\", \"getting\", \"getting\", \"getting\", \"give\", \"go\", \"going\", \"got\", \"got\", \"gotten\", \"gpos\", \"gpos\", \"graded\", \"grant\", \"great\", \"grower\", \"grower\", \"grower\", \"grower\", \"grower\", \"grower\", \"growers\", \"growers\", \"hall\", \"happening\", \"heidi\", \"help\", \"help\", \"help\", \"help\", \"hes\", \"hesterman\", \"hill\", \"hour\", \"hourigans\", \"however\", \"howry\", \"hub\", \"hubner\", \"hunter\", \"hwy\", \"hybrid\", \"hybrids\", \"id\", \"id\", \"im\", \"inboundhe\", \"information\", \"information\", \"information\", \"inventory\", \"invoice\", \"invoices\", \"invoices\", \"invoices\", \"isa\", \"isa\", \"issue\", \"issues\", \"issues\", \"issues\", \"janet\", \"jason\", \"jeff\", \"jim\", \"jim\", \"john\", \"jon\", \"jon\", \"jonathan\", \"jonathan\", \"joseph_dewayne\", \"justin\", \"karen\", \"katherine\", \"keith\", \"ken\", \"kevin\", \"know\", \"know\", \"know\", \"know\", \"know\", \"know\", \"kris\", \"kristina\", \"lance\", \"lane\", \"large\", \"last\", \"laura\", \"lcr\", \"leaving\", \"left\", \"left\", \"less\", \"let\", \"let\", \"like\", \"like\", \"linville\", \"lisa\", \"list\", \"llc\", \"load\", \"location\", \"locations\", \"locked\", \"login\", \"long\", \"longer\", \"look\", \"looking\", \"looking\", \"looking\", \"lot\", \"make\", \"make\", \"maple\", \"march\", \"matching\", \"matt\", \"may\", \"mbsd\", \"meadows\", \"meant\", \"melicia\", \"mercer\", \"merle\", \"message\", \"micheal\", \"might\", \"misshipped\", \"missing\", \"mitchellville\", \"mo\", \"money\", \"monsanto\", \"monsanto\", \"monsanto\", \"mymon\", \"mymonsanto\", \"mymonsanto\", \"mymonsanto\", \"myron\", \"names\", \"nan\", \"nc\", \"need\", \"needed\", \"needed\", \"needed\", \"needed\", \"needed\", \"needs\", \"needs\", \"needs\", \"needs\", \"needs\", \"new\", \"new\", \"new\", \"none\", \"noticed\", \"num\", \"numbersneed\", \"ny\", \"oas\", \"ocker\", \"office\", \"ok\", \"ok\", \"open\", \"order\", \"order\", \"order\", \"ordered\", \"ordering\", \"orders\", \"orders\", \"orders\", \"osborne\", \"outstanding\", \"overnight\", \"overweight\", \"owes\", \"paid\", \"palletize\", \"pallets\", \"palmer\", \"paper\", \"paperwork\", \"partner\", \"passed\", \"password\", \"pat\", \"path\", \"pay\", \"payment\", \"payment\", \"payments\", \"pending\", \"per\", \"personal\", \"persontwo\", \"perspective\", \"pick\", \"pinecroft\", \"place\", \"placed\", \"plan\", \"plant\", \"planting\", \"please\", \"please\", \"po\", \"possible\", \"posted\", \"prdt\", \"prefer\", \"prefer\", \"preference\", \"presently\", \"price\", \"pricing\", \"printing\", \"prior\", \"prioritize\", \"production\", \"program\", \"pruden\", \"pull\", \"purchased\", \"pure\", \"put\", \"put\", \"put\", \"questions\", \"quite\", \"ready\", \"ready\", \"really\", \"reason\", \"receiving\", \"receiving\", \"refund\", \"regarding\", \"registering\", \"reiff\", \"replace\", \"replaced\", \"report\", \"request\", \"requested\", \"requested\", \"required\", \"research\", \"return\", \"returned\", \"returns\", \"review\", \"reys\", \"richard\", \"richards\", \"rick\", \"rod\", \"roger\", \"roll\", \"ron\", \"said\", \"sara\", \"saying\", \"schedule\", \"scheduled\", \"scott\", \"screen\", \"screen\", \"see\", \"see\", \"see\", \"see\", \"seed\", \"seed\", \"seed\", \"seed\", \"select\", \"send\", \"send\", \"sent\", \"sent\", \"sent\", \"set\", \"sewell\", \"ship\", \"shipped\", \"shipped\", \"shipping\", \"short\", \"showed\", \"showing\", \"showing\", \"side\", \"since\", \"size\", \"smith\", \"sold\", \"something\", \"something\", \"soon\", \"sounded\", \"ss\", \"st\", \"standard\", \"start\", \"still\", \"stock\", \"stock\", \"store\", \"stuart\", \"sub\", \"system\", \"take\", \"take\", \"taken\", \"talk\", \"talked\", \"team\", \"territory\", \"tfc\", \"thank\", \"thanks\", \"thought\", \"tim\", \"time\", \"time\", \"tl\", \"told\", \"told\", \"told\", \"tomorrow\", \"tony\", \"transaction\", \"transfer\", \"transferred\", \"transferring\", \"transfers\", \"trevor\", \"tried\", \"troys\", \"truck\", \"trucking\", \"try\", \"trying\", \"trying\", \"twin\", \"tyler\", \"unable\", \"undershipped\", \"united\", \"units\", \"update\", \"update\", \"use\", \"use\", \"used\", \"user\", \"user\", \"user\", \"users\", \"verify\", \"verify\", \"vision\", \"vm\", \"voicemail\", \"voicemail\", \"vu\", \"waddle\", \"wait\", \"walter\", \"walter\", \"want\", \"wanted\", \"wanted\", \"wanted\", \"wanted\", \"wanting\", \"wants\", \"wasnt\", \"way\", \"way\", \"week\", \"week\", \"week\", \"weigle\", \"went\", \"west\", \"whats\", \"winfield\", \"winfield\", \"winfield\", \"winfield\", \"work\", \"worked\", \"would\", \"would\", \"would\", \"would\", \"would\", \"wykoff\", \"year\", \"yet\", \"ylaspick\", \"zeiset\"]}, \"R\": 30, \"lambda.step\": 0.01, \"plot.opts\": {\"xlab\": \"PC1\", \"ylab\": \"PC2\"}, \"topic.order\": [11, 7, 3, 1, 5, 6, 8, 12, 10, 9, 13, 14, 2, 4]};\n",
       "\n",
       "function LDAvis_load_lib(url, callback){\n",
       "  var s = document.createElement('script');\n",
       "  s.src = url;\n",
       "  s.async = true;\n",
       "  s.onreadystatechange = s.onload = callback;\n",
       "  s.onerror = function(){console.warn(\"failed to load library \" + url);};\n",
       "  document.getElementsByTagName(\"head\")[0].appendChild(s);\n",
       "}\n",
       "\n",
       "if(typeof(LDAvis) !== \"undefined\"){\n",
       "   // already loaded: just create the visualization\n",
       "   !function(LDAvis){\n",
       "       new LDAvis(\"#\" + \"ldavis_el119562280569045406787868\", ldavis_el119562280569045406787868_data);\n",
       "   }(LDAvis);\n",
       "}else if(typeof define === \"function\" && define.amd){\n",
       "   // require.js is available: use it to load d3/LDAvis\n",
       "   require.config({paths: {d3: \"https://cdnjs.cloudflare.com/ajax/libs/d3/3.5.5/d3.min\"}});\n",
       "   require([\"d3\"], function(d3){\n",
       "      window.d3 = d3;\n",
       "      LDAvis_load_lib(\"https://cdn.rawgit.com/bmabey/pyLDAvis/files/ldavis.v1.0.0.js\", function(){\n",
       "        new LDAvis(\"#\" + \"ldavis_el119562280569045406787868\", ldavis_el119562280569045406787868_data);\n",
       "      });\n",
       "    });\n",
       "}else{\n",
       "    // require.js not available: dynamically load d3 & LDAvis\n",
       "    LDAvis_load_lib(\"https://cdnjs.cloudflare.com/ajax/libs/d3/3.5.5/d3.min.js\", function(){\n",
       "         LDAvis_load_lib(\"https://cdn.rawgit.com/bmabey/pyLDAvis/files/ldavis.v1.0.0.js\", function(){\n",
       "                 new LDAvis(\"#\" + \"ldavis_el119562280569045406787868\", ldavis_el119562280569045406787868_data);\n",
       "            })\n",
       "         });\n",
       "}\n",
       "</script>"
      ],
      "text/plain": [
       "PreparedData(topic_coordinates=              x         y  topics  cluster       Freq\n",
       "topic                                                \n",
       "10     0.085919 -0.258135       1        1  12.859993\n",
       "6      0.057303  0.065845       2        1  12.089357\n",
       "2     -0.379112 -0.096792       3        1  11.912855\n",
       "0      0.070961  0.037800       4        1  10.512471\n",
       "4      0.042836 -0.127435       5        1   9.171165\n",
       "5      0.100521 -0.126381       6        1   8.104677\n",
       "7     -0.059557  0.083104       7        1   6.554092\n",
       "11     0.039279  0.002596       8        1   6.485777\n",
       "9     -0.005629  0.105788       9        1   4.547904\n",
       "8     -0.013256  0.046259      10        1   4.201743\n",
       "12     0.030709  0.045383      11        1   3.942891\n",
       "13     0.002912  0.105000      12        1   3.503314\n",
       "1      0.015659  0.049437      13        1   3.227460\n",
       "3      0.011456  0.067531      14        1   2.886307, topic_info=     Category       Freq         Term      Total  loglift  logprob\n",
       "term                                                              \n",
       "247   Default  41.000000  transaction  41.000000  30.0000  30.0000\n",
       "379   Default  40.000000           po  40.000000  29.0000  29.0000\n",
       "380   Default  40.000000     required  40.000000  28.0000  28.0000\n",
       "329   Default  47.000000       please  47.000000  27.0000  27.0000\n",
       "468   Default  36.000000        laura  36.000000  26.0000  26.0000\n",
       "133   Default  41.000000         bags  41.000000  25.0000  25.0000\n",
       "474   Default  33.000000       update  33.000000  24.0000  24.0000\n",
       "87    Default  33.000000         send  33.000000  23.0000  23.0000\n",
       "465   Default  29.000000       bucket  29.000000  22.0000  22.0000\n",
       "476   Default  29.000000     ylaspick  29.000000  21.0000  21.0000\n",
       "207   Default  29.000000         date  29.000000  20.0000  20.0000\n",
       "195   Default  29.000000     complete  29.000000  19.0000  19.0000\n",
       "475   Default  26.000000       weigle  26.000000  18.0000  18.0000\n",
       "227   Default  30.000000          let  30.000000  17.0000  17.0000\n",
       "146   Default  35.000000        order  35.000000  16.0000  16.0000\n",
       "295   Default  24.000000       return  24.000000  15.0000  15.0000\n",
       "44    Default  14.000000       access  14.000000  14.0000  14.0000\n",
       "12    Default  16.000000   mymonsanto  16.000000  13.0000  13.0000\n",
       "661   Default  12.000000         said  12.000000  12.0000  12.0000\n",
       "116   Default  34.000000         know  34.000000  11.0000  11.0000\n",
       "63    Default  21.000000         call  21.000000  10.0000  10.0000\n",
       "0     Default  49.000000       called  49.000000   9.0000   9.0000\n",
       "355   Default  13.000000          nan  13.000000   8.0000   8.0000\n",
       "384   Default  12.000000         ship  12.000000   7.0000   7.0000\n",
       "22    Default  27.000000      account  27.000000   6.0000   6.0000\n",
       "60    Default  33.000000        would  33.000000   5.0000   5.0000\n",
       "29    Default  17.000000       dealer  17.000000   4.0000   4.0000\n",
       "531   Default  14.000000        check  14.000000   3.0000   3.0000\n",
       "62    Default  25.000000         back  25.000000   2.0000   2.0000\n",
       "5     Default  20.000000     winfield  20.000000   1.0000   1.0000\n",
       "...       ...        ...          ...        ...      ...      ...\n",
       "463   Topic14   1.030237    afternoon   1.739115   3.0216  -4.6239\n",
       "45    Topic14   0.826257         path   1.573493   2.9010  -4.8446\n",
       "680   Topic14   0.622154        maple   1.331028   2.7847  -5.1283\n",
       "678   Topic14   0.622154       cancel   1.331028   2.7847  -5.1283\n",
       "681   Topic14   0.622154         reys   1.331028   2.7847  -5.1283\n",
       "665   Topic14   0.622145      replace   1.331028   2.7847  -5.1283\n",
       "663   Topic14   0.622145      damaged   1.331028   2.7847  -5.1283\n",
       "90    Topic14   3.177516     invoices   6.925054   2.7661  -3.4976\n",
       "212   Topic14   0.456652          mon   1.165524   2.6082  -5.4376\n",
       "208   Topic14   0.456652          inv   1.165524   2.6082  -5.4376\n",
       "216   Topic14   0.456652       signed   1.165524   2.6082  -5.4376\n",
       "334   Topic14   0.456652     kathleen   1.165524   2.6082  -5.4376\n",
       "205   Topic14   0.456652          bol   1.165524   2.6082  -5.4376\n",
       "206   Topic14   0.456652   clarksdale   1.165524   2.6082  -5.4376\n",
       "210   Topic14   0.456652     matthews   1.165524   2.6082  -5.4376\n",
       "335   Topic14   0.456652        works   1.165524   2.6082  -5.4376\n",
       "209   Topic14   0.456652          jan   1.165524   2.6082  -5.4376\n",
       "170   Topic14   0.456652       daniel   1.165524   2.6082  -5.4376\n",
       "171   Topic14   0.456652          soy   1.165524   2.6082  -5.4376\n",
       "89    Topic14   1.955914      details   5.010258   2.6046  -3.9829\n",
       "9     Topic14   3.449700         help  10.482432   2.4338  -3.4154\n",
       "13    Topic14   3.023065       needed  13.486183   2.0498  -3.5475\n",
       "54    Topic14   1.169845     monsanto   8.231263   1.5941  -4.4969\n",
       "39    Topic14   0.863032       credit   4.495837   1.8947  -4.8010\n",
       "5     Topic14   1.748244     winfield  20.295677   1.0934  -4.0951\n",
       "467   Topic14   0.771084        first   3.861248   1.9342  -4.9137\n",
       "0     Topic14   1.516516       called  49.825020   0.0531  -4.2373\n",
       "85    Topic14   0.853642        needs  10.568956   1.0290  -4.8120\n",
       "195   Topic14   0.682894     complete  29.638180  -0.2253  -5.0351\n",
       "215   Topic14   0.517064      shipped   8.331914   0.7655  -5.3133\n",
       "\n",
       "[610 rows x 6 columns], token_table=      Topic      Freq        Term\n",
       "term                             \n",
       "950       8  0.820519          aa\n",
       "106       4  0.813086        able\n",
       "106      13  0.116155        able\n",
       "165       4  0.757601       acces\n",
       "44        9  0.984430      access\n",
       "21        9  0.841311   accessing\n",
       "22        1  0.109879     account\n",
       "22        2  0.183132     account\n",
       "22        3  0.036626     account\n",
       "22        5  0.402891     account\n",
       "22        8  0.109879     account\n",
       "22       11  0.183132     account\n",
       "1043     12  0.543892         act\n",
       "538       1  0.814298    actually\n",
       "254       4  0.947381         add\n",
       "574       1  0.923436       added\n",
       "739      14  0.765947  additional\n",
       "639       5  0.647861     address\n",
       "705      11  0.531042       admin\n",
       "1034     10  0.525360     advised\n",
       "23        3  0.619474         afc\n",
       "463      14  0.575005   afternoon\n",
       "47        7  0.792280   agreement\n",
       "885       3  0.509743       agric\n",
       "1024     12  0.543893      albano\n",
       "863       5  0.830821     alfalfa\n",
       "492       6  0.819977     already\n",
       "193       1  0.834681        also\n",
       "193      13  0.119240        also\n",
       "674       9  0.470607       alton\n",
       "...     ...       ...         ...\n",
       "119       8  0.185914      wanted\n",
       "119      10  0.185914      wanted\n",
       "555       1  0.929416     wanting\n",
       "249       2  0.972592       wants\n",
       "514       6  0.958338       wasnt\n",
       "361      11  0.262476         way\n",
       "361      12  0.524952         way\n",
       "366       8  0.240827        week\n",
       "366      10  0.481655        week\n",
       "366      12  0.240827        week\n",
       "475       3  0.989921      weigle\n",
       "363      11  0.834081        went\n",
       "354      13  0.636494        west\n",
       "966      11  0.496639       whats\n",
       "5         2  0.689802    winfield\n",
       "5         9  0.147815    winfield\n",
       "5        12  0.049272    winfield\n",
       "5        14  0.098543    winfield\n",
       "374      10  0.910256        work\n",
       "941       5  0.806483      worked\n",
       "60        1  0.385442       would\n",
       "60        3  0.059299       would\n",
       "60        5  0.355793       would\n",
       "60        6  0.177896       would\n",
       "60        7  0.029649       would\n",
       "253       9  0.518772      wykoff\n",
       "491      11  0.731273        year\n",
       "822      10  0.560400         yet\n",
       "476       3  0.987035    ylaspick\n",
       "559       3  0.790594      zeiset\n",
       "\n",
       "[644 rows x 3 columns], R=30, lambda_step=0.01, plot_opts={'xlab': 'PC1', 'ylab': 'PC2'}, topic_order=[11, 7, 3, 1, 5, 6, 8, 12, 10, 9, 13, 14, 2, 4])"
      ]
     },
     "execution_count": 63,
     "metadata": {},
     "output_type": "execute_result"
    }
   ],
   "source": [
    "import pyLDAvis\n",
    "import pyLDAvis.gensim  # don't skip this\n",
    "import matplotlib.pyplot as plt\n",
    "# Visualize the topics\n",
    "pyLDAvis.enable_notebook()\n",
    "vis = pyLDAvis.gensim.prepare(lda_model, doc_term_matrix, dictionary)\n",
    "vis"
   ]
  },
  {
   "cell_type": "code",
   "execution_count": 64,
   "metadata": {},
   "outputs": [],
   "source": [
    "def compute_coherence_values(dictionary, corpus, texts, limit, start=2, step=3):\n",
    "    \"\"\"\n",
    "    Compute c_v coherence for various number of topics\n",
    "\n",
    "    Parameters:\n",
    "    ----------\n",
    "    dictionary : Gensim dictionary\n",
    "    corpus : Gensim corpus\n",
    "    texts : List of input texts\n",
    "    limit : Max num of topics\n",
    "\n",
    "    Returns:\n",
    "    -------\n",
    "    model_list : List of LDA topic models\n",
    "    coherence_values : Coherence values corresponding to the LDA model with respective number of topics\n",
    "    \"\"\"\n",
    "    coherence_values = []\n",
    "    model_list = []\n",
    "    for num_topics in range(start, limit, step):\n",
    "        model = gensim.models.LdaModel( corpus=corpus, num_topics=num_topics, id2word=id2word)\n",
    "        model_list.append(model)\n",
    "        coherencemodel = CoherenceModel(model=model, texts=texts, dictionary=dictionary, coherence='c_v')\n",
    "        coherence_values.append(coherencemodel.get_coherence())\n",
    "\n",
    "    return model_list, coherence_values"
   ]
  },
  {
   "cell_type": "markdown",
   "metadata": {},
   "source": [
    "# Compute Coherence values with different number of topics and find the optimum number of topics"
   ]
  },
  {
   "cell_type": "code",
   "execution_count": 35,
   "metadata": {},
   "outputs": [],
   "source": [
    "# Can take a long time to run.\n",
    "model_list, coherence_values = compute_coherence_values(dictionary=id2word, corpus=corpus, texts=data_words_bigrams, start=5, limit=15, \n",
    "                                                        step=1)"
   ]
  },
  {
   "cell_type": "markdown",
   "metadata": {},
   "source": [
    "# Visualize the number of topics vs Coherence score"
   ]
  },
  {
   "cell_type": "code",
   "execution_count": 36,
   "metadata": {},
   "outputs": [
    {
     "data": {
      "image/png": "[encoded data removed]",
      "text/plain": [
       "<Figure size 432x288 with 1 Axes>"
      ]
     },
     "metadata": {},
     "output_type": "display_data"
    }
   ],
   "source": [
    "# Show graph\n",
    "limit=15; start=5; step=1;\n",
    "x = range(start, limit, step)\n",
    "plt.plot(x, coherence_values)\n",
    "plt.xlabel(\"Num Topics\")\n",
    "plt.ylabel(\"Coherence score\")\n",
    "plt.legend((\"coherence_values\"), loc='best')\n",
    "plt.show()"
   ]
  },
  {
   "cell_type": "code",
   "execution_count": 37,
   "metadata": {},
   "outputs": [
    {
     "name": "stdout",
     "output_type": "stream",
     "text": [
      "Num Topics = 5  has Coherence Value of 0.3826\n",
      "Num Topics = 6  has Coherence Value of 0.3917\n",
      "Num Topics = 7  has Coherence Value of 0.397\n",
      "Num Topics = 8  has Coherence Value of 0.3847\n",
      "Num Topics = 9  has Coherence Value of 0.4209\n",
      "Num Topics = 10  has Coherence Value of 0.4092\n",
      "Num Topics = 11  has Coherence Value of 0.4228\n",
      "Num Topics = 12  has Coherence Value of 0.4362\n",
      "Num Topics = 13  has Coherence Value of 0.441\n",
      "Num Topics = 14  has Coherence Value of 0.4188\n"
     ]
    }
   ],
   "source": [
    "# Print the coherence scores\n",
    "for m, cv in zip(x, coherence_values):\n",
    "    print(\"Num Topics =\", m, \" has Coherence Value of\", round(cv, 4))"
   ]
  },
  {
   "cell_type": "markdown",
   "metadata": {},
   "source": [
    "# Select the best model and print the topics"
   ]
  },
  {
   "cell_type": "code",
   "execution_count": 38,
   "metadata": {},
   "outputs": [
    {
     "name": "stdout",
     "output_type": "stream",
     "text": [
      "[(0, '0.025*\"bags\" + 0.021*\"order\" + 0.021*\"customer\"'),\n",
      " (1, '0.019*\"called\" + 0.017*\"account\" + 0.015*\"would\"'),\n",
      " (2, '0.052*\"user\" + 0.034*\"mymonsanto\" + 0.023*\"id\"'),\n",
      " (3, '0.016*\"return\" + 0.015*\"mymonsanto\" + 0.015*\"called\"'),\n",
      " (4, '0.015*\"winfield\" + 0.014*\"ship\" + 0.014*\"would\"'),\n",
      " (5, '0.024*\"called\" + 0.017*\"know\" + 0.012*\"let\"'),\n",
      " (6, '0.020*\"called\" + 0.018*\"order\" + 0.017*\"winfield\"'),\n",
      " (7, '0.040*\"please\" + 0.033*\"laura\" + 0.028*\"bucket\"'),\n",
      " (8, '0.040*\"laura\" + 0.039*\"please\" + 0.032*\"send\"'),\n",
      " (9, '0.051*\"po\" + 0.051*\"transaction\" + 0.051*\"required\"'),\n",
      " (10, '0.027*\"complete\" + 0.025*\"please\" + 0.023*\"send\"'),\n",
      " (11, '0.077*\"required\" + 0.077*\"po\" + 0.077*\"transaction\"'),\n",
      " (12, '0.020*\"refund\" + 0.018*\"called\" + 0.017*\"sent\"')]\n"
     ]
    }
   ],
   "source": [
    "# Select the model and print the topics\n",
    "optimal_model = model_list[8]\n",
    "model_topics = optimal_model.show_topics(formatted=False)\n",
    "pprint(optimal_model.print_topics(num_words=3))"
   ]
  },
  {
   "cell_type": "markdown",
   "metadata": {},
   "source": [
    "# Print the original text with the topic keywords"
   ]
  },
  {
   "cell_type": "code",
   "execution_count": 39,
   "metadata": {},
   "outputs": [
    {
     "data": {
      "text/html": [
       "<div>\n",
       "<style scoped>\n",
       "    .dataframe tbody tr th:only-of-type {\n",
       "        vertical-align: middle;\n",
       "    }\n",
       "\n",
       "    .dataframe tbody tr th {\n",
       "        vertical-align: top;\n",
       "    }\n",
       "\n",
       "    .dataframe thead th {\n",
       "        text-align: right;\n",
       "    }\n",
       "</style>\n",
       "<table border=\"1\" class=\"dataframe\">\n",
       "  <thead>\n",
       "    <tr style=\"text-align: right;\">\n",
       "      <th></th>\n",
       "      <th>Document_No</th>\n",
       "      <th>Dominant_Topic</th>\n",
       "      <th>Topic_Perc_Contrib</th>\n",
       "      <th>Keywords</th>\n",
       "      <th>Text</th>\n",
       "    </tr>\n",
       "  </thead>\n",
       "  <tbody>\n",
       "    <tr>\n",
       "      <th>0</th>\n",
       "      <td>0</td>\n",
       "      <td>5.0</td>\n",
       "      <td>0.8681</td>\n",
       "      <td>called, know, let, back, refund, like, check, ...</td>\n",
       "      <td>valerie called duplicate credits winfield stat...</td>\n",
       "    </tr>\n",
       "    <tr>\n",
       "      <th>1</th>\n",
       "      <td>1</td>\n",
       "      <td>3.0</td>\n",
       "      <td>0.9161</td>\n",
       "      <td>return, mymonsanto, called, know, connect, bag...</td>\n",
       "      <td>lisa called entered farmflex invoice error nee...</td>\n",
       "    </tr>\n",
       "    <tr>\n",
       "      <th>2</th>\n",
       "      <td>2</td>\n",
       "      <td>4.0</td>\n",
       "      <td>0.9077</td>\n",
       "      <td>winfield, ship, would, needed, bags, businessl...</td>\n",
       "      <td>lisa waddle needed assistance registering winf...</td>\n",
       "    </tr>\n",
       "    <tr>\n",
       "      <th>3</th>\n",
       "      <td>3</td>\n",
       "      <td>5.0</td>\n",
       "      <td>0.9702</td>\n",
       "      <td>called, know, let, back, refund, like, check, ...</td>\n",
       "      <td>rahul darrell scott sap agri afc decatur acces...</td>\n",
       "    </tr>\n",
       "    <tr>\n",
       "      <th>4</th>\n",
       "      <td>4</td>\n",
       "      <td>12.0</td>\n",
       "      <td>0.8681</td>\n",
       "      <td>refund, called, sent, statement, balance, grow...</td>\n",
       "      <td>jennie looking farmflex credit three growers</td>\n",
       "    </tr>\n",
       "    <tr>\n",
       "      <th>5</th>\n",
       "      <td>5</td>\n",
       "      <td>8.0</td>\n",
       "      <td>0.5100</td>\n",
       "      <td>laura, please, send, date, complete, update, b...</td>\n",
       "      <td>vicki needed help access new path winfield bus...</td>\n",
       "    </tr>\n",
       "    <tr>\n",
       "      <th>6</th>\n",
       "      <td>6</td>\n",
       "      <td>3.0</td>\n",
       "      <td>0.9423</td>\n",
       "      <td>return, mymonsanto, called, know, connect, bag...</td>\n",
       "      <td>talked charles tfc presently carroll fc monsan...</td>\n",
       "    </tr>\n",
       "    <tr>\n",
       "      <th>7</th>\n",
       "      <td>7</td>\n",
       "      <td>4.0</td>\n",
       "      <td>0.9161</td>\n",
       "      <td>winfield, ship, would, needed, bags, businessl...</td>\n",
       "      <td>deltapine gpos reporting showing agrimine megh...</td>\n",
       "    </tr>\n",
       "    <tr>\n",
       "      <th>8</th>\n",
       "      <td>8</td>\n",
       "      <td>3.0</td>\n",
       "      <td>0.4624</td>\n",
       "      <td>return, mymonsanto, called, know, connect, bag...</td>\n",
       "      <td>roman needed help new path gpos access stock t...</td>\n",
       "    </tr>\n",
       "    <tr>\n",
       "      <th>9</th>\n",
       "      <td>9</td>\n",
       "      <td>2.0</td>\n",
       "      <td>0.8681</td>\n",
       "      <td>user, mymonsanto, id, grower, access, acces, e...</td>\n",
       "      <td>cliff needed pricing emailing price cards</td>\n",
       "    </tr>\n",
       "  </tbody>\n",
       "</table>\n",
       "</div>"
      ],
      "text/plain": [
       "   Document_No  Dominant_Topic  Topic_Perc_Contrib  \\\n",
       "0            0             5.0              0.8681   \n",
       "1            1             3.0              0.9161   \n",
       "2            2             4.0              0.9077   \n",
       "3            3             5.0              0.9702   \n",
       "4            4            12.0              0.8681   \n",
       "5            5             8.0              0.5100   \n",
       "6            6             3.0              0.9423   \n",
       "7            7             4.0              0.9161   \n",
       "8            8             3.0              0.4624   \n",
       "9            9             2.0              0.8681   \n",
       "\n",
       "                                            Keywords  \\\n",
       "0  called, know, let, back, refund, like, check, ...   \n",
       "1  return, mymonsanto, called, know, connect, bag...   \n",
       "2  winfield, ship, would, needed, bags, businessl...   \n",
       "3  called, know, let, back, refund, like, check, ...   \n",
       "4  refund, called, sent, statement, balance, grow...   \n",
       "5  laura, please, send, date, complete, update, b...   \n",
       "6  return, mymonsanto, called, know, connect, bag...   \n",
       "7  winfield, ship, would, needed, bags, businessl...   \n",
       "8  return, mymonsanto, called, know, connect, bag...   \n",
       "9  user, mymonsanto, id, grower, access, acces, e...   \n",
       "\n",
       "                                                Text  \n",
       "0  valerie called duplicate credits winfield stat...  \n",
       "1  lisa called entered farmflex invoice error nee...  \n",
       "2  lisa waddle needed assistance registering winf...  \n",
       "3  rahul darrell scott sap agri afc decatur acces...  \n",
       "4       jennie looking farmflex credit three growers  \n",
       "5  vicki needed help access new path winfield bus...  \n",
       "6  talked charles tfc presently carroll fc monsan...  \n",
       "7  deltapine gpos reporting showing agrimine megh...  \n",
       "8  roman needed help new path gpos access stock t...  \n",
       "9          cliff needed pricing emailing price cards  "
      ]
     },
     "execution_count": 39,
     "metadata": {},
     "output_type": "execute_result"
    }
   ],
   "source": [
    "def format_topics_sentences(ldamodel=lda_model, corpus=corpus, texts=data):\n",
    "    # Init output\n",
    "    sent_topics_df = pd.DataFrame()\n",
    "\n",
    "    # Get main topic in each document\n",
    "    for i, row in enumerate(ldamodel[corpus]):\n",
    "        row = sorted(row, key=lambda x: (x[1]), reverse=True)\n",
    "        # Get the Dominant topic, Perc Contribution and Keywords for each document\n",
    "        for j, (topic_num, prop_topic) in enumerate(row):\n",
    "            if j == 0:  # => dominant topic\n",
    "                wp = ldamodel.show_topic(topic_num)\n",
    "                topic_keywords = \", \".join([word for word, prop in wp])\n",
    "                sent_topics_df = sent_topics_df.append(pd.Series([int(topic_num), round(prop_topic,4), topic_keywords]), ignore_index=True)\n",
    "            else:\n",
    "                break\n",
    "    sent_topics_df.columns = ['Dominant_Topic', 'Perc_Contribution', 'Topic_Keywords']\n",
    "\n",
    "    # Add original text to the end of the output\n",
    "    contents = pd.Series(texts)\n",
    "    sent_topics_df = pd.concat([sent_topics_df, contents], axis=1)\n",
    "    return(sent_topics_df)\n",
    "\n",
    "\n",
    "df_topic_sents_keywords = format_topics_sentences(ldamodel=optimal_model, corpus=corpus, texts=data)\n",
    "\n",
    "# Format\n",
    "df_dominant_topic = df_topic_sents_keywords.reset_index()\n",
    "df_dominant_topic.columns = ['Document_No', 'Dominant_Topic', 'Topic_Perc_Contrib', 'Keywords', 'Text']\n",
    "\n",
    "# Show\n",
    "df_dominant_topic.head(10)"
   ]
  },
  {
   "cell_type": "code",
   "execution_count": 81,
   "metadata": {},
   "outputs": [
    {
     "name": "stdout",
     "output_type": "stream",
     "text": [
      "valerie called duplicate credits winfield statement\n"
     ]
    }
   ],
   "source": [
    "print(data[0])"
   ]
  },
  {
   "cell_type": "code",
   "execution_count": 82,
   "metadata": {},
   "outputs": [
    {
     "name": "stdout",
     "output_type": "stream",
     "text": [
      "lisa called entered farmflex invoice error needed help reverse mymonsanto\n"
     ]
    }
   ],
   "source": [
    "print(data[1])"
   ]
  },
  {
   "cell_type": "code",
   "execution_count": 83,
   "metadata": {},
   "outputs": [
    {
     "name": "stdout",
     "output_type": "stream",
     "text": [
      "lisa waddle needed assistance registering winfield businesslink new user\n"
     ]
    }
   ],
   "source": [
    "print(data[2])"
   ]
  },
  {
   "cell_type": "code",
   "execution_count": 84,
   "metadata": {},
   "outputs": [
    {
     "name": "stdout",
     "output_type": "stream",
     "text": [
      "rahul darrell scott sap agri afc decatur accessing mymonsanto connect error dealer orders mymonsanto error account located coastal region dealer enters dealer orders grower orders sap agri afc decatur al\n"
     ]
    }
   ],
   "source": [
    "print(data[3])"
   ]
  },
  {
   "cell_type": "code",
   "execution_count": 85,
   "metadata": {},
   "outputs": [
    {
     "name": "stdout",
     "output_type": "stream",
     "text": [
      "jennie looking farmflex credit three growers\n"
     ]
    }
   ],
   "source": [
    "print(data[4])"
   ]
  },
  {
   "cell_type": "code",
   "execution_count": null,
   "metadata": {},
   "outputs": [],
   "source": []
  }
 ],
 "metadata": {
  "anaconda-cloud": {},
  "kernelspec": {
   "display_name": "Python 3",
   "language": "python",
   "name": "python3"
  },
  "language_info": {
   "codemirror_mode": {
    "name": "ipython",
    "version": 3
   },
   "file_extension": ".py",
   "mimetype": "text/x-python",
   "name": "python",
   "nbconvert_exporter": "python",
   "pygments_lexer": "ipython3",
   "version": "3.6.5"
  }
 },
 "nbformat": 4,
 "nbformat_minor": 1
}
